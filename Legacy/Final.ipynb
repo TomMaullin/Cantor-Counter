{
 "cells": [
  {
   "cell_type": "markdown",
   "id": "c671ffac-5daa-4a39-ae57-f359af2b3e0a",
   "metadata": {},
   "source": [
    "# Counterexample X"
   ]
  },
  {
   "cell_type": "markdown",
   "id": "9d291dbf-585e-4ac8-b33e-ce412fdeecd6",
   "metadata": {},
   "source": [
    "### Installations"
   ]
  },
  {
   "cell_type": "markdown",
   "id": "830634f3-3ff1-48aa-adeb-3f2b4cf56e28",
   "metadata": {},
   "source": [
    "The below will install the necessary packages to run the notebook."
   ]
  },
  {
   "cell_type": "code",
   "execution_count": null,
   "id": "30400434-f52e-45e4-b782-18ca7610c8d1",
   "metadata": {},
   "outputs": [],
   "source": [
    "!pip install numpy\n",
    "!pip install matplotlib\n",
    "!pip install plotly\n",
    "!pip install scipy"
   ]
  },
  {
   "cell_type": "markdown",
   "id": "40affbfa-7655-4010-8320-713c6a032d05",
   "metadata": {},
   "source": [
    "The following block imports the relevant modules"
   ]
  },
  {
   "cell_type": "code",
   "execution_count": null,
   "id": "27e8be6f-5154-4f35-8ada-67a15306feec",
   "metadata": {},
   "outputs": [],
   "source": [
    "import numpy as np\n",
    "import matplotlib.pyplot as plt\n",
    "import plotly.graph_objects as go\n",
    "from scipy.integrate import cumulative_trapezoid\n",
    "import os\n",
    "os.environ[\"KMP_DUPLICATE_LIB_OK\"] = \"TRUE\""
   ]
  },
  {
   "cell_type": "markdown",
   "id": "55fa5662-bc1c-4e8a-a096-f5379cb901e0",
   "metadata": {},
   "source": [
    "The below helper functions will be useful later."
   ]
  },
  {
   "cell_type": "code",
   "execution_count": null,
   "id": "84a2973b-a161-4983-a1ce-418aee3db2c0",
   "metadata": {},
   "outputs": [],
   "source": []
  },
  {
   "cell_type": "code",
   "execution_count": null,
   "id": "d7806cc8-9ab6-4269-a7a5-d2a642ffdee7",
   "metadata": {},
   "outputs": [],
   "source": [
    "def plot_surface_3d(F_vals, x_vals, y_vals=None, downsample=1, title='Surface Plot', z_title='Z', sphere_radius=None):\n",
    "    \"\"\"\n",
    "    Plots a 3D surface for F_vals over the given x and y values.\n",
    "\n",
    "    Parameters:\n",
    "    - F_vals: 2D array of values representing F(x, y)\n",
    "    - x_vals: 1D array for x-axis (or 2d precomputed grid coordinates)\n",
    "    - y_vals: 1D array for y-axis (or 2d precomputed grid coordinates) (optional; defaults to x_vals)\n",
    "    - downsample: int factor to reduce resolution (e.g., 2 means every 2nd point)\n",
    "    - sphere_radius: float, optional — if provided, a translucent sphere of this radius is added\n",
    "    \"\"\"\n",
    "\n",
    "    if y_vals is None:\n",
    "        y_vals = x_vals\n",
    "\n",
    "    if y_vals.ndim != x_vals.ndim:\n",
    "        raise ValueError('x and y must have same number of dimensions.')\n",
    "\n",
    "    # Downsample data if needed\n",
    "    if downsample > 1:\n",
    "        F_vals = F_vals[::downsample, ::downsample]\n",
    "\n",
    "        if x_vals.ndim == 1:\n",
    "            x_vals = x_vals[::downsample]\n",
    "            y_vals = y_vals[::downsample]\n",
    "        else:\n",
    "            x_vals = x_vals[::downsample, ::downsample]\n",
    "            y_vals = y_vals[::downsample, ::downsample]\n",
    "\n",
    "    # Create 2D grid (X, Y)\n",
    "    if x_vals.ndim == 1:\n",
    "        X, Y = np.meshgrid(x_vals, y_vals, indexing='xy')\n",
    "    else:\n",
    "        X = x_vals\n",
    "        Y = y_vals\n",
    "\n",
    "    # Create surface plot list\n",
    "    surfaces = [\n",
    "        go.Surface(\n",
    "            x=X,\n",
    "            y=Y,\n",
    "            z=F_vals,\n",
    "            colorscale='Viridis',\n",
    "            name='Main Surface'\n",
    "        )\n",
    "    ]\n",
    "\n",
    "    # Optionally add a translucent sphere\n",
    "    if sphere_radius is not None:\n",
    "        u = np.linspace(0, np.pi, 50)\n",
    "        v = np.linspace(0, 2 * np.pi, 50)\n",
    "        U, V = np.meshgrid(u, v)\n",
    "        Xs = sphere_radius * np.sin(U) * np.cos(V)\n",
    "        Ys = sphere_radius * np.sin(U) * np.sin(V)\n",
    "        Zs = sphere_radius * np.cos(U)\n",
    "\n",
    "        surfaces.append(\n",
    "            go.Surface(\n",
    "                x=Xs,\n",
    "                y=Ys,\n",
    "                z=Zs,\n",
    "                opacity=0.3,\n",
    "                showscale=False,\n",
    "                colorscale='Blues',\n",
    "                name=f'Sphere r={sphere_radius}'\n",
    "            )\n",
    "        )\n",
    "\n",
    "    # Create figure\n",
    "    fig = go.Figure(data=surfaces)\n",
    "\n",
    "    # Layout\n",
    "    fig.update_layout(\n",
    "        title=title,\n",
    "        scene=dict(\n",
    "            xaxis_title='x',\n",
    "            yaxis_title='y',\n",
    "            zaxis_title=z_title\n",
    "        ),\n",
    "        autosize=True,\n",
    "        width=800,\n",
    "        height=700\n",
    "    )\n",
    "\n",
    "    fig.show()\n"
   ]
  },
  {
   "cell_type": "markdown",
   "id": "2c309ab2-98ad-409a-acf0-8c288a71b7c7",
   "metadata": {},
   "source": [
    "### Introduction"
   ]
  },
  {
   "cell_type": "markdown",
   "id": "cf99ec9e-60a9-493d-8e45-2767d43c0bc1",
   "metadata": {},
   "source": [
    "In this notebook, we shall construct a $C^1$ function $f:\\mathbb{R}^3\\rightarrow \\mathbb{R}$ with the following properties:\n",
    "\n",
    " - $f(0,0,0)=0$.\n",
    " - The only critical point of $f$ occurs at the origin.\n",
    " - for every $\\epsilon > 0$, the zero level set $f^{-1}(0)$ intersects the boundary of the ball $\\partial B_\\epsilon \\subset \\mathbb{R}^3$ tangentially."
   ]
  },
  {
   "cell_type": "markdown",
   "id": "b83652b3-e7e1-4852-8931-504c0ba2c601",
   "metadata": {},
   "source": [
    "To achieve this goal, we will build the function in three steps:\n",
    "\n",
    "- **Step 1:** Construct a $C^1$ function $H : [0,1]^2 \\rightarrow [0,1]$ with a critical point at every level $z \\in [0,1]$. That is, for each $z \\in [0,1]$, there exists $(x, y) \\in [0,1]^2$ such that $H(x, y) = z$ and $\\nabla H(x, y) = [0, 0]^\\top$.\n",
    "\n",
    "- **Step 2:** Construct a function $\\tilde{f} : [0,1]^3 \\rightarrow [0,1]$, with certain useful properties, such that $\\tilde{f}^{-1}(0)$ contains the graph of $H$.\n",
    "\n",
    "- **Step 3:** Transform the problem to spherical coordinates to obtain $f$ as the composition of $\\tilde{f}$ with an appropriate coordinate transformation $T$.\n",
    "\n",
    "We construct $f$ in a completely explicit and constructive manner, with all equations given in closed form."
   ]
  },
  {
   "cell_type": "markdown",
   "id": "32940ee7-c098-46af-8f8b-5fb82043bc2b",
   "metadata": {},
   "source": [
    "### Step 1: Constructing H"
   ]
  },
  {
   "cell_type": "markdown",
   "id": "41c31bb3-1719-4ede-b3ea-6dac2b4b235a",
   "metadata": {},
   "source": [
    "To construct a function $H:\\mathbb{R}^2\\rightarrow \\mathbb{R}$ with critical points at every level $z\\in[0,1]$ we shall follow the construction suggested in [Grinberg, E.L. (2018)](https://www.tandfonline.com/doi/abs/10.1080/00029890.1985.11971725), but provide explicit equations throughout."
   ]
  },
  {
   "cell_type": "markdown",
   "id": "feb8fe7c-0ba1-4d43-a105-9f4be06a8df5",
   "metadata": {},
   "source": [
    "To begin, we shall first give definitions and then provide discussion to give some intuition behind the math. We start by letting $n\\in\\mathbb{N}_{>0}$ and $k \\in \\{0, 1, \\dots, 2^n - 1\\}$, and write the binary expansion of $k$ as:\n",
    "\n",
    "\\begin{equation}\\nonumber\n",
    "k = \\sum_{j=1}^n r_j \\cdot 2^{n-j}, \\quad \\text{where } r_j \\in \\{0,1\\}.\n",
    "\\end{equation}\n",
    "We then define:\n",
    "\\begin{equation}\\nonumber\n",
    "a_{n,k} := \\sum_{j=1}^n r_j \\cdot \\frac{3}{5} \\cdot \\left( \\frac{2}{5} \\right)^{j-1},\\quad\\text{and}\\quad b_{n,k} := a_{n,k} + \\left( \\frac{2}{5} \\right)^n.\n",
    "\\end{equation}"
   ]
  },
  {
   "cell_type": "markdown",
   "id": "ed7bb26b-fb23-4675-84d1-039abfa5abdf",
   "metadata": {},
   "source": [
    "\n",
    "Next, we define the following 'spike' function for $x \\in [0,1]$, $n \\in \\mathbb{N}_{>0}$, and $k \\in \\{0, \\dots, 2^{n-1} - 1\\}$:\n",
    "\n",
    "$$\n",
    "\\text{Spike}_{k,n}(x) = \n",
    "\\begin{cases}\n",
    "    0 & \\text{if } x \\leq \\frac{1}{2}(a_{n,k} + b_{n,k} - w_n), \\\\\n",
    "    2\\frac{h_n}{w_n} \\left(x - \\frac{1}{2}(a_{n,k} + b_{n,k} - w_n) \\right) & \\text{if } \\frac{1}{2}(a_{n,k} + b_{n,k} - w_n) \\leq x \\leq \\frac{1}{2}(a_{n,k} + b_{n,k}), \\\\\n",
    "    h_n - 2\\frac{h_n}{w_n} \\left(x - \\frac{1}{2}(a_{n,k} + b_{n,k}) \\right) & \\text{if } \\frac{1}{2}(a_{n,k} + b_{n,k}) \\leq x \\leq \\frac{1}{2}(a_{n,k} + b_{n,k} + w_n), \\\\\n",
    "    0 & \\text{if } x \\geq \\frac{1}{2}(a_{n,k} + b_{n,k} + w_n).\n",
    "\\end{cases}\n",
    "$$\n",
    "\n",
    "where the height and width are given by:\n",
    "\n",
    "$$\n",
    "h_n := 4 \\left( \\frac{5}{6} \\right)^{n+1}, \\qquad w_n := \\frac{2}{h_n \\cdot 3^{n+1}}.\n",
    "$$\n",
    "\n",
    "To give some intuition as to what this looks like, we provide a function below:"
   ]
  },
  {
   "cell_type": "code",
   "execution_count": null,
   "id": "e845df53-fcd5-4b8a-b02b-b9de04b49f87",
   "metadata": {},
   "outputs": [],
   "source": [
    "import numpy as np\n",
    "\n",
    "def spike(x, n, k):\n",
    "    \"\"\"\n",
    "    Vectorized version of the spike function Spike_{k,n}(x) for NumPy arrays.\n",
    "    \n",
    "    Parameters:\n",
    "        x : np.ndarray\n",
    "            Input values in [0, 1]\n",
    "        n : int\n",
    "            Scale level (must be >= 1)\n",
    "        k : int\n",
    "            Index in {0, ..., 2^n - 1}\n",
    "            \n",
    "    Returns:\n",
    "        np.ndarray : Values of the spike function at x\n",
    "    \"\"\"\n",
    "    x = np.asarray(x)\n",
    "    \n",
    "    # Convert k to binary vector r = [r1, ..., rn]\n",
    "    r = [(k >> (n - j - 1)) & 1 for j in range(n)]\n",
    "    \n",
    "    # Compute a_{n,k}\n",
    "    a_nk = sum(r_j * (3/5) * (2/5)**j for j, r_j in enumerate(r))\n",
    "    \n",
    "    # Compute b_{n,k}\n",
    "    b_nk = a_nk + (2/5)**n\n",
    "    \n",
    "    # Compute height and width\n",
    "    h_n = 4 * (5/6)**(n + 1)\n",
    "    w_n = 2 / (h_n * 3**(n + 1))\n",
    "    \n",
    "    # Midpoint and boundaries\n",
    "    mid = 0.5 * (a_nk + b_nk)\n",
    "    left = mid - 0.5 * w_n\n",
    "    right = mid + 0.5 * w_n\n",
    "\n",
    "    # Initialize result\n",
    "    y = np.zeros_like(x)\n",
    "\n",
    "    # Linear rising edge\n",
    "    mask_rise = (x > left) & (x <= mid)\n",
    "    y[mask_rise] = 2 * h_n / w_n * (x[mask_rise] - left)\n",
    "\n",
    "    # Linear falling edge\n",
    "    mask_fall = (x > mid) & (x < right)\n",
    "    y[mask_fall] = h_n - 2 * h_n / w_n * (x[mask_fall] - mid)\n",
    "\n",
    "    # Peak (only applies if a value matches mid exactly, which is rare)\n",
    "    y[np.isclose(x, mid)] = h_n\n",
    "\n",
    "    return y"
   ]
  },
  {
   "cell_type": "markdown",
   "id": "25e750a5-6efb-47b0-af2d-7e1729a9e579",
   "metadata": {},
   "source": [
    "And an example plot:"
   ]
  },
  {
   "cell_type": "code",
   "execution_count": null,
   "id": "fa99b162-36e8-4dc0-9365-16146617ae0c",
   "metadata": {},
   "outputs": [],
   "source": [
    "import matplotlib.pyplot as plt\n",
    "\n",
    "n = 0\n",
    "k = 0\n",
    "x_vals = np.linspace(0, 1, 1000)\n",
    "y_vals = spike(x_vals, n, k)\n",
    "\n",
    "plt.plot(x_vals, y_vals)\n",
    "plt.title(f\"Spike function for n={n}, k={k}\")\n",
    "plt.xlabel(\"x\")\n",
    "plt.ylabel(f\"Spike_{{{k},{n}}}(x)\")\n",
    "plt.grid(True)\n",
    "plt.show()"
   ]
  },
  {
   "cell_type": "markdown",
   "id": "f2ac2f6a-d287-43f3-a2ac-de1386cd95b3",
   "metadata": {},
   "source": [
    "The 'spike' function creates a triangular signal, with carefully chosen width and position, which encloses an area of exactly $(\\frac{2}{3})^{n+1}$."
   ]
  },
  {
   "cell_type": "markdown",
   "id": "0f4fc1ca-1bac-4247-aa1c-bc8ee79438af",
   "metadata": {},
   "source": [
    "The width and position of the spikes have been carefully chosen so that we may define a function $h$ as follows:\n",
    "\n",
    "\\begin{equation}\\nonumber \n",
    "    h(x)= \\sum_{n=0}^{\\infty}\\sum_{i=0}^{2^n-1} \\text{Spike}_{k,n}(x).\n",
    "\\end{equation}"
   ]
  },
  {
   "cell_type": "code",
   "execution_count": null,
   "id": "582e52d8-d64e-4c21-a094-1b586c92d095",
   "metadata": {},
   "outputs": [],
   "source": [
    "def compute_h(x, N_max=5):\n",
    "    \"\"\"\n",
    "    Compute an approximation of h(x) = sum_{n=0}^{∞} sum_{k=0}^{2^n - 1} Spike_{k,n}(x)\n",
    "    using a finite sum up to N_max.\n",
    "    \n",
    "    Parameters:\n",
    "        x : np.ndarray\n",
    "            Array of input values in [0,1].\n",
    "        N_max : int\n",
    "            Maximum value of n to include in the approximation (n=0 to N_max).\n",
    "    \n",
    "    Returns:\n",
    "        np.ndarray : Approximated h(x) values.\n",
    "    \"\"\"\n",
    "    x = np.asarray(x)\n",
    "    h_vals = np.zeros_like(x)\n",
    "\n",
    "    for n in range(N_max + 1):\n",
    "        for k in range(2**n):\n",
    "            h_vals += spike(x, n, k)\n",
    "    \n",
    "    return h_vals"
   ]
  },
  {
   "cell_type": "code",
   "execution_count": null,
   "id": "7349bfb4-22de-421a-9f66-a90be739490e",
   "metadata": {},
   "outputs": [],
   "source": [
    "x_vals = np.linspace(0, 1, 1000)\n",
    "h_vals = compute_h(x_vals, N_max=6)\n",
    "\n",
    "plt.plot(x_vals, h_vals)\n",
    "plt.title(\"Approximation of h(x) with N_max=6\")\n",
    "plt.xlabel(\"x\")\n",
    "plt.ylabel(\"h(x)\")\n",
    "plt.grid(True)\n",
    "plt.show()"
   ]
  },
  {
   "cell_type": "markdown",
   "id": "020e2a2c-67ef-49b3-9cde-1732e711d27d",
   "metadata": {},
   "source": [
    "The function $h$ is a fractal function consisting of infinitely many non-overlapping spikes. Due to the choices of $h_n$, $w_n$, $a_{n,k}$, and $b_{n,k}$ used in the construction, the spikes become shorter and narrower as $n$ increases. As a result, it is straightforward to verify that $h$ is continuous.\n",
    "\n",
    "The construction begins with a single spike of area $\\frac{2}{3}$, followed by 2 spikes of area $\\left(\\frac{2}{3}\\right)^2$, then 4 spikes of area $\\left(\\frac{2}{3}\\right)^3$, and so on. A simple calculation shows that the total area under the graph of $h$ over $[0,1]$ is exactly 1.\n",
    "\n",
    "This reasoning extends further. Let $C$ denote the Cantor middle-thirds set. Every $c \\in C$ can be expressed as a base 3 expansion using only $0$s and $2$s, or equivalently as a linear combination of powers of $\\frac{2}{3}$. It easily follows that, given any such $c$, we can construct a point $x \\in [0,1]$ such that the cumulative area under $h$ from $0$ to $x$ is exactly $c$. This defines a bijection between $C$ and the set of zeros of $h$, where $h(x) = 0$ if and only if the cumulative area up to $x$ equals $c$.\n"
   ]
  },
  {
   "cell_type": "markdown",
   "id": "cdeab72e-5b5a-4708-b29b-163fc6f6c99d",
   "metadata": {},
   "source": [
    "Motivated by this, we now define $H:[0,1]\\rightarrow [0,1]$ as follows:\n",
    "\n",
    "\\begin{equation}\\nonumber\n",
    "    H(x):=\\int_{t=0}^x h(x)dt,\n",
    "\\end{equation}\n",
    "and extend this definition to $[-1,1]$ by taking $H(x):=H(-x)$ for $x<0$. Note that, as $H'(0)=h(0)=0$, $H$ is continuously differentiable across the whole of $[-1,1]$."
   ]
  },
  {
   "cell_type": "code",
   "execution_count": null,
   "id": "7202a814-5c66-408c-acff-0f6eeb015852",
   "metadata": {},
   "outputs": [],
   "source": [
    "def compute_H(x_vals, normalise=True):\n",
    "    \n",
    "    # Separate into negative and non-negative parts\n",
    "    x_neg = x_vals[x_vals < 0]\n",
    "    x_pos = x_vals[x_vals >= 0]\n",
    "\n",
    "    # Prepare result array\n",
    "    H_vals = np.empty_like(x_vals, dtype=float)\n",
    "\n",
    "    # Compute H for negative values\n",
    "    if len(x_neg) > 0:\n",
    "\n",
    "        # Flip sign and reverse order\n",
    "        x_neg_flipped = -x_neg[::-1]  \n",
    "\n",
    "        # Compute h values for negative\n",
    "        h_neg = compute_h(x_neg_flipped, N_max=6)\n",
    "\n",
    "        # Compute integral for negative\n",
    "        H_neg = compute_integral(x_neg_flipped, h_neg)\n",
    "        \n",
    "        # Reverse to match original x_neg order\n",
    "        H_neg = H_neg[::-1]  \n",
    "\n",
    "        # Insert back into array\n",
    "        H_vals[:len(H_neg)] = H_neg\n",
    "\n",
    "    # Compute H for positive values\n",
    "    if len(x_pos) > 0:\n",
    "        \n",
    "        # Compute h values for positive\n",
    "        h_pos = compute_h(x_pos, N_max=6)\n",
    "        \n",
    "        # Compute integral for positive\n",
    "        H_pos = compute_integral(x_pos, h_pos)\n",
    "\n",
    "        # Insert back into array\n",
    "        H_vals[-len(H_pos):] = H_pos\n",
    "\n",
    "    # Normalise entire result if requested\n",
    "    if normalise:\n",
    "        H_vals = H_vals / H_vals[-1]\n",
    "\n",
    "    # Return results\n",
    "    return H_vals\n"
   ]
  },
  {
   "cell_type": "code",
   "execution_count": null,
   "id": "8c655f5b-ce54-4adf-888c-8fa31c19c7c6",
   "metadata": {},
   "outputs": [],
   "source": [
    "x_vals = np.linspace(0, 1, 1000)\n",
    "H_vals = compute_H(x_vals)\n",
    "\n",
    "plt.plot(x_vals, H_vals)\n",
    "plt.title(\"Approximation of H(x)\")\n",
    "plt.xlabel(\"x\")\n",
    "plt.ylabel(\"h(x)\")\n",
    "plt.grid(True)\n",
    "plt.show()"
   ]
  },
  {
   "cell_type": "code",
   "execution_count": null,
   "id": "259b0b16-dc76-4047-b4f4-87824b61fbeb",
   "metadata": {},
   "outputs": [],
   "source": [
    "x_vals = np.linspace(-1, 1, 1000)\n",
    "H_vals = compute_H(x_vals)\n",
    "\n",
    "plt.plot(x_vals, H_vals)\n",
    "plt.title(\"Approximation of H(x)\")\n",
    "plt.xlabel(\"x\")\n",
    "plt.ylabel(\"h(x)\")\n",
    "plt.grid(True)\n",
    "plt.show()"
   ]
  },
  {
   "cell_type": "markdown",
   "id": "aa0c6406-885e-40f0-a2bc-a942003526cd",
   "metadata": {},
   "source": [
    "By construction, $H$ is increasing and has critical points at every level in $C$. \n",
    "\n",
    "Next, we define $H^{*}:[-1,1]^2\\rightarrow [-1,1]$ by $H(x,y):=\\frac{1}{2}(H(x)+H(y))$. "
   ]
  },
  {
   "cell_type": "code",
   "execution_count": null,
   "id": "ac08073f-0341-42a7-869f-c308ed678f4f",
   "metadata": {
    "scrolled": true
   },
   "outputs": [],
   "source": [
    "# Function to compute H\n",
    "def compute_H_star(x_vals,y_vals=None):\n",
    "\n",
    "    # Assume we are using the same axes for x and y if not given different\n",
    "    if y_vals is None:\n",
    "        y_vals = x_vals\n",
    "        \n",
    "    # Compute H_star values for one slice\n",
    "    H_star_vals_slice = compute_H(x_vals)\n",
    "    \n",
    "    # Create 2D grid (X, Y) and compute H(|x|) + H(|y|)\n",
    "    X, Y = np.meshgrid(x_vals, x_vals, indexing='xy')\n",
    "    H_star_vals = np.zeros_like(X)\n",
    "    \n",
    "    # Compute number of points\n",
    "    num_points = len(x_vals)\n",
    "    \n",
    "    # Compute H_star for whole surface\n",
    "    for i in range(num_points):\n",
    "        for j in range(num_points):\n",
    "            H_star_vals[i, j] = (H_star_vals_slice[i] + H_star_vals_slice[j])/2\n",
    "\n",
    "    return(H_star_vals)\n",
    "\n",
    "# Compute H_star_vals\n",
    "H_star_vals = compute_H_star(x_vals)"
   ]
  },
  {
   "cell_type": "code",
   "execution_count": null,
   "id": "11397e88-463f-43cc-932c-50448af34845",
   "metadata": {},
   "outputs": [],
   "source": [
    "# Example usage\n",
    "plot_surface_3d(H_star_vals, x_vals, downsample=2, title=\"3D Surface With Critical Values [0,1]\", z_title='H*(x,y) = H(|x|) + H(|y|)')"
   ]
  },
  {
   "cell_type": "markdown",
   "id": "122e2e42-ad72-42a4-86a3-e8fecac2f523",
   "metadata": {},
   "source": [
    "Through exploiting a well known function of the Cantor set; $C+C=[0,2]$, it can be seen that $H$ has a critical value at every level $z\\in[0,1]$."
   ]
  },
  {
   "cell_type": "markdown",
   "id": "46699c18-83eb-4124-9148-b142fd4274cd",
   "metadata": {},
   "source": [
    "Before moving onto step 2, we note that it is now possible to construct a function $f:[0,1]^3\\rightarrow \\mathbb{R}$ with the below properties:\n",
    "\n",
    " - $f(0,0,0)=0$.\n",
    " - The only critical point of $f$ occurs at the origin.\n",
    " - for every $\\epsilon > 0$, the zero level set $f^{-1}(0)$ intersects the plane $z=\\epsilon$ tangentially.\n",
    "\n",
    "An example of such a function is given by:\n",
    "\n",
    "\\begin{equation}\\nonumber\n",
    "f(x,y,z):=(z-H^{*}(x,y))(x^2+y^2+z^2).\n",
    "\\end{equation}\n",
    "\n",
    "However, to construct an example in which the plane $z=\\epsilon$ in the final condition is replaced by $B_\\epsilon$ is difficult, and needs a little more care."
   ]
  },
  {
   "cell_type": "markdown",
   "id": "edc68cd3-acc4-4bfb-9fb3-ec23ef913d54",
   "metadata": {},
   "source": [
    "### Step 2: Constructing $\\tilde{f}$"
   ]
  },
  {
   "cell_type": "markdown",
   "id": "fe3928bb-52a7-46ac-9fba-cb4872b90c34",
   "metadata": {},
   "source": [
    "To construct a surface which is tangent to every ball of radius $\\epsilon$, rather than every plane of height $\\epsilon$, we now shift to a spherical coordinate framework.\n",
    "\n",
    "Previously, we considered the surface defined by $z = H(x, y)$ in Cartesian coordinates, where $(x, y) \\in [-1, 1]^2$. We now consider instead $r = H^*(\\theta, \\psi)$, where $(\\theta, \\psi) \\in [\\pi/4, 3\\pi/4] \\times [\\pi/2, 3\\pi/2]$. This change implicitly rescales the input domain of $H^*$, stretching the original Cartesian domain by factors of $\\pi/2$ and $\\pi$ and translating along the $x$- and $y$-axes, respectively.\n",
    "\n",
    "For the single one dimensional slice of $H^*$ given by $h(x)=H^*(x,0)$, this transformation reduces to a polar transformation. The transformed function is depicted below, alongside the cartesian counterpart. Note how flat regions (where the Cartesian gradient vanishes) correspond to directions in which the radial derivative vanishes in the polar setting."
   ]
  },
  {
   "cell_type": "code",
   "execution_count": null,
   "id": "a20d18ec-e9b0-40a4-a7be-349bca2007c7",
   "metadata": {
    "scrolled": true
   },
   "outputs": [],
   "source": [
    "# Cartesian plot\n",
    "x_vals = np.linspace(-1, 1, 1000)\n",
    "h_vals = compute_H(x_vals)\n",
    "\n",
    "# Polar data\n",
    "theta_vals = (x_vals/2+1)*np.pi\n",
    "r_vals = compute_H(x_vals) \n",
    "\n",
    "# Set up the figure\n",
    "fig = plt.figure(figsize=(12, 5))\n",
    "\n",
    "# Cartesian subplot\n",
    "ax1 = fig.add_subplot(1, 2, 1)\n",
    "ax1.plot(x_vals, h_vals)\n",
    "ax1.set_title(\"Cartesian: y = h(x)\")\n",
    "ax1.set_xlabel(\"x\")\n",
    "ax1.set_ylabel(\"h(x)\")\n",
    "ax1.grid(True)\n",
    "\n",
    "# Polar subplot\n",
    "ax2 = fig.add_subplot(1, 2, 2, projection='polar')\n",
    "ax2.plot(theta_vals, r_vals)\n",
    "ax2.set_title(\"Polar: r = h(θ)\")\n",
    "\n",
    "plt.tight_layout()\n",
    "plt.show()"
   ]
  },
  {
   "cell_type": "markdown",
   "id": "a539cd17-0d9c-4a64-b30e-cea94d7d54b6",
   "metadata": {},
   "source": [
    "In the following we shall consider only what happens to this slice for ease of visualisation. Before this however, gor completeness, the full 3D surface obtained under the spherical transformation is visualised below."
   ]
  },
  {
   "cell_type": "code",
   "execution_count": null,
   "id": "47aa3b6e-bcef-4f59-8535-573ec4aea071",
   "metadata": {},
   "outputs": [],
   "source": [
    "# Compute theta and psi\n",
    "theta_vals = (x_vals/2 + 1) * (np.pi/4)     # [π/4, 3π/4]\n",
    "psi_vals = (x_vals/2 + 1) * np.pi/4            # [π/2, 3π/2]\n",
    "\n",
    "# Construct grid of (theta,psi) values\n",
    "Theta, Psi = np.meshgrid(theta_vals, psi_vals, indexing='ij')  # shape (N, N)\n",
    "\n",
    "# Compute R values on this grid\n",
    "R = compute_H_star(x_vals, x_vals)  \n",
    "\n",
    "# Construct coordinates for visualisation\n",
    "X = R * np.sin(Theta) * np.cos(Psi)\n",
    "Y = R * np.sin(Theta) * np.sin(Psi)\n",
    "Z = R * np.cos(Theta)\n",
    "\n",
    "# Plot surface, sphere added to demonstrate tangency\n",
    "plot_surface_3d(Z, X, Y, downsample=2,sphere_radius=2/3)"
   ]
  },
  {
   "cell_type": "markdown",
   "id": "772d31e0-a2cd-42e6-ac83-340f04065de8",
   "metadata": {},
   "source": [
    "Our goal is to construct a $C^1$ function $\\tilde{f}$ that has the desired surface as a level set, and which has no critical points except at the origin.\n",
    "\n",
    "A natural question is whether this can be achieved by simply composing our previously defined function $f$ with the inverse of the spherical coordinate transformation — i.e., applying $f$ in spherical coordinates rather than Cartesian. This approach can indeed be used to produce a function with the correct level set.\n",
    "\n",
    "However, a problem arises: under this transformation, all points of the form $(x, y, 0)$ in Cartesian space are mapped to $(\\theta, \\phi, r = 0)$—that is, the origin. If the original Cartesian function $f$ satisfies $f(x, y, 0) \\neq f(x', y', 0)$ for some $(x, y) \\neq (x', y')$, then its composition with the spherical coordinate transformation will be discontinuous at the origin. In particular, it cannot be $C^1$ there."
   ]
  },
  {
   "cell_type": "markdown",
   "id": "2bb7b05f-0b07-4e68-a072-fd5db4f95443",
   "metadata": {},
   "source": [
    "We must instead take some care here. To construct $\\tilde{f}$, we shall return to the the single slice $h$ and focus on the interval $[0,1]$. We shall now construct a new function $G:[0,1]\\rightarrow[0,1]$, with the following desirable properties:\n",
    "\n",
    " - $G(x)\\leq H(x)$ for all $x\\in[0,1]$ with equality holding only when $x=0$.\n",
    " - $G'(x)\\geq 0$ for all $x\\in[0,1]$ with equality holding only when $x \\in \\{0,1\\}$.\n",
    " - $\\left(\\frac{G}{H}\\right)'(0)=0$"
   ]
  },
  {
   "cell_type": "code",
   "execution_count": null,
   "id": "895651e0-31d9-4d64-b611-77ea8c650abc",
   "metadata": {},
   "outputs": [],
   "source": []
  },
  {
   "cell_type": "code",
   "execution_count": null,
   "id": "13c3669d-1a90-4c0d-bcff-fe1252f3a7cf",
   "metadata": {},
   "outputs": [],
   "source": []
  },
  {
   "cell_type": "code",
   "execution_count": null,
   "id": "b22798ea-e980-4e3a-9fd5-100aea3253a2",
   "metadata": {},
   "outputs": [],
   "source": []
  },
  {
   "cell_type": "code",
   "execution_count": null,
   "id": "016f47f3-01da-4ca6-a5b3-e858c4838480",
   "metadata": {},
   "outputs": [],
   "source": []
  },
  {
   "cell_type": "code",
   "execution_count": null,
   "id": "7176709d-da0c-469e-ad8e-a57eb4240695",
   "metadata": {},
   "outputs": [],
   "source": []
  },
  {
   "cell_type": "code",
   "execution_count": null,
   "id": "aa5d4c2c-7247-40ef-b60a-3960cc6bbeb0",
   "metadata": {},
   "outputs": [],
   "source": []
  },
  {
   "cell_type": "code",
   "execution_count": null,
   "id": "4a59a72c-b440-432d-86cd-1a906266605b",
   "metadata": {},
   "outputs": [],
   "source": []
  },
  {
   "cell_type": "code",
   "execution_count": null,
   "id": "31cc5cb2-f9f5-444b-a44a-32a8793dbee2",
   "metadata": {},
   "outputs": [],
   "source": []
  },
  {
   "cell_type": "code",
   "execution_count": null,
   "id": "f8d06b1a-8c82-4e94-8c33-13b7dfaa505b",
   "metadata": {},
   "outputs": [],
   "source": [
    "def construct_new_vals_thickened(H_vals, k_vals, x_grid, y_grid, epsilon=1.0):\n",
    "    \"\"\"\n",
    "    Constructs new_vals with correct epsilon-thickening logic:\n",
    "      - new_vals = H_vals inside [-1, 1]^2\n",
    "      - new_vals = T in thickened shell (distance <= epsilon, not box)\n",
    "      - new_vals = k_vals outside the thickened region\n",
    "\n",
    "    Parameters:\n",
    "    - H_vals: np.ndarray, values of H(x, y)\n",
    "    - k_vals: np.ndarray, values of k(x, y)\n",
    "    - x_grid, y_grid: coordinate grids matching H_vals shape\n",
    "    - epsilon: thickness parameter for blending\n",
    "\n",
    "    Returns:\n",
    "    - new_vals: np.ndarray, constructed values\n",
    "    \"\"\"\n",
    "\n",
    "    new_vals = np.zeros_like(H_vals)\n",
    "\n",
    "    # Step 1: Compute distance from each point to [-1,1]^2 box\n",
    "    dx = np.maximum(np.abs(x_grid) - 1, 0)\n",
    "    dy = np.maximum(np.abs(y_grid) - 1, 0)\n",
    "    dist = np.sqrt(dx**2 + dy**2)\n",
    "\n",
    "    # Step 2: Define regions\n",
    "    in_core = (np.abs(x_grid) <= 1) & (np.abs(y_grid) <= 1)\n",
    "    in_thickened = (dist <= epsilon) & (~in_core)\n",
    "    outside = dist > epsilon\n",
    "\n",
    "    # Step 3: Compute blending weights in shell region\n",
    "    d = dist\n",
    "    denom = d**2 + (1 - d)**2\n",
    "    denom[denom == 0] = 1  # Avoid division by zero\n",
    "    w = d**2 / denom\n",
    "\n",
    "    # Step 4: Assign values\n",
    "    new_vals[in_core] = H_vals[in_core]\n",
    "    new_vals[in_thickened] = w[in_thickened] * k_vals[in_thickened] + (1 - w[in_thickened]) * H_vals[in_thickened]\n",
    "    new_vals[outside] = k_vals[outside]\n",
    "\n",
    "    return new_vals\n"
   ]
  },
  {
   "cell_type": "code",
   "execution_count": null,
   "id": "295c0fed-9202-4e0d-9ea1-4d45f55a02df",
   "metadata": {},
   "outputs": [],
   "source": [
    "# x values\n",
    "x_vals = np.linspace(-10,10,1000)\n",
    "y_vals = np.linspace(-5,5,1000)\n",
    "\n",
    "# Compute H_star_vals\n",
    "H_star_vals = compute_H_star(x_vals,y_vals)\n",
    "\n",
    "# Constant values\n",
    "c_vals = np.ones(H_star_vals.shape)\n",
    "\n",
    "# Example usage\n",
    "# plot_surface_3d(H_star_vals, x_vals, y_vals, downsample=2, title=\"3D Surface With Critical Values [0,1]\", z_title='H*(x,y) = H(|x|) + H(|y|)')"
   ]
  },
  {
   "cell_type": "code",
   "execution_count": null,
   "id": "40a1a6a9-b478-4c62-b7e0-6daae784897e",
   "metadata": {},
   "outputs": [],
   "source": [
    "# Generate 2D grids from x_vals\n",
    "X, Y = np.meshgrid(x_vals, y_vals)\n",
    "\n",
    "new_vals = construct_new_vals_thickened(H_star_vals, c_vals, X, Y, epsilon=1.0)\n",
    "\n",
    "\n",
    "# Example usage\n",
    "plot_surface_3d(new_vals, x_vals, downsample=2, title=\"3D Surface With Critical Values [0,1]\", z_title='H*(x,y) = H(|x|) + H(|y|)')"
   ]
  },
  {
   "cell_type": "code",
   "execution_count": null,
   "id": "ac752442-6cd7-4834-94db-a364eadbc212",
   "metadata": {},
   "outputs": [],
   "source": [
    "print(H_star_vals.shape, c_vals.shape, new_vals.shape, x_vals.shape)"
   ]
  },
  {
   "cell_type": "code",
   "execution_count": null,
   "id": "db0725a3-2e21-413c-9630-fe2897b028cb",
   "metadata": {},
   "outputs": [],
   "source": [
    "# Compute theta and psi\n",
    "theta_vals = np.linspace(0,1,len(x_vals))*np.pi#(x_vals/2 + 1) * (np.pi/4)     # [π/4, 3π/4]\n",
    "psi_vals = np.linspace(0,2,len(x_vals))*np.pi           # [π/2, 3π/2]\n",
    "\n",
    "# Construct grid of (theta,psi) values\n",
    "Theta, Psi = np.meshgrid(theta_vals, psi_vals, indexing='ij')  # shape (N, N)\n",
    "\n",
    "# Compute R values on this grid\n",
    "R = new_vals \n",
    "\n",
    "# Construct coordinates for visualisation\n",
    "X = R * np.sin(Theta) * np.cos(Psi)\n",
    "Y = R * np.sin(Theta) * np.sin(Psi)\n",
    "Z = R * np.cos(Theta)\n",
    "\n",
    "# Plot surface, sphere added to demonstrate tangency\n",
    "plot_surface_3d(Z, X, Y, downsample=2,sphere_radius=None)"
   ]
  },
  {
   "cell_type": "code",
   "execution_count": null,
   "id": "032acaee-91b3-4aa4-b9aa-018a6517a6c9",
   "metadata": {},
   "outputs": [],
   "source": [
    "X_masked = np.array(X)\n",
    "Y_masked = np.array(Y)\n",
    "Z_masked = np.array(Z)\n",
    "\n",
    "X_masked[R>0.4]=0\n",
    "Y_masked[R>0.4]=0\n",
    "Z_masked[R>0.4]=0\n",
    "\n",
    "# Plot surface, sphere added to demonstrate tangency\n",
    "plot_surface_3d(Z_masked, X_masked, Y_masked, downsample=1,sphere_radius=None)"
   ]
  },
  {
   "cell_type": "code",
   "execution_count": null,
   "id": "1be4691c-82a8-4463-a77a-b3c490da235d",
   "metadata": {},
   "outputs": [],
   "source": []
  }
 ],
 "metadata": {
  "kernelspec": {
   "display_name": "Python 3 (ipykernel)",
   "language": "python",
   "name": "python3"
  },
  "language_info": {
   "codemirror_mode": {
    "name": "ipython",
    "version": 3
   },
   "file_extension": ".py",
   "mimetype": "text/x-python",
   "name": "python",
   "nbconvert_exporter": "python",
   "pygments_lexer": "ipython3",
   "version": "3.12.7"
  }
 },
 "nbformat": 4,
 "nbformat_minor": 5
}
