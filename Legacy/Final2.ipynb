{
 "cells": [
  {
   "cell_type": "markdown",
   "id": "cf23a91b-bdf4-47eb-bba0-7e362da5523a",
   "metadata": {},
   "source": [
    "# Counterexample X"
   ]
  },
  {
   "cell_type": "markdown",
   "id": "eb403b6b-a536-4c4d-bcfe-409a97e3693a",
   "metadata": {},
   "source": [
    "### Installations"
   ]
  },
  {
   "cell_type": "markdown",
   "id": "d9efbbe0-2d4b-4306-a7bf-4c1a745a7404",
   "metadata": {},
   "source": [
    "The below will install the necessary packages to run the notebook."
   ]
  },
  {
   "cell_type": "code",
   "execution_count": null,
   "id": "b8157217-c5f6-475d-a22b-be68c8610a3b",
   "metadata": {},
   "outputs": [],
   "source": [
    "!pip install numpy\n",
    "!pip install matplotlib\n",
    "!pip install plotly\n",
    "!pip install scipy"
   ]
  },
  {
   "cell_type": "markdown",
   "id": "0968afff-e3fc-4a11-ae8e-04ddf1358df6",
   "metadata": {},
   "source": [
    "The following block imports the relevant modules"
   ]
  },
  {
   "cell_type": "code",
   "execution_count": null,
   "id": "54e4e2e0-7dce-4bc5-bf93-c06351b0057d",
   "metadata": {},
   "outputs": [],
   "source": [
    "import numpy as np\n",
    "import matplotlib.pyplot as plt\n",
    "import plotly.graph_objects as go\n",
    "from scipy.integrate import cumulative_trapezoid\n",
    "import os\n",
    "os.environ[\"KMP_DUPLICATE_LIB_OK\"] = \"TRUE\""
   ]
  },
  {
   "cell_type": "markdown",
   "id": "a28d8d81-ffad-464e-b8f5-52fc85e10702",
   "metadata": {},
   "source": [
    "The below helper functions will be useful later."
   ]
  },
  {
   "cell_type": "code",
   "execution_count": null,
   "id": "e54d3c50-3d64-4e61-9666-0add9a25dc43",
   "metadata": {},
   "outputs": [],
   "source": [
    "# Computes the integral of f over x\n",
    "def compute_integral(x_vals, f_vals):\n",
    "    \"\"\"\n",
    "    Given arrays of x-values and the corresponding f(x)-values,\n",
    "    compute and plot the cumulative integral:\n",
    "    \n",
    "        F(x) = ∫ f(t) dt from t=0 to t=x.\n",
    "    \n",
    "    Parameters\n",
    "    ----------\n",
    "    x_vals : array_like\n",
    "        Monotonically increasing array of x-values.\n",
    "    f_vals : array_like\n",
    "        Corresponding values of f(x).\n",
    "    \"\"\"\n",
    "    # Ensure x_vals and f_vals are numpy arrays\n",
    "    x_vals = np.asarray(x_vals)\n",
    "    f_vals = np.asarray(f_vals)\n",
    "    \n",
    "    # Compute the cumulative integral using scipy.integrate.cumtrapz\n",
    "    F_vals = cumulative_trapezoid(f_vals, x_vals, initial=0)\n",
    "\n",
    "    # Normalize the integral\n",
    "    F_vals = F_vals \n",
    "\n",
    "    # Return result\n",
    "    return(F_vals)"
   ]
  },
  {
   "cell_type": "code",
   "execution_count": null,
   "id": "ec7f179f-c0df-4609-bc31-922b76512c98",
   "metadata": {},
   "outputs": [],
   "source": [
    "def plot_surface_3d(F_vals, x_vals, y_vals=None, downsample=1, title='Surface Plot', z_title='Z', sphere_radius=None):\n",
    "    \"\"\"\n",
    "    Plots a 3D surface for F_vals over the given x and y values.\n",
    "\n",
    "    Parameters:\n",
    "    - F_vals: 2D array of values representing F(x, y)\n",
    "    - x_vals: 1D array for x-axis (or 2d precomputed grid coordinates)\n",
    "    - y_vals: 1D array for y-axis (or 2d precomputed grid coordinates) (optional; defaults to x_vals)\n",
    "    - downsample: int factor to reduce resolution (e.g., 2 means every 2nd point)\n",
    "    - sphere_radius: float, optional — if provided, a translucent sphere of this radius is added\n",
    "    \"\"\"\n",
    "\n",
    "    if y_vals is None:\n",
    "        y_vals = x_vals\n",
    "\n",
    "    if y_vals.ndim != x_vals.ndim:\n",
    "        raise ValueError('x and y must have same number of dimensions.')\n",
    "\n",
    "    # Downsample data if needed\n",
    "    if downsample > 1:\n",
    "        F_vals = F_vals[::downsample, ::downsample]\n",
    "\n",
    "        if x_vals.ndim == 1:\n",
    "            x_vals = x_vals[::downsample]\n",
    "            y_vals = y_vals[::downsample]\n",
    "        else:\n",
    "            x_vals = x_vals[::downsample, ::downsample]\n",
    "            y_vals = y_vals[::downsample, ::downsample]\n",
    "\n",
    "    # Create 2D grid (X, Y)\n",
    "    if x_vals.ndim == 1:\n",
    "        X, Y = np.meshgrid(x_vals, y_vals, indexing='xy')\n",
    "    else:\n",
    "        X = x_vals\n",
    "        Y = y_vals\n",
    "\n",
    "    # Create surface plot list\n",
    "    surfaces = [\n",
    "        go.Surface(\n",
    "            x=X,\n",
    "            y=Y,\n",
    "            z=F_vals,\n",
    "            colorscale='Viridis',\n",
    "            name='Main Surface'\n",
    "        )\n",
    "    ]\n",
    "\n",
    "    # Optionally add a translucent sphere\n",
    "    if sphere_radius is not None:\n",
    "        u = np.linspace(0, np.pi, 50)\n",
    "        v = np.linspace(0, 2 * np.pi, 50)\n",
    "        U, V = np.meshgrid(u, v)\n",
    "        Xs = sphere_radius * np.sin(U) * np.cos(V)\n",
    "        Ys = sphere_radius * np.sin(U) * np.sin(V)\n",
    "        Zs = sphere_radius * np.cos(U)\n",
    "\n",
    "        surfaces.append(\n",
    "            go.Surface(\n",
    "                x=Xs,\n",
    "                y=Ys,\n",
    "                z=Zs,\n",
    "                opacity=0.3,\n",
    "                showscale=False,\n",
    "                colorscale='Blues',\n",
    "                name=f'Sphere r={sphere_radius}'\n",
    "            )\n",
    "        )\n",
    "\n",
    "    # Create figure\n",
    "    fig = go.Figure(data=surfaces)\n",
    "\n",
    "    # Layout\n",
    "    fig.update_layout(\n",
    "        title=title,\n",
    "        scene=dict(\n",
    "            xaxis_title='x',\n",
    "            yaxis_title='y',\n",
    "            zaxis_title=z_title\n",
    "        ),\n",
    "        autosize=True,\n",
    "        width=800,\n",
    "        height=700\n",
    "    )\n",
    "\n",
    "    fig.show()\n"
   ]
  },
  {
   "cell_type": "markdown",
   "id": "7f052315-a06d-45e2-9b03-ff0a9b17d1a9",
   "metadata": {},
   "source": [
    "### Introduction"
   ]
  },
  {
   "cell_type": "markdown",
   "id": "f7ad3835-fb2a-4be8-9939-57a14792af69",
   "metadata": {},
   "source": [
    "In this notebook, we shall construct a $C^1$ function $f:\\mathbb{R}^3\\rightarrow \\mathbb{R}$ with the following properties:\n",
    "\n",
    " - $f(0,0,0)=0$.\n",
    " - The only critical point of $f$ occurs at the origin.\n",
    " - for every $\\epsilon > 0$, the zero level set $f^{-1}(0)$ intersects the boundary of the ball $\\partial B_\\epsilon \\subset \\mathbb{R}^3$ tangentially."
   ]
  },
  {
   "cell_type": "markdown",
   "id": "8a02d363-a650-4b57-b646-367e688aa634",
   "metadata": {},
   "source": [
    "To achieve this goal, we construct the function in two steps, with intermediate and final expressions given in spherical coordinates $(r, \\theta, \\psi)$, where $r \\in [0,\\infty)$, $\\theta \\in [0,\\pi]$, and $\\psi \\in [0,2\\pi)$:\n",
    "\n",
    "- **Step 1:** Define a $C^1$ function $H : [0,\\pi] \\times [0, 2\\pi) \\rightarrow [0,\\infty)$ such that the surface given by $r = H(\\theta, \\psi)$ is tangent to every ball of radius less than or equal to 1.\n",
    "\n",
    "- **Step 2:** Define a $C^1$ function $G : [0,\\pi] \\times [0, 2\\pi) \\rightarrow [0,\\infty)$ which acts as a \"nice\" lower bound to $H$.\n",
    "\n",
    "- **Step 3:** Construct a $C^1$ function $f : [0,\\infty) \\times [0,\\pi] \\times [0,2\\pi) \\rightarrow \\mathbb{R}$ with zero level set given by\n",
    "  \n",
    "  $$f^{-1}(0) = \\{ (r, \\theta, \\psi) \\mid r = H(\\theta, \\psi) \\},$$\n",
    "  zero gradient at the origin, and non-vanishing gradient everywhere else within a neighbourhood of the origin.\n",
    "\n",
    "We treat $[0,\\infty) \\times [0,\\pi] \\times [0,2\\pi)$ as spherical coordinates on $\\mathbb{R}^3$, with the usual identification of $\\psi = 0$ and $\\psi = 2\\pi$, and the azimuthal degeneracy at the poles $\\theta = 0$ and $\\theta = \\pi$.\n",
    "\n"
   ]
  },
  {
   "cell_type": "markdown",
   "id": "ebd92fe9-dea8-41d0-ba20-9871967abbab",
   "metadata": {},
   "source": [
    "### Step 1: Constructing $H$"
   ]
  },
  {
   "cell_type": "markdown",
   "id": "611b357c-9657-4c18-94de-5e0c86cea498",
   "metadata": {},
   "source": [
    "To construct $H$, we begin in Cartesian coordinates $(x, y, z)$ by defining an intermediate function $H^\\ast : \\mathbb{R}^2 \\to \\mathbb{R}$ such that, for every $z \\in [0,1]$, there exists a point $(x, y) \\in [0,1]^2$ with $H^\\ast(x, y) = z$ and $\\nabla H^\\ast(x, y) = 0$. This construction follows the approach of [Grinberg (2018)](link), but we provide explicit equations throughout.\n",
    "\n",
    "\n",
    "To be specific, we construct $H$ in several steps:\n",
    "\n",
    "1. **One-dimensional slice:** We begin by defining a function $\\tilde{H} : [0,1] \\to [0,1]$ that has a critical point at every level $c \\in C$, where $C$ denotes the middle-thirds Cantor set.\n",
    "\n",
    "2. **Symmetrization:** We extend this function to $[-1,1]$ by requiring it to be even.\n",
    "\n",
    "3. **Product extension:** Identifying $[-1,1]$ with $[-1,1] \\times \\{0\\}$, we extend the domain to $[-1,1]^2$ by defining  \n",
    "   $$\n",
    "   H^\\ast(x, y) = \\frac{1}{2}(\\tilde{H}(x) + \\tilde{H}(y)).\n",
    "   $$\n",
    "\n",
    "4. **Global extension:** Extending the definition of $H^\\ast$ on $[-1,1]^2$ from above, we now define $H^\\ast(x, y) = 1$ for all $(x, y) \\in \\mathbb{R}^2 \\setminus [-2,2]^2$, and use a $C^1$ transition function to smoothly interpolate over the rectangular region $[-2,2]^2 \\setminus [-1,1]^2$, resulting in a globally $C^1$ function.\n",
    "\n",
    "5. **Mapping to Spherical:** We next define $H$ in terms of spherical coordinates $(\\theta,\\psi)$ as $H(\\theta,\\psi):=H^\\ast(\\frac{\\pi}{2k}(\\theta+k),\\frac{\\pi}{k}(\\psi+k))$ for some suitably large $k$."
   ]
  },
  {
   "cell_type": "markdown",
   "id": "f6ff5cac-f0cd-4e8a-9ae2-a0bf316a5990",
   "metadata": {},
   "source": [
    "#### One Dimensional Slice"
   ]
  },
  {
   "cell_type": "markdown",
   "id": "54506163-a9bf-485b-9709-ad25bef9b106",
   "metadata": {},
   "source": [
    "To construct the 1 dimensional function with critical points at every level $c \\in C$, we shall use a fractal construction for the derivative of $\\tilde{H}$ which involves carefully placing and summing spikes of precomputed areas."
   ]
  },
  {
   "cell_type": "markdown",
   "id": "dfe5f1f6-e92f-48c6-a23b-eb7852e46ed3",
   "metadata": {},
   "source": [
    "We start by letting $n\\in\\mathbb{N}_{>0}$ and $k \\in \\{0, 1, \\dots, 2^n - 1\\}$, and write the binary expansion of $k$ as:\n",
    "\n",
    "\\begin{equation}\\nonumber\n",
    "k = \\sum_{j=1}^n r_j \\cdot 2^{n-j}, \\quad \\text{where } r_j \\in \\{0,1\\}.\n",
    "\\end{equation}\n",
    "We then define:\n",
    "\\begin{equation}\\nonumber\n",
    "a_{n,k} := \\sum_{j=1}^n r_j \\cdot \\frac{3}{5} \\cdot \\left( \\frac{2}{5} \\right)^{j-1},\\quad\\text{and}\\quad b_{n,k} := a_{n,k} + \\left( \\frac{2}{5} \\right)^n.\n",
    "\\end{equation}"
   ]
  },
  {
   "cell_type": "markdown",
   "id": "1a33ae75-8894-410d-92d6-f252cb94cd23",
   "metadata": {},
   "source": [
    "\n",
    "Next, we define the following 'spike' function for $x \\in [0,1]$, $n \\in \\mathbb{N}_{>0}$, and $k \\in \\{0, \\dots, 2^{n-1} - 1\\}$:\n",
    "\n",
    "$$\n",
    "\\text{Spike}_{k,n}(x) = \n",
    "\\begin{cases}\n",
    "    0 & \\text{if } x \\leq \\frac{1}{2}(a_{n,k} + b_{n,k} - w_n), \\\\\n",
    "    2\\frac{h_n}{w_n} \\left(x - \\frac{1}{2}(a_{n,k} + b_{n,k} - w_n) \\right) & \\text{if } \\frac{1}{2}(a_{n,k} + b_{n,k} - w_n) \\leq x \\leq \\frac{1}{2}(a_{n,k} + b_{n,k}), \\\\\n",
    "    h_n - 2\\frac{h_n}{w_n} \\left(x - \\frac{1}{2}(a_{n,k} + b_{n,k}) \\right) & \\text{if } \\frac{1}{2}(a_{n,k} + b_{n,k}) \\leq x \\leq \\frac{1}{2}(a_{n,k} + b_{n,k} + w_n), \\\\\n",
    "    0 & \\text{if } x \\geq \\frac{1}{2}(a_{n,k} + b_{n,k} + w_n).\n",
    "\\end{cases}\n",
    "$$\n",
    "\n",
    "where the height and width are given by:\n",
    "\n",
    "$$\n",
    "h_n := 4 \\left( \\frac{5}{6} \\right)^{n+1}, \\qquad w_n := \\frac{2}{h_n \\cdot 3^{n+1}}.\n",
    "$$\n",
    "\n",
    "To give some intuition as to what this looks like, we provide a function below:"
   ]
  },
  {
   "cell_type": "code",
   "execution_count": null,
   "id": "6e067fe9-99c1-45f7-a79c-3f6a192fb780",
   "metadata": {},
   "outputs": [],
   "source": [
    "import numpy as np\n",
    "\n",
    "def spike(x, n, k):\n",
    "    \"\"\"\n",
    "    Vectorized version of the spike function Spike_{k,n}(x) for NumPy arrays.\n",
    "    \n",
    "    Parameters:\n",
    "        x : np.ndarray\n",
    "            Input values in [0, 1]\n",
    "        n : int\n",
    "            Scale level (must be >= 1)\n",
    "        k : int\n",
    "            Index in {0, ..., 2^n - 1}\n",
    "            \n",
    "    Returns:\n",
    "        np.ndarray : Values of the spike function at x\n",
    "    \"\"\"\n",
    "    x = np.asarray(x)\n",
    "    \n",
    "    # Convert k to binary vector r = [r1, ..., rn]\n",
    "    r = [(k >> (n - j - 1)) & 1 for j in range(n)]\n",
    "    \n",
    "    # Compute a_{n,k}\n",
    "    a_nk = sum(r_j * (3/5) * (2/5)**j for j, r_j in enumerate(r))\n",
    "    \n",
    "    # Compute b_{n,k}\n",
    "    b_nk = a_nk + (2/5)**n\n",
    "    \n",
    "    # Compute height and width\n",
    "    h_n = 4 * (5/6)**(n + 1)\n",
    "    w_n = 2 / (h_n * 3**(n + 1))\n",
    "    \n",
    "    # Midpoint and boundaries\n",
    "    mid = 0.5 * (a_nk + b_nk)\n",
    "    left = mid - 0.5 * w_n\n",
    "    right = mid + 0.5 * w_n\n",
    "\n",
    "    # Initialize result\n",
    "    y = np.zeros_like(x)\n",
    "\n",
    "    # Linear rising edge\n",
    "    mask_rise = (x > left) & (x <= mid)\n",
    "    y[mask_rise] = 2 * h_n / w_n * (x[mask_rise] - left)\n",
    "\n",
    "    # Linear falling edge\n",
    "    mask_fall = (x > mid) & (x < right)\n",
    "    y[mask_fall] = h_n - 2 * h_n / w_n * (x[mask_fall] - mid)\n",
    "\n",
    "    # Peak (only applies if a value matches mid exactly, which is rare)\n",
    "    y[np.isclose(x, mid)] = h_n\n",
    "\n",
    "    return y"
   ]
  },
  {
   "cell_type": "markdown",
   "id": "1340441a-504c-460c-9041-f0b4c9c302ce",
   "metadata": {},
   "source": [
    "And an example plot:"
   ]
  },
  {
   "cell_type": "code",
   "execution_count": null,
   "id": "7d2f91e5-36fd-466d-b4d2-e5fc59dd6413",
   "metadata": {},
   "outputs": [],
   "source": [
    "import matplotlib.pyplot as plt\n",
    "\n",
    "n = 0\n",
    "k = 0\n",
    "x_vals = np.linspace(0, 1, 1000)\n",
    "y_vals = spike(x_vals, n, k)\n",
    "\n",
    "plt.plot(x_vals, y_vals)\n",
    "plt.title(f\"Spike function for n={n}, k={k}\")\n",
    "plt.xlabel(\"x\")\n",
    "plt.ylabel(f\"Spike_{{{k},{n}}}(x)\")\n",
    "plt.grid(True)\n",
    "plt.show()"
   ]
  },
  {
   "cell_type": "markdown",
   "id": "8804a9fb-3b74-4f8a-b9e7-091505ac3c08",
   "metadata": {},
   "source": [
    "The 'spike' function creates a triangular signal, with carefully chosen width and position, which encloses an area of exactly $(\\frac{2}{3})^{n+1}$."
   ]
  },
  {
   "cell_type": "markdown",
   "id": "751a941d-c307-497a-9c66-5bfb78a9b709",
   "metadata": {},
   "source": [
    "The width and position of the spikes have been carefully chosen so that we may define a function $h$ as follows:\n",
    "\n",
    "\\begin{equation}\\nonumber \n",
    "    h(x)= \\sum_{n=0}^{\\infty}\\sum_{i=0}^{2^n-1} \\text{Spike}_{k,n}(x).\n",
    "\\end{equation}"
   ]
  },
  {
   "cell_type": "code",
   "execution_count": null,
   "id": "36bf7c07-de56-4625-8fd5-0f06b69cd953",
   "metadata": {},
   "outputs": [],
   "source": [
    "def compute_h(x, N_max=5):\n",
    "    \"\"\"\n",
    "    Compute an approximation of h(x) = sum_{n=0}^{∞} sum_{k=0}^{2^n - 1} Spike_{k,n}(x)\n",
    "    using a finite sum up to N_max.\n",
    "    \n",
    "    Parameters:\n",
    "        x : np.ndarray\n",
    "            Array of input values in [0,1].\n",
    "        N_max : int\n",
    "            Maximum value of n to include in the approximation (n=0 to N_max).\n",
    "    \n",
    "    Returns:\n",
    "        np.ndarray : Approximated h(x) values.\n",
    "    \"\"\"\n",
    "    x = np.asarray(x)\n",
    "    h_vals = np.zeros_like(x)\n",
    "\n",
    "    for n in range(N_max + 1):\n",
    "        for k in range(2**n):\n",
    "            h_vals += spike(x, n, k)\n",
    "    \n",
    "    return h_vals"
   ]
  },
  {
   "cell_type": "code",
   "execution_count": null,
   "id": "6f23a051-7250-4072-bbed-0ecc5ef8f08f",
   "metadata": {},
   "outputs": [],
   "source": [
    "x_vals = np.linspace(0, 1, 1000)\n",
    "h_vals = compute_h(x_vals, N_max=6)\n",
    "\n",
    "plt.plot(x_vals, h_vals)\n",
    "plt.title(\"Approximation of h(x) with N_max=6\")\n",
    "plt.xlabel(\"x\")\n",
    "plt.ylabel(\"h(x)\")\n",
    "plt.grid(True)\n",
    "plt.show()"
   ]
  },
  {
   "cell_type": "markdown",
   "id": "cc12b784-b4cf-4fe7-910e-ef66284c32c1",
   "metadata": {},
   "source": [
    "The function $h$ is a fractal function consisting of infinitely many non-overlapping spikes. Due to the choices of $h_n$, $w_n$, $a_{n,k}$, and $b_{n,k}$ used in the construction, the spikes become shorter and narrower as $n$ increases. As a result, it is straightforward to verify that $h$ is continuous.\n",
    "\n",
    "The construction begins with a single spike of area $\\frac{2}{3}$, followed by 2 spikes of area $\\left(\\frac{2}{3}\\right)^2$, then 4 spikes of area $\\left(\\frac{2}{3}\\right)^3$, and so on. A simple calculation shows that the total area under the graph of $h$ over $[0,1]$ is exactly 1.\n",
    "\n",
    "This reasoning can be extended further. As every $c \\in C$ can be expressed as a base 3 expansion using only $0$s and $2$s, or equivalently as a linear combination of powers of $\\frac{2}{3}$, it easily follows that, for all $c\\in C$, there exists an $x \\in [0,1]$ such that the cumulative area under $h$ from $0$ to $x$ is exactly $c$. This defines a bijection between $C$ and the set of zeros of $h$, where $h(x) = 0$ if and only if the cumulative area up to $x$ equals $c$.\n"
   ]
  },
  {
   "cell_type": "markdown",
   "id": "af0c31fe-6acc-42ce-b960-304a1223fc3b",
   "metadata": {},
   "source": [
    "Noting this this, we now define $\\tilde{H}:[0,1]\\rightarrow [0,1]$ as follows:\n",
    "\n",
    "\\begin{equation}\\nonumber\n",
    "    \\tilde{H}(x):=\\int_{t=0}^x h(t)dt.\n",
    "\\end{equation}\n"
   ]
  },
  {
   "cell_type": "code",
   "execution_count": null,
   "id": "9cbaa9e7-5bfe-495f-920b-2843aa712349",
   "metadata": {},
   "outputs": [],
   "source": [
    "def compute_H_tilde(x_vals, normalise=True):\n",
    "    \n",
    "    # Separate into negative and non-negative parts\n",
    "    x_neg = x_vals[x_vals < 0]\n",
    "    x_pos = x_vals[x_vals >= 0]\n",
    "\n",
    "    # Prepare result array\n",
    "    H_tilde_vals = np.empty_like(x_vals, dtype=float)\n",
    "\n",
    "    # Compute H for negative values\n",
    "    if len(x_neg) > 0:\n",
    "\n",
    "        # Flip sign and reverse order\n",
    "        x_neg_flipped = -x_neg[::-1]  \n",
    "\n",
    "        # Compute h values for negative\n",
    "        h_neg = compute_h(x_neg_flipped, N_max=6)\n",
    "\n",
    "        # Compute integral for negative\n",
    "        H_tilde_neg = compute_integral(x_neg_flipped, h_neg)\n",
    "        \n",
    "        # Reverse to match original x_neg order\n",
    "        H_tilde_neg = H_tilde_neg[::-1]  \n",
    "\n",
    "        # Insert back into array\n",
    "        H_tilde_vals[:len(H_tilde_neg)] = H_tilde_neg\n",
    "\n",
    "    # Compute H for positive values\n",
    "    if len(x_pos) > 0:\n",
    "        \n",
    "        # Compute h values for positive\n",
    "        h_pos = compute_h(x_pos, N_max=6)\n",
    "        \n",
    "        # Compute integral for positive\n",
    "        H_tilde_pos = compute_integral(x_pos, h_pos)\n",
    "\n",
    "        # Insert back into array\n",
    "        H_tilde_vals[-len(H_tilde_pos):] = H_tilde_pos\n",
    "\n",
    "    # Normalise entire result if requested\n",
    "    if normalise:\n",
    "        H_tilde_vals = H_tilde_vals / H_tilde_vals[-1]\n",
    "\n",
    "    # Return results\n",
    "    return H_tilde_vals\n"
   ]
  },
  {
   "cell_type": "code",
   "execution_count": null,
   "id": "7f026911-b050-480a-85e0-99c85b1de3cc",
   "metadata": {},
   "outputs": [],
   "source": [
    "x_vals = np.linspace(0, 1, 1000)\n",
    "H_tilde_vals = compute_H_tilde(x_vals)\n",
    "\n",
    "plt.plot(x_vals, H_tilde_vals)\n",
    "plt.title(r\"Approximation of $\\tilde{H}$(x)\")\n",
    "plt.xlabel(\"x\")\n",
    "plt.ylabel(r\"$\\tilde{H}(x)$\")\n",
    "plt.grid(True)\n",
    "plt.show()"
   ]
  },
  {
   "cell_type": "markdown",
   "id": "b6f1a331-55af-4cba-baed-04a8f6535c45",
   "metadata": {},
   "source": [
    "#### Symmetrization"
   ]
  },
  {
   "cell_type": "markdown",
   "id": "5adca683-cce6-4397-a9d9-13d8bd5a2315",
   "metadata": {},
   "source": [
    "We then extend this definition to $[-1,1]$ by taking $\\tilde{H}(x):=\\tilde{H}(-x)$ for $x<0$. Note that, as $\\tilde{H}'(0)=h(0)=0$, $\\tilde{H}$ is continuously differentiable across the whole of $[-1,1]$."
   ]
  },
  {
   "cell_type": "code",
   "execution_count": null,
   "id": "d60c3788-5777-4490-af69-45825cd06d46",
   "metadata": {},
   "outputs": [],
   "source": [
    "x_vals = np.linspace(-1, 1, 1000)\n",
    "H_tilde_vals = compute_H_tilde(x_vals)\n",
    "\n",
    "plt.plot(x_vals, H_tilde_vals)\n",
    "plt.title(r\"Approximation of $\\tilde{H}$(x)\")\n",
    "plt.xlabel(\"x\")\n",
    "plt.ylabel(r\"$\\tilde{H}(x)$\")\n",
    "plt.grid(True)\n",
    "plt.show()"
   ]
  },
  {
   "cell_type": "markdown",
   "id": "d535a8a8-2a89-4e48-abf2-ca4b080c89cd",
   "metadata": {},
   "source": [
    "By construction, $\\tilde{H}$ has critical points at every level $c\\in C$. \n"
   ]
  },
  {
   "cell_type": "markdown",
   "id": "3852703a-bd80-445a-816c-f8b0b59a0319",
   "metadata": {},
   "source": [
    "#### Product Extension"
   ]
  },
  {
   "cell_type": "markdown",
   "id": "c6fe3442-bd0b-4c92-8ab8-8d6705a0a39d",
   "metadata": {},
   "source": [
    "Next, we define a two-dimensional function $H^\\ast:[-1,1]^2\\rightarrow [-1,1]$ by $H^\\ast(x,y):=\\frac{1}{2}(\\tilde{H}(x)+\\tilde{H}(y))$."
   ]
  },
  {
   "cell_type": "code",
   "execution_count": null,
   "id": "21ff2b1d-233c-48ab-bfe2-4badfb3a31f6",
   "metadata": {},
   "outputs": [],
   "source": [
    "# Function to compute H\n",
    "def compute_H_star(x_vals,y_vals=None):\n",
    "\n",
    "    # Assume we are using the same axes for x and y if not given different\n",
    "    if y_vals is None:\n",
    "        y_vals = x_vals\n",
    "        \n",
    "    # Compute H_star values for one slice\n",
    "    H_star_vals_slice = compute_H_tilde(x_vals)\n",
    "    \n",
    "    # Create 2D grid (X, Y) and compute H(|x|) + H(|y|)\n",
    "    X, Y = np.meshgrid(x_vals, x_vals, indexing='xy')\n",
    "    H_star_vals = np.zeros_like(X)\n",
    "    \n",
    "    # Compute number of points\n",
    "    num_points = len(x_vals)\n",
    "    \n",
    "    # Compute H_star for whole surface\n",
    "    for i in range(num_points):\n",
    "        for j in range(num_points):\n",
    "            H_star_vals[i, j] = (H_star_vals_slice[i] + H_star_vals_slice[j])/2\n",
    "\n",
    "    return(H_star_vals)\n",
    "\n",
    "# Compute H_star_vals\n",
    "H_star_vals = compute_H_star(x_vals)"
   ]
  },
  {
   "cell_type": "code",
   "execution_count": null,
   "id": "02e241b7-2aed-448c-8b80-9e9ab08d0770",
   "metadata": {},
   "outputs": [],
   "source": [
    "# Plot surface\n",
    "plot_surface_3d(H_star_vals, x_vals, downsample=2, title=\"3D Surface With Critical Values [0,1]\", z_title = \"H*(x, y) = H\\u0303(x) + H\\u0303(y)\")"
   ]
  },
  {
   "cell_type": "markdown",
   "id": "e7a6edc8-3b46-4257-94d1-e6b284ffe0ab",
   "metadata": {},
   "source": [
    "Through exploiting a well known function of the Cantor set; $C+C=[0,2]$, it can be seen that $H$ has a critical value at every level $z\\in[0,1]$."
   ]
  },
  {
   "cell_type": "markdown",
   "id": "e790cb60-6e01-42b6-beac-8b3c65c28915",
   "metadata": {},
   "source": [
    "#### Global Extension"
   ]
  },
  {
   "cell_type": "markdown",
   "id": "774e27b5-8371-4039-8bb0-eaac9f4b701f",
   "metadata": {},
   "source": [
    "Next, we extend $H^\\ast$ to the entirety of $\\mathbb{R}^2$. This is achieved using the $C^1$ transition function $s(x)$ defined by:\n",
    "\n",
    "$$\n",
    "s(x):=\\begin{cases}\n",
    "0 & x \\leq 0, \\\\\n",
    "\\frac{x^2}{x^2+(1-x)^2} & 0 \\leq x \\leq 1, \\\\\n",
    "1 & 1 \\leq x. \\\\\n",
    "\\end{cases}\n",
    "$$\n",
    "\n",
    "We then extend $\\tilde{H}$ to $\\mathbb{R}$ by letting $\\tilde{H}(x)=1$ for $x \\not\\in[-1,1]^2$ and extend the definition of $H^\\ast$ as follows:\n",
    "\n",
    "$$H^\\ast(x,y):=s\\bigg(d\\big((x,y),[-1,1]^2\\big)\\bigg)+\\bigg(1-s\\bigg(d\\big((x,y),[-1,1]^2\\big)\\bigg)\\bigg)\\left(\\frac{1}{2}(\\tilde{H}(x)+\\tilde{H}(y))\\right),$$\n",
    "\n",
    "where $d(p,A):=\\inf_{a\\in A}|p-a|$ represents the Euclidean distance from the point $p$ to the set $A$. \n",
    "\n",
    "The above notation is dense, but much easier to understand when visualised. When $d((x,y),[-1,1]^2)\\geq 1$, we see that $H^\\ast(x,y)=1$, and when $(x,y)\\in [-1,1]^2$ we have that $d((x,y),[-1,1]^2)=0$ and thus $H^\\ast(x,y)=\\frac{1}{2}(\\tilde{H}(x)+\\tilde{H}(y))$, as before. In the intermediate region, the function smoothly transitions from $\\frac{1}{2}(\\tilde{H}(x)+\\tilde{H}(y))$ to $1$."
   ]
  },
  {
   "cell_type": "code",
   "execution_count": null,
   "id": "0a46fb72-1e1b-4162-b751-a01551c20f0a",
   "metadata": {},
   "outputs": [],
   "source": [
    "def extend_F(F_vals, c_vals, x_grid, y_grid, epsilon=1.0):\n",
    "    \"\"\"\n",
    "    Constructs new_vals with correct epsilon-thickening logic:\n",
    "      - new_vals = F_vals inside [-1, 1]^2\n",
    "      - new_vals = T in thickened shell (distance <= epsilon, not box)\n",
    "      - new_vals = k_vals outside the thickened region\n",
    "\n",
    "    Parameters:\n",
    "    - F_vals: np.ndarray, values of H(x, y)\n",
    "    - c_vals: np.ndarray, values of k(x, y)\n",
    "    - x_grid, y_grid: coordinate grids matching H_vals shape\n",
    "    - epsilon: thickness parameter for blending\n",
    "\n",
    "    Returns:\n",
    "    - new_vals: np.ndarray, constructed values\n",
    "    \"\"\"\n",
    "\n",
    "    new_vals = np.zeros_like(F_vals)\n",
    "\n",
    "    # Step 1: Compute distance from each point to [-1,1]^2 box\n",
    "    dx = np.maximum(np.abs(x_grid) - 1, 0)\n",
    "    dy = np.maximum(np.abs(y_grid) - 1, 0)\n",
    "    dist = np.sqrt(dx**2 + dy**2)\n",
    "\n",
    "    # Step 2: Define regions\n",
    "    in_core = (np.abs(x_grid) <= 1) & (np.abs(y_grid) <= 1)\n",
    "    in_thickened = (dist <= epsilon) & (~in_core)\n",
    "    outside = dist > epsilon\n",
    "\n",
    "    # Step 3: Compute blending weights in shell region\n",
    "    d = dist\n",
    "    denom = d**2 + (1 - d)**2\n",
    "    denom[denom == 0] = 1  # Avoid division by zero\n",
    "    w = d**2 / denom\n",
    "\n",
    "    # Step 4: Assign values\n",
    "    new_vals[in_core] = F_vals[in_core]\n",
    "    new_vals[in_thickened] = w[in_thickened] * c_vals[in_thickened] + (1 - w[in_thickened]) * F_vals[in_thickened]\n",
    "    new_vals[outside] = c_vals[outside]\n",
    "\n",
    "    return new_vals"
   ]
  },
  {
   "cell_type": "code",
   "execution_count": null,
   "id": "d11ac37d-49ff-4284-9520-00e9a554e382",
   "metadata": {},
   "outputs": [],
   "source": [
    "# x values\n",
    "x_vals = np.linspace(-6,6,1000)\n",
    "y_vals = np.linspace(-6,6,1000)\n",
    "\n",
    "# Compute H_star_vals\n",
    "H_star_vals = compute_H_star(x_vals,y_vals)\n",
    "\n",
    "# Constant values\n",
    "c_vals = np.ones(H_star_vals.shape)\n",
    "\n",
    "# Generate 2D grids from x_vals\n",
    "X, Y = np.meshgrid(x_vals, y_vals)\n",
    "\n",
    "# Extend H*\n",
    "H_star_vals = extend_F(H_star_vals, c_vals, X, Y, epsilon=1.0)\n",
    "\n",
    "# Extend H star\n",
    "plot_surface_3d(H_star_vals, x_vals, downsample=2, title=\"3D Surface With Critical Values [0,1]\", z_title=\"H*(x, y) = H\\u0303(x) + H\\u0303(y)\")"
   ]
  },
  {
   "cell_type": "markdown",
   "id": "7494edf3-96d6-464f-beb1-12396dcb934f",
   "metadata": {},
   "source": [
    "#### Mapping to Spherical"
   ]
  },
  {
   "cell_type": "markdown",
   "id": "8609fe29-47a2-453e-8ac9-884ed830e630",
   "metadata": {},
   "source": [
    "We next define $H$ in spherical coordinates $(\\theta,\\psi)$ by\n",
    "$$\n",
    "H(\\theta,\\psi) := H^*\\left(\\frac{\\pi}{2k}(\\theta + k),\\, \\frac{\\pi}{k}(\\psi + k)\\right)\n",
    "$$\n",
    "for some suitably large integer $k$. Geometrically, this corresponds to embedding a small patch of the plane, containing the critical structure of $H^*$, onto the surface of a sphere of radius 1. Intuitively, one can think of this as removing a small 'panel' from the sphere and replacing it with a rescaled and smoothly curved version of $H^*$ that conforms to the spherical geometry. \n",
    "\n",
    "The below plot illustrates the surface $r=H(\\theta,\\psi)$, which by construction is tangent to every sphere with radius in $[0,1]$. MARKER add back in 2d spherical\n"
   ]
  },
  {
   "cell_type": "code",
   "execution_count": null,
   "id": "1f80476c-81db-4126-819b-fa917059d1d6",
   "metadata": {},
   "outputs": [],
   "source": [
    "# Compute theta and psi\n",
    "theta_vals = np.linspace(0,1,len(x_vals))*np.pi#(x_vals/2 + 1) * (np.pi/4)     # [π/4, 3π/4]\n",
    "psi_vals = np.linspace(0,2,len(x_vals))*np.pi           # [π/2, 3π/2]\n",
    "\n",
    "# Construct grid of (theta,psi) values\n",
    "Theta, Psi = np.meshgrid(theta_vals, psi_vals, indexing='ij')  # shape (N, N)\n",
    "\n",
    "# Compute R values on this grid\n",
    "R = H_star_vals \n",
    "\n",
    "# Construct coordinates for visualisation\n",
    "X = R * np.sin(Theta) * np.cos(Psi)\n",
    "Y = R * np.sin(Theta) * np.sin(Psi)\n",
    "Z = R * np.cos(Theta)\n",
    "\n",
    "# Plot surface, sphere added to demonstrate tangency\n",
    "plot_surface_3d(Z, X, Y, downsample=2,sphere_radius=None)"
   ]
  },
  {
   "cell_type": "markdown",
   "id": "2ed7dd8f-8eaf-437e-989d-2f81d3b86bd4",
   "metadata": {},
   "source": [
    "### Step 2: Constructing $G$"
   ]
  },
  {
   "cell_type": "markdown",
   "id": "3838c49b-43a6-4d46-b8e4-616dcb6afa48",
   "metadata": {},
   "source": [
    "Next, we construct a $C^1$ function $G^* : \\mathbb{R}^2 \\to \\mathbb{R}$ that acts as a lower bound for $H^*$ and satisfies the following properties:\n",
    "\n",
    "- $G^*(x, y) \\leq H^*(x, y)$ for all $(x, y) \\in \\mathbb{R}^2$, with equality if and only if $(x, y) = (0, 0)$.\n",
    "- $\\nabla G^*(x, y) \\neq 0$ for all $(x, y) \\in [-1,1]^2 \\setminus P$, where $P = \\{(-1, -1), (-1,1), (1,-1), (1,1), (0,0)\\}$.\n",
    "- $\\nabla G^*(x, y) = 0$ outside of $[-1,1]^2 \\setminus P$.\n",
    "- The function $\\frac{G^*}{H^*}$ is $C^1$, with $\\nabla \\left( \\frac{G^*}{H^*} \\right)(0,0) = 0$.\n"
   ]
  },
  {
   "cell_type": "markdown",
   "id": "1f7e4095-cf24-46d5-96b0-72c52c73d688",
   "metadata": {},
   "source": [
    "To construct such a function, we adopt a similar approach to constructing $H^\\ast$.\n",
    "\n",
    "\n",
    "1. **One-dimensional slice:** We begin by defining a function $\\tilde{G} : [0,1] \\to [0,1]$ that has positive gradient on $(0,1)$ and zero gradient on $\\{0,1\\}$ satisfying $\\tilde{G}\\leq \\tilde{H}$ with equality only at $x=0$ and $x=1$. We also ensure that $\\frac{\\tilde{G}}{\\tilde{H}}$ is differentiable at the origin with gradient zero.\n",
    "\n",
    "2. **Symmetrization:** We extend this function to $[-1,1]$ by requiring it to be even.\n",
    "\n",
    "3. **Product extension:** Identifying $[-1,1]$ with $[-1,1] \\times \\{0\\}$, we extend the domain to $[-1,1]^2$ by defining  \n",
    "   $$\n",
    "   G^\\ast(x, y) = \\frac{1}{2}(\\tilde{G}(x) + \\tilde{G}(y)).\n",
    "   $$\n",
    "\n",
    "4. **Global extension:** As with $H^\\ast$, we extend the definition of $G^\\ast$ on $[-1,1]^2$. Specifically, we define $G^\\ast(x, y) = \\frac{1}{2}$ for all $(x, y) \\in \\mathbb{R}^2 \\setminus [-2,2]^2$, and use a $C^1$ transition function to smoothly interpolate over the rectangular region $[-2,2]^2 \\setminus [-1,1]^2$, resulting in a globally $C^1$ function."
   ]
  },
  {
   "cell_type": "markdown",
   "id": "791f7f6b-7348-4ef6-baf8-4b7d7a54ea96",
   "metadata": {},
   "source": [
    "#### One-dimensional slice"
   ]
  },
  {
   "cell_type": "markdown",
   "id": "a5df5b78-aed5-49e8-a6e1-7d8bf2da8c69",
   "metadata": {},
   "source": [
    "Analogously to the construction of $h$, we begin by designing a function $g:[0,1]\\rightarrow [0,1]$. This time, instead of summing carefully-placed non-overlapping spikes, we sum carefully-placed 'ramp' functions. These ramps increase linearly from zero to a fixed height over an interval $[a_n, b_n]$, and remain constant thereafter.\n",
    "\n",
    "For each $n \\in \\mathbb{N}_{>0}$, define:\n",
    "$$\n",
    "a_n := \\left( \\frac{2}{5} \\right)^n, \\qquad b_n := \\frac{3}{5} \\cdot \\left( \\frac{2}{5} \\right)^{n-1}\n",
    "$$\n",
    "\n",
    "Let the ramp height be given by:\n",
    "$$\n",
    "h_n := \\frac{1}{2} \\cdot \\frac{1}{3^n(1 - b_n) \\cdot n}\n",
    "$$\n",
    "\n",
    "We define the individual ramp function $\\text{Ramp}_n(x)$ as:\n",
    "$$\n",
    "\\text{Ramp}_n(x) := \n",
    "\\begin{cases}\n",
    "0 & \\text{if } x < a_n \\\\\n",
    "h_n \\cdot \\dfrac{x - a_n}{b_n - a_n} & \\text{if } a_n \\leq x < b_n \\\\\n",
    "h_n & \\text{if } x \\geq b_n\n",
    "\\end{cases}\n",
    "$$\n",
    "\n",
    "Then the full function $g$ is given by:\n",
    "$$\n",
    "g(x) := \\sum_{n=1}^{\\infty} \\text{Ramp}_n(x)\n",
    "$$\n",
    "\n",
    "This construction mirrors the spike-based summation used for $h(x)$, but instead of adding $2^n$ spikes of cumulative area $(\\frac{2}{3})^{n+1}$ in each iteration, a single ramp of cumulative area less than $\\frac{1}{n}(\\frac{2}{3})^{n+1}$ is added. \n"
   ]
  },
  {
   "cell_type": "markdown",
   "id": "ee7f6d45-013b-4943-8281-cb9e13b19b3e",
   "metadata": {},
   "source": [
    "Below is a plot of a single ramp."
   ]
  },
  {
   "cell_type": "code",
   "execution_count": null,
   "id": "7a05b791-e7b1-427f-b050-8b4549927a6d",
   "metadata": {},
   "outputs": [],
   "source": [
    "import numpy as np\n",
    "import matplotlib.pyplot as plt\n",
    "\n",
    "def ramp(x_vals, n):\n",
    "    a_n = (2 / 5) ** n\n",
    "    b_n = (3 / 5) * (2 / 5) ** (n - 1)\n",
    "    h_n = (1 / 2) * (1 / 3) ** n / (1 - b_n) / n\n",
    "\n",
    "    ramp_vals = np.zeros_like(x_vals)\n",
    "    ramp_mask = (x_vals >= a_n) & (x_vals < b_n)\n",
    "    ramp_vals[ramp_mask] = h_n * (x_vals[ramp_mask] - a_n) / (b_n - a_n)\n",
    "    ramp_vals[x_vals >= b_n] = h_n\n",
    "    return ramp_vals\n",
    "\n",
    "x_vals = np.linspace(0, 1, 1000)\n",
    "n = 1\n",
    "y_vals = ramp(x_vals, n)\n",
    "\n",
    "plt.plot(x_vals, y_vals)\n",
    "plt.title(f\"Ramp function for n={n}\")\n",
    "plt.xlabel(\"x\")\n",
    "plt.ylabel(f\"Ramp_{{{n}}}(x)\")\n",
    "plt.grid(True)\n",
    "plt.show()\n"
   ]
  },
  {
   "cell_type": "markdown",
   "id": "5d9b18f9-6d85-4b27-81a1-6f42f7f2008e",
   "metadata": {},
   "source": [
    "Below is a plot of $g$."
   ]
  },
  {
   "cell_type": "code",
   "execution_count": null,
   "id": "5337de39-78df-407b-a17b-07b55b1a953a",
   "metadata": {},
   "outputs": [],
   "source": [
    "import numpy as np\n",
    "\n",
    "def compute_g(x_vals, N_max):\n",
    "    x_vals = np.array(x_vals)\n",
    "    total = np.zeros_like(x_vals)\n",
    "\n",
    "    for i in range(1, N_max + 1):\n",
    "        a_n = (2 / 5) ** i\n",
    "        b_n = (3 / 5) * (2 / 5) ** (i - 1)\n",
    "        h_n = (1 / 2) * (1 / 3) ** i / (1 - b_n) / i\n",
    "\n",
    "        g_n = np.zeros_like(x_vals)\n",
    "\n",
    "        # Ramp section: (a_n, 0) to (b_n, h_n)\n",
    "        ramp_mask = (x_vals >= a_n) & (x_vals < b_n)\n",
    "        g_n[ramp_mask] = h_n * (x_vals[ramp_mask] - a_n) / (b_n - a_n)\n",
    "\n",
    "        # Horizontal section: (b_n, h_n) to (1, h_n)\n",
    "        horiz_mask = (x_vals >= b_n) & (x_vals <= 1)\n",
    "        g_n[horiz_mask] = h_n\n",
    "\n",
    "        total += g_n\n",
    "\n",
    "    return total\n"
   ]
  },
  {
   "cell_type": "code",
   "execution_count": null,
   "id": "914d25e4-86eb-4b19-a695-9a591cacafe7",
   "metadata": {},
   "outputs": [],
   "source": [
    "import matplotlib.pyplot as plt\n",
    "\n",
    "x_vals = np.linspace(0, 1, 1000)\n",
    "g_vals = compute_g(x_vals, N_max=100)\n",
    "\n",
    "plt.plot(x_vals, g_vals)\n",
    "plt.title(\"g(x) for n=10\")\n",
    "plt.xlabel(\"x\")\n",
    "plt.ylabel(\"g(x)\")\n",
    "plt.grid(True)\n",
    "plt.show()\n"
   ]
  },
  {
   "cell_type": "markdown",
   "id": "9f8d767d-4371-4bab-9f04-6aad23a79b1a",
   "metadata": {},
   "source": [
    "For reference, we show $h$ and $g$ on the same plot below."
   ]
  },
  {
   "cell_type": "code",
   "execution_count": null,
   "id": "2774d53c-79f2-457a-9d1c-b008a157fb8f",
   "metadata": {},
   "outputs": [],
   "source": [
    "import numpy as np\n",
    "import matplotlib.pyplot as plt\n",
    "\n",
    "# Example x range\n",
    "x_vals = np.linspace(0, 1, 1000)\n",
    "\n",
    "# Compute both functions\n",
    "h_vals = compute_h(x_vals, N_max=10)  \n",
    "g_vals = compute_g(x_vals, N_max=100)  \n",
    "          \n",
    "\n",
    "# Plot both\n",
    "plt.plot(x_vals, h_vals, label=\"h(x)\", linestyle='--')   # Dashed line for f\n",
    "plt.plot(x_vals, g_vals, label=\"g(x)\", linewidth=2)      # Solid line for g\n",
    "\n",
    "plt.title(\"Comparison of h(x) and g(x)\")\n",
    "plt.xlabel(\"x\")\n",
    "plt.ylabel(\"Function value\")\n",
    "plt.legend()\n",
    "plt.grid(True)\n",
    "plt.show()"
   ]
  },
  {
   "cell_type": "markdown",
   "id": "68ed6db6-2d83-4dad-a818-60c5475b1a22",
   "metadata": {},
   "source": [
    "As before, we now define a function $\\tilde{G}$ by integrating $g$. However, unlike with $\\tilde{H}$, we also multiply by an additional factor of $\\tilde{H}(x)$. This will be of use when computing the gradient of $\\frac{\\tilde{G}}{\\tilde{H}}$ shortly. \n",
    "\n",
    "\n",
    "\\begin{equation}\\nonumber\n",
    "    \\tilde{G}(x):=\\tilde{H}(x)\\int_{t=0}^x g(t)dt.\n",
    "\\end{equation}\n"
   ]
  },
  {
   "cell_type": "code",
   "execution_count": null,
   "id": "4c89e6ec-ffd7-470f-acc6-9b7b1a6fe0ac",
   "metadata": {},
   "outputs": [],
   "source": [
    "def compute_G_tilde(x_vals, normalise=False):\n",
    "    \n",
    "    # Separate into negative and non-negative parts\n",
    "    x_neg = x_vals[x_vals < 0]\n",
    "    x_pos = x_vals[x_vals >= 0]\n",
    "\n",
    "    # Prepare result array\n",
    "    G_tilde_vals = np.empty_like(x_vals, dtype=float)\n",
    "\n",
    "    # Compute H for negative values\n",
    "    if len(x_neg) > 0:\n",
    "\n",
    "        # Flip sign and reverse order\n",
    "        x_neg_flipped = -x_neg[::-1]  \n",
    "\n",
    "        # Compute h values for negative\n",
    "        g_neg = compute_g(x_neg_flipped, N_max=6)\n",
    "        H_tilde_neg = compute_H_tilde(x_neg_flipped)\n",
    "\n",
    "        # Compute integral for negative\n",
    "        G_tilde_neg = H_tilde_neg*compute_integral(x_neg_flipped, g_neg)\n",
    "        \n",
    "        # Reverse to match original x_neg order\n",
    "        G_tilde_neg = G_tilde_neg[::-1]  \n",
    "\n",
    "        # Insert back into array\n",
    "        G_tilde_vals[:len(G_tilde_neg)] = G_tilde_neg\n",
    "\n",
    "    # Compute H for positive values\n",
    "    if len(x_pos) > 0:\n",
    "        \n",
    "        # Compute h values for positive\n",
    "        g_pos = compute_g(x_pos, N_max=6)\n",
    "        H_tilde_pos = compute_H_tilde(x_pos)\n",
    "        \n",
    "        # Compute integral for positive\n",
    "        G_tilde_pos = H_tilde_pos*compute_integral(x_pos, g_pos)\n",
    "\n",
    "        # Insert back into array\n",
    "        G_tilde_vals[-len(G_tilde_pos):] = G_tilde_pos\n",
    "\n",
    "    # Normalise entire result if requested\n",
    "    if normalise:\n",
    "        G_tilde_vals = G_tilde_vals / G_tilde_vals[-1]\n",
    "\n",
    "    # Return results\n",
    "    return G_tilde_vals"
   ]
  },
  {
   "cell_type": "markdown",
   "id": "6e172d0c-efc4-4ef5-88c7-87f583bcb45a",
   "metadata": {},
   "source": [
    "Below is a plot of $\\tilde{H}$ and $\\tilde{G}$ for comparison."
   ]
  },
  {
   "cell_type": "code",
   "execution_count": null,
   "id": "e809005b-4447-4c4d-9007-81503bc1fcf5",
   "metadata": {},
   "outputs": [],
   "source": [
    "# Create x values\n",
    "x_vals = np.linspace(0,1,1000)\n",
    "\n",
    "# Compute H tilde and G tilde\n",
    "H_tilde_vals = compute_H_tilde(x_vals)\n",
    "G_tilde_vals = compute_G_tilde(x_vals)\n",
    "\n",
    "# Plot both\n",
    "plt.plot(x_vals, H_tilde_vals, label=r\"$\\tilde{H}$(x)\", linestyle='--')   # Dashed line for f\n",
    "plt.plot(x_vals, G_tilde_vals, label=r\"$\\tilde{G}$(x)\", linewidth=2)      # Solid line for g\n",
    "\n",
    "plt.title(r\"Comparison of $\\tilde{H}$(x) and $\\tilde{G}$(x)\")\n",
    "plt.xlabel(\"x\")\n",
    "plt.ylabel(\"Function value\")\n",
    "plt.legend()\n",
    "plt.grid(True)\n",
    "plt.show()"
   ]
  },
  {
   "cell_type": "markdown",
   "id": "8e4a9ec7-976e-446a-ac7d-c8e25741b794",
   "metadata": {},
   "source": [
    "At this point, it is worth noting some properties of $\\tilde{G}$ which follow from the above construction. We have that:\n",
    "\n",
    " 1. By the product rule, for $x>0$, we have:\n",
    "     $$\\tilde{G}'(x) =  h(x)\\cdot \\bigg(\\int_{0}^x g(t)dt\\bigg) + \\tilde{H}(x) \\cdot g(x) > 0,$$\n",
    "    as all terms in the above expression are non-negative, with $\\tilde{H}(x)$ and $g(x)$ being strictly positive.\n",
    " 2. Similarly, noting $h(0)=g(0)=0$, we have $\\tilde{G}'(0)=0$.\n",
    " 3. The following limit holds:\n",
    "     $$\\lim_{x\\rightarrow 0}\\bigg(\\frac{\\tilde{G}}{\\tilde{H}}\\bigg)(x)=\\lim_{x\\rightarrow 0}\\int_{t=0}^xg(t)dt=0.$$\n",
    " 4. For $x\\neq 0$ the gradient of $\\frac{\\tilde{G}}{\\tilde{H}}$ is given by:\n",
    "    $$\\bigg(\\frac{\\tilde{G}}{\\tilde{H}}\\bigg)'(x)=\\frac{\\partial}{\\partial x}\\bigg(\\int_{t=0}^xg(t)dt\\bigg)=g(x)>0.$$\n",
    "    The discontinuity at $x=0$ is easily seen to be removable and thus $(\\frac{\\tilde{G}}{\\tilde{H}})'(0)=0$."
   ]
  },
  {
   "cell_type": "markdown",
   "id": "9b72cfb8-9f0b-4eb1-b679-dbdd4ac58836",
   "metadata": {},
   "source": [
    "Before moving on, we must make one final adjustment to $\\tilde{G}$. For what follows we shall need $\\tilde{G}$ to have gradient 1 at $x=1$. To do so, we use again the $C^1$ transition function $s:\\mathbb{R}\\rightarrow \\mathbb{R}$ to transition between $\\tilde{G}$ on $[0,0.5]$ to the constant function with value $\\frac{1}{2}$ on $[1,\\infty)$. In a slight abuse of notation, the resultant function is what we shall refer to as $\\tilde{G}$ going forwards."
   ]
  },
  {
   "cell_type": "code",
   "execution_count": null,
   "id": "2a5ddab3-bd09-43b6-a34f-e85ce2daca04",
   "metadata": {},
   "outputs": [],
   "source": [
    "# Smooth transition function\n",
    "def s(x):\n",
    "    x = np.asarray(x)\n",
    "    s_vals = np.zeros_like(x)\n",
    "\n",
    "    # For 0 < x < 1\n",
    "    mask_middle = (x > 0) & (x < 1)\n",
    "    x_mid = x[mask_middle]\n",
    "    s_vals[mask_middle] = x_mid**2 / (x_mid**2 + (1 - x_mid)**2)\n",
    "\n",
    "    # For x >= 1\n",
    "    mask_high = x >= 1\n",
    "    s_vals[mask_high] = 1\n",
    "\n",
    "    # x <= 0 stays 0 by default\n",
    "    return s_vals\n",
    "\n",
    "def compute_G_tilde_with_transition(x_vals, a=0.5, c=0.5):\n",
    "\n",
    "    # Handle negative values\n",
    "    if np.any(x_vals<0):\n",
    "\n",
    "        # Seperate negatives and positives\n",
    "        x_vals_neg = x_vals[x_vals<0]\n",
    "        x_vals_pos = x_vals[x_vals>=0]\n",
    "\n",
    "        # Reverse order and sign of negative\n",
    "        x_vals_neg = -x_vals_neg[::-1]\n",
    "\n",
    "        # Compute seperately for each\n",
    "        G_tilde_vals_neg = compute_G_tilde_with_transition(x_vals_neg, a=0.5, c=0.5)[::-1]\n",
    "        G_tilde_vals_pos = compute_G_tilde_with_transition(x_vals_pos, a=0.5, c=0.5)\n",
    "\n",
    "        # Concetenate\n",
    "        G_tilde_vals = np.concatenate((G_tilde_vals_neg,G_tilde_vals_pos),axis=0)\n",
    "        return(G_tilde_vals)\n",
    "        \n",
    "    # Compute G tilde\n",
    "    G_tilde_vals = compute_G_tilde(x_vals)\n",
    "    \n",
    "    # Compute transformed argument to s\n",
    "    s_input = (x_vals - 1) / a + 1\n",
    "    s_vals = s(s_input)\n",
    "    \n",
    "    # Now compute N(x)\n",
    "    G_tilde_vals = s_vals * c + (1 - s_vals) * G_tilde_vals\n",
    "    return G_tilde_vals\n",
    "\n",
    "# Compute G tilde values\n",
    "G_tilde_vals = compute_G_tilde_with_transition(x_vals)"
   ]
  },
  {
   "cell_type": "code",
   "execution_count": null,
   "id": "82c7ebac-ccd5-4266-8899-e5371e9bfb6b",
   "metadata": {},
   "outputs": [],
   "source": [
    "# Plot both\n",
    "plt.plot(x_vals, H_tilde_vals, label=r\"$\\tilde{H}$(x)\", linestyle='--')   # Dashed line for f\n",
    "plt.plot(x_vals, G_tilde_vals, label=r\"$\\tilde{G}$(x)\", linewidth=2)      # Solid line for g\n",
    "\n",
    "plt.title(r\"Comparison of $\\tilde{H}$(x) and $\\tilde{G}$(x)\")\n",
    "plt.xlabel(\"x\")\n",
    "plt.ylabel(\"Function value\")\n",
    "plt.legend()\n",
    "plt.grid(True)\n",
    "plt.show()"
   ]
  },
  {
   "cell_type": "markdown",
   "id": "22d62fe8-a0f1-4865-a116-2915acd71bf9",
   "metadata": {},
   "source": [
    "It is easily seen that this final definition of $\\tilde{G}$ still satisfies properties 2 and 3 listed above. A straightforward computation also shows that property 1 continues to hold, except at the point $x = 1$, where we now have $\\tilde{G}'(1) = 0$ instead of $\\tilde{G}'(1) > 0$.\n",
    "\n",
    "The explicit form of the derivative given in property 4 is no longer valid globally, but it remains correct for $x < 0.5$, which in particular implies that\n",
    "$$\n",
    "\\left( \\frac{\\tilde{G}}{\\tilde{H}} \\right)'(0) = 0.\n",
    "$$\n",
    "\n",
    "Using the product rule and the fact that $g(x) < 0.5$ for all $x \\in [0,1]$, it can further be shown that\n",
    "$$\n",
    "\\left( \\frac{\\tilde{G}}{\\tilde{H}} \\right)'(x) > 0 \\quad \\text{for all } x \\in (0,1), \\quad \\text{and} \\quad \\left( \\frac{\\tilde{G}}{\\tilde{H}} \\right)'(1) = 0.\n",
    "$$\n"
   ]
  },
  {
   "cell_type": "markdown",
   "id": "9ba321b6-4c14-4e59-a668-18385e9938b7",
   "metadata": {},
   "source": [
    "#### Symmetrization"
   ]
  },
  {
   "cell_type": "markdown",
   "id": "df47c0b2-eeb2-4785-916f-00a180f00387",
   "metadata": {},
   "source": [
    "As we did with $\\tilde{H}$, we next extend $\\tilde{G}$ to $[-1,1]$ by assuming that it is an even function. Note that by the above, both $\\tilde{G}$ and $\\frac{\\tilde{G}}{\\tilde{H}}$ have gradient zero at the origin and are thus $C^1$ on the extended domain."
   ]
  },
  {
   "cell_type": "code",
   "execution_count": null,
   "id": "1acd327d-6108-4835-be06-427798aad1a0",
   "metadata": {},
   "outputs": [],
   "source": [
    "# Create x values\n",
    "x_vals = np.linspace(-1,1,1000)\n",
    "\n",
    "# Compute H tilde and G tilde\n",
    "H_tilde_vals = compute_H_tilde(x_vals)\n",
    "G_tilde_vals = compute_G_tilde_with_transition(x_vals)\n",
    "\n",
    "# Plot both\n",
    "plt.plot(x_vals, H_tilde_vals, label=r\"$\\tilde{H}$(x)\", linestyle='--')   # Dashed line for f\n",
    "plt.plot(x_vals, G_tilde_vals, label=r\"$\\tilde{G}$(x)\", linewidth=2)      # Solid line for g\n",
    "\n",
    "plt.title(r\"Comparison of $\\tilde{H}$(x) and $\\tilde{G}$(x)\")\n",
    "plt.xlabel(\"x\")\n",
    "plt.ylabel(\"Function value\")\n",
    "plt.legend()\n",
    "plt.grid(True)\n",
    "plt.show()"
   ]
  },
  {
   "cell_type": "code",
   "execution_count": null,
   "id": "1eb498a2-0236-4158-a44d-34ac5522ec91",
   "metadata": {},
   "outputs": [],
   "source": []
  },
  {
   "cell_type": "code",
   "execution_count": null,
   "id": "c78e9abc-be34-4bd0-a621-3a1ff1f90a4d",
   "metadata": {},
   "outputs": [],
   "source": []
  },
  {
   "cell_type": "code",
   "execution_count": null,
   "id": "0813f314-8be9-435c-9ca2-383c2a8e5b51",
   "metadata": {},
   "outputs": [],
   "source": []
  },
  {
   "cell_type": "code",
   "execution_count": null,
   "id": "d2e5b26d-2972-4daa-b26e-1359e6802b47",
   "metadata": {},
   "outputs": [],
   "source": []
  },
  {
   "cell_type": "code",
   "execution_count": null,
   "id": "c534c2f6-8b77-4c5a-8e46-2dd9169184c8",
   "metadata": {},
   "outputs": [],
   "source": []
  },
  {
   "cell_type": "code",
   "execution_count": null,
   "id": "fb8226ad-b617-4c7b-a8c9-a70e6be8c3f3",
   "metadata": {},
   "outputs": [],
   "source": []
  },
  {
   "cell_type": "code",
   "execution_count": null,
   "id": "1d744289-12df-42df-a5ba-3fb856f62c43",
   "metadata": {},
   "outputs": [],
   "source": []
  },
  {
   "cell_type": "code",
   "execution_count": null,
   "id": "afe59dcb-198f-4c52-8fbb-e38bcbaa6c42",
   "metadata": {},
   "outputs": [],
   "source": []
  },
  {
   "cell_type": "code",
   "execution_count": null,
   "id": "db2c68bc-681d-47a3-bc84-0ac11096855b",
   "metadata": {},
   "outputs": [],
   "source": []
  },
  {
   "cell_type": "markdown",
   "id": "35d22970-b79c-4073-b288-8263a5d348d0",
   "metadata": {},
   "source": [
    "### Step 3: Constructing $f$\n",
    "\n",
    "We now construct a function $f : [0,\\infty) \\times [0,\\pi] \\times [0,2\\pi) \\rightarrow \\mathbb{R}$ whose zero level set corresponds to the surface defined by $H$, that is,\n",
    "$$\n",
    "f^{-1}(0) = \\{ (r, \\theta, \\psi) \\mid r = H(\\theta, \\psi) \\},\n",
    "$$\n",
    "such that $f$ has vanishing gradient at the origin, and non-vanishing gradient in a neighborhood around the origin, excluding the origin itself.\n"
   ]
  },
  {
   "cell_type": "code",
   "execution_count": null,
   "id": "ce048230-2671-4f4a-b7fa-ff9bcb047d6f",
   "metadata": {},
   "outputs": [],
   "source": []
  },
  {
   "cell_type": "code",
   "execution_count": null,
   "id": "b1c45ee8-c063-483c-aa19-10641dc90058",
   "metadata": {},
   "outputs": [],
   "source": []
  },
  {
   "cell_type": "code",
   "execution_count": null,
   "id": "1e4146c9-10fd-4767-bf30-746e6d6f30cd",
   "metadata": {},
   "outputs": [],
   "source": []
  },
  {
   "cell_type": "code",
   "execution_count": null,
   "id": "bfe315cf-8184-4227-b3d3-519c84838730",
   "metadata": {},
   "outputs": [],
   "source": []
  }
 ],
 "metadata": {
  "kernelspec": {
   "display_name": "Python 3 (ipykernel)",
   "language": "python",
   "name": "python3"
  },
  "language_info": {
   "codemirror_mode": {
    "name": "ipython",
    "version": 3
   },
   "file_extension": ".py",
   "mimetype": "text/x-python",
   "name": "python",
   "nbconvert_exporter": "python",
   "pygments_lexer": "ipython3",
   "version": "3.12.7"
  }
 },
 "nbformat": 4,
 "nbformat_minor": 5
}
