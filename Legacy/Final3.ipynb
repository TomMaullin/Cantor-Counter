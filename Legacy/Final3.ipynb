{
 "cells": [
  {
   "cell_type": "markdown",
   "id": "cf23a91b-bdf4-47eb-bba0-7e362da5523a",
   "metadata": {},
   "source": [
    "# Counterexample X"
   ]
  },
  {
   "cell_type": "markdown",
   "id": "eb403b6b-a536-4c4d-bcfe-409a97e3693a",
   "metadata": {},
   "source": [
    "### Installations"
   ]
  },
  {
   "cell_type": "markdown",
   "id": "d9efbbe0-2d4b-4306-a7bf-4c1a745a7404",
   "metadata": {},
   "source": [
    "The below will install the necessary packages to run the notebook."
   ]
  },
  {
   "cell_type": "code",
   "execution_count": null,
   "id": "b8157217-c5f6-475d-a22b-be68c8610a3b",
   "metadata": {},
   "outputs": [],
   "source": [
    "!pip install numpy\n",
    "!pip install matplotlib\n",
    "!pip install plotly\n",
    "!pip install scipy"
   ]
  },
  {
   "cell_type": "markdown",
   "id": "0968afff-e3fc-4a11-ae8e-04ddf1358df6",
   "metadata": {},
   "source": [
    "The following block imports the relevant modules"
   ]
  },
  {
   "cell_type": "code",
   "execution_count": null,
   "id": "54e4e2e0-7dce-4bc5-bf93-c06351b0057d",
   "metadata": {},
   "outputs": [],
   "source": [
    "import numpy as np\n",
    "import matplotlib.pyplot as plt\n",
    "import plotly.graph_objects as go\n",
    "from scipy.integrate import cumulative_trapezoid\n",
    "import os\n",
    "os.environ[\"KMP_DUPLICATE_LIB_OK\"] = \"TRUE\""
   ]
  },
  {
   "cell_type": "markdown",
   "id": "a28d8d81-ffad-464e-b8f5-52fc85e10702",
   "metadata": {},
   "source": [
    "The below helper functions will be useful later."
   ]
  },
  {
   "cell_type": "code",
   "execution_count": null,
   "id": "e54d3c50-3d64-4e61-9666-0add9a25dc43",
   "metadata": {},
   "outputs": [],
   "source": [
    "from scipy.integrate import cumulative_trapezoid\n",
    "from scipy.interpolate import interp1d\n",
    "import numpy as np\n",
    "\n",
    "def compute_integral(x_vals, f_function, resolution=500, grid_threshold=50, normalise=True):\n",
    "    \"\"\"\n",
    "    Compute F(x) = ∫₀ˣ f(t) dt for each x in x_vals.\n",
    "    \n",
    "    If len(x_vals) > grid_threshold, assume x_vals is already a proper grid\n",
    "    and integrate directly using cumulative_trapezoid.\n",
    "\n",
    "    Parameters\n",
    "    ----------\n",
    "    x_vals : array_like\n",
    "        Array of x values (non-negative) at which to compute the integral.\n",
    "    f_function : callable\n",
    "        Function handle that accepts a 1D array and returns f(x).\n",
    "    resolution : int\n",
    "        Resolution for internal grid (used if x_vals is sparse).\n",
    "    grid_threshold : int\n",
    "        Number of points above which x_vals is treated as a proper grid.\n",
    "    normalise : boolean\n",
    "        Whether or not to normalise (divide by value at 1, used to account for computational innacuracies)\n",
    "\n",
    "    Returns\n",
    "    -------\n",
    "    F_vals : ndarray\n",
    "        Array of integral values F(x_vals).\n",
    "    \"\"\"\n",
    "    x_vals = np.asarray(x_vals)\n",
    "    assert np.all(x_vals >= 0), \"x_vals must be non-negative\"\n",
    "\n",
    "    if len(x_vals) > grid_threshold:\n",
    "        # Assume x_vals is already a suitable integration grid\n",
    "        f_vals = f_function(x_vals)\n",
    "        F_vals = cumulative_trapezoid(f_vals, x_vals, initial=0)\n",
    "        \n",
    "        # Normalise by making sure final entry is one\n",
    "        if normalise:\n",
    "            F_vals = F_vals/F_vals[-1]\n",
    "\n",
    "        return F_vals\n",
    "\n",
    "    # Otherwise: build a fine internal grid from 0 to 1\n",
    "    x_grid = np.linspace(0, 1, resolution)\n",
    "    f_grid = f_function(x_grid)\n",
    "\n",
    "    F_grid = cumulative_trapezoid(f_grid, x_grid, initial=0)\n",
    "    \n",
    "    # Normalise by making sure final entry is one\n",
    "    if normalise:\n",
    "        F_grid = F_grid/F_grid[-1]\n",
    "\n",
    "    # Interpolate cumulative integral back to sparse x_vals\n",
    "    interp_func = interp1d(x_grid, F_grid, kind='nearest', bounds_error=False, fill_value=\"extrapolate\")\n",
    "    F_vals = interp_func(x_vals)\n",
    "    \n",
    "    return F_vals\n"
   ]
  },
  {
   "cell_type": "code",
   "execution_count": null,
   "id": "ec7f179f-c0df-4609-bc31-922b76512c98",
   "metadata": {},
   "outputs": [],
   "source": [
    "def plot_surface_3d(F_vals, x_vals, y_vals=None, downsample=1, title='Surface Plot', z_title='Z', sphere_radius=None):\n",
    "    \"\"\"\n",
    "    Plots a 3D surface for F_vals over the given x and y values.\n",
    "\n",
    "    Parameters:\n",
    "    - F_vals: 2D array of values representing F(x, y)\n",
    "    - x_vals: 1D array for x-axis (or 2d precomputed grid coordinates)\n",
    "    - y_vals: 1D array for y-axis (or 2d precomputed grid coordinates) (optional; defaults to x_vals)\n",
    "    - downsample: int factor to reduce resolution (e.g., 2 means every 2nd point)\n",
    "    - sphere_radius: float, optional — if provided, a translucent sphere of this radius is added\n",
    "    \"\"\"\n",
    "\n",
    "    if y_vals is None:\n",
    "        y_vals = x_vals\n",
    "\n",
    "    if y_vals.ndim != x_vals.ndim:\n",
    "        raise ValueError('x and y must have same number of dimensions.')\n",
    "\n",
    "    # Downsample data if needed\n",
    "    if downsample > 1:\n",
    "        F_vals = F_vals[::downsample, ::downsample]\n",
    "\n",
    "        if x_vals.ndim == 1:\n",
    "            x_vals = x_vals[::downsample]\n",
    "            y_vals = y_vals[::downsample]\n",
    "        else:\n",
    "            x_vals = x_vals[::downsample, ::downsample]\n",
    "            y_vals = y_vals[::downsample, ::downsample]\n",
    "\n",
    "    # Create 2D grid (X, Y)\n",
    "    if x_vals.ndim == 1:\n",
    "        X, Y = np.meshgrid(x_vals, y_vals, indexing='xy')\n",
    "    else:\n",
    "        X = x_vals\n",
    "        Y = y_vals\n",
    "\n",
    "    # Create surface plot list\n",
    "    surfaces = [\n",
    "        go.Surface(\n",
    "            x=X,\n",
    "            y=Y,\n",
    "            z=F_vals,\n",
    "            colorscale='Viridis',\n",
    "            name='Main Surface'\n",
    "        )\n",
    "    ]\n",
    "\n",
    "    # Optionally add a translucent sphere\n",
    "    if sphere_radius is not None:\n",
    "        u = np.linspace(0, np.pi, 50)\n",
    "        v = np.linspace(0, 2 * np.pi, 50)\n",
    "        U, V = np.meshgrid(u, v)\n",
    "        Xs = sphere_radius * np.sin(U) * np.cos(V)\n",
    "        Ys = sphere_radius * np.sin(U) * np.sin(V)\n",
    "        Zs = sphere_radius * np.cos(U)\n",
    "\n",
    "        surfaces.append(\n",
    "            go.Surface(\n",
    "                x=Xs,\n",
    "                y=Ys,\n",
    "                z=Zs,\n",
    "                opacity=0.3,\n",
    "                showscale=False,\n",
    "                colorscale='Blues',\n",
    "                name=f'Sphere r={sphere_radius}'\n",
    "            )\n",
    "        )\n",
    "\n",
    "    # Create figure\n",
    "    fig = go.Figure(data=surfaces)\n",
    "\n",
    "    # Layout\n",
    "    fig.update_layout(\n",
    "        title=title,\n",
    "        scene=dict(\n",
    "            xaxis_title='x',\n",
    "            yaxis_title='y',\n",
    "            zaxis_title=z_title\n",
    "        ),\n",
    "        autosize=True,\n",
    "        width=800,\n",
    "        height=700\n",
    "    )\n",
    "\n",
    "    fig.show()\n"
   ]
  },
  {
   "cell_type": "markdown",
   "id": "7f052315-a06d-45e2-9b03-ff0a9b17d1a9",
   "metadata": {},
   "source": [
    "### Introduction"
   ]
  },
  {
   "cell_type": "markdown",
   "id": "f7ad3835-fb2a-4be8-9939-57a14792af69",
   "metadata": {},
   "source": [
    "In this notebook, we shall construct a $C^1$ function $f:\\mathbb{R}^3\\rightarrow \\mathbb{R}$ with the following properties:\n",
    "\n",
    " - $f(0,0,0)=0$.\n",
    " - The only critical point of $f$ occurs at the origin.\n",
    " - for every $\\epsilon > 0$, the zero level set $f^{-1}(0)$ intersects the boundary of the ball $\\partial B_\\epsilon \\subset \\mathbb{R}^3$ tangentially."
   ]
  },
  {
   "cell_type": "markdown",
   "id": "8a02d363-a650-4b57-b646-367e688aa634",
   "metadata": {},
   "source": [
    "To achieve this goal, we construct the function in two steps, with intermediate and final expressions given in spherical coordinates $(r, \\theta, \\psi)$, where $r \\in [0,\\infty)$, $\\theta \\in [0,\\pi]$, and $\\psi \\in [0,2\\pi)$:\n",
    "\n",
    "- **Step 1:** Define a $C^1$ function $H : [0,\\pi] \\times [0, 2\\pi) \\rightarrow [0,\\infty)$ such that the surface given by $r = H(\\theta, \\psi)$ is tangent to every ball of radius less than or equal to 1.\n",
    "\n",
    "- **Step 2:** Construct a $C^1$ function $f : [0,\\infty) \\times [0,\\pi] \\times [0,2\\pi) \\rightarrow \\mathbb{R}$ with zero level set given by\n",
    "  \n",
    "  $$f^{-1}(0) = \\{ (r, \\theta, \\psi) \\mid r = H(\\theta, \\psi) \\},$$\n",
    "  zero gradient at the origin, and non-vanishing gradient everywhere else within a neighbourhood of the origin.\n",
    "\n",
    "We treat $[0,\\infty) \\times [0,\\pi] \\times [0,2\\pi)$ as spherical coordinates on $\\mathbb{R}^3$, with the usual identification of $\\psi = 0$ and $\\psi = 2\\pi$, and the azimuthal degeneracy at the poles $\\theta = 0$ and $\\theta = \\pi$.\n",
    "\n"
   ]
  },
  {
   "cell_type": "markdown",
   "id": "ebd92fe9-dea8-41d0-ba20-9871967abbab",
   "metadata": {},
   "source": [
    "### Step 1: Constructing $H$"
   ]
  },
  {
   "cell_type": "markdown",
   "id": "611b357c-9657-4c18-94de-5e0c86cea498",
   "metadata": {},
   "source": [
    "To construct $H$, we begin in Cartesian coordinates $(x, y, z)$ by defining an intermediate function $H^\\ast : \\mathbb{R}^2 \\to \\mathbb{R}$ such that, for every $z \\in [0,1]$, there exists a point $(x, y) \\in [0,1]^2$ with $H^\\ast(x, y) = z$ and $\\nabla H^\\ast(x, y) = 0$. This construction follows the approach of [Grinberg (2018)](link), but we provide explicit equations throughout.\n",
    "\n",
    "\n",
    "To be specific, we construct $H$ in several steps:\n",
    "\n",
    "1. **One-dimensional slice:** We begin by defining a function $\\tilde{H} : [0,1] \\to [0,1]$ that has a critical point at every level $c \\in C$, where $C$ denotes the middle-thirds Cantor set.\n",
    "\n",
    "2. **Symmetrization:** We extend this function to $[-1,1]$ by requiring it to be even.\n",
    "\n",
    "3. **Product extension:** Identifying $[-1,1]$ with $[-1,1] \\times \\{0\\}$, we extend the domain to $[-1,1]^2$ by defining  \n",
    "   $$\n",
    "   H^\\ast(x, y) = \\frac{1}{2}(\\tilde{H}(x) + \\tilde{H}(y)).\n",
    "   $$\n",
    "\n",
    "4. **Global extension:** Extending the definition of $H^\\ast$ on $[-1,1]^2$ from above, we now define $H^\\ast(x, y) = 1$ for all $(x, y) \\in \\mathbb{R}^2 \\setminus [-2,2]^2$, and use a $C^1$ transition function to smoothly interpolate over the rectangular region $[-2,2]^2 \\setminus [-1,1]^2$, resulting in a globally $C^1$ function.\n",
    "\n",
    "5. **Mapping to Spherical:** We next define $H$ in terms of spherical coordinates $(\\theta,\\psi)$ as $H(\\theta,\\psi):=H^\\ast(\\frac{\\pi}{2k}(\\theta+k),\\frac{\\pi}{k}(\\psi+k))$ for some suitably large $k$."
   ]
  },
  {
   "cell_type": "markdown",
   "id": "f6ff5cac-f0cd-4e8a-9ae2-a0bf316a5990",
   "metadata": {},
   "source": [
    "#### One Dimensional Slice"
   ]
  },
  {
   "cell_type": "markdown",
   "id": "54506163-a9bf-485b-9709-ad25bef9b106",
   "metadata": {},
   "source": [
    "To construct the 1 dimensional function with critical points at every level $c \\in C$, we shall use a fractal construction for the derivative of $\\tilde{H}$ which involves carefully placing and summing spikes of precomputed areas."
   ]
  },
  {
   "cell_type": "markdown",
   "id": "dfe5f1f6-e92f-48c6-a23b-eb7852e46ed3",
   "metadata": {},
   "source": [
    "We start by letting $n\\in\\mathbb{N}_{>0}$ and $k \\in \\{0, 1, \\dots, 2^n - 1\\}$, and write the binary expansion of $k$ as:\n",
    "\n",
    "\\begin{equation}\\nonumber\n",
    "k = \\sum_{j=1}^n r_j \\cdot 2^{n-j}, \\quad \\text{where } r_j \\in \\{0,1\\}.\n",
    "\\end{equation}\n",
    "We then define:\n",
    "\\begin{equation}\\nonumber\n",
    "a_{n,k} := \\sum_{j=1}^n r_j \\cdot \\frac{3}{5} \\cdot \\left( \\frac{2}{5} \\right)^{j-1},\\quad\\text{and}\\quad b_{n,k} := a_{n,k} + \\left( \\frac{2}{5} \\right)^n.\n",
    "\\end{equation}"
   ]
  },
  {
   "cell_type": "markdown",
   "id": "1a33ae75-8894-410d-92d6-f252cb94cd23",
   "metadata": {},
   "source": [
    "\n",
    "Next, we define the following 'spike' function for $x \\in [0,1]$, $n \\in \\mathbb{N}_{>0}$, and $k \\in \\{0, \\dots, 2^{n-1} - 1\\}$:\n",
    "\n",
    "$$\n",
    "\\text{Spike}_{k,n}(x) = \n",
    "\\begin{cases}\n",
    "    0 & \\text{if } x \\leq \\frac{1}{2}(a_{n,k} + b_{n,k} - w_n), \\\\\n",
    "    2\\frac{h_n}{w_n} \\left(x - \\frac{1}{2}(a_{n,k} + b_{n,k} - w_n) \\right) & \\text{if } \\frac{1}{2}(a_{n,k} + b_{n,k} - w_n) \\leq x \\leq \\frac{1}{2}(a_{n,k} + b_{n,k}), \\\\\n",
    "    h_n - 2\\frac{h_n}{w_n} \\left(x - \\frac{1}{2}(a_{n,k} + b_{n,k}) \\right) & \\text{if } \\frac{1}{2}(a_{n,k} + b_{n,k}) \\leq x \\leq \\frac{1}{2}(a_{n,k} + b_{n,k} + w_n), \\\\\n",
    "    0 & \\text{if } x \\geq \\frac{1}{2}(a_{n,k} + b_{n,k} + w_n).\n",
    "\\end{cases}\n",
    "$$\n",
    "\n",
    "where the height and width are given by:\n",
    "\n",
    "$$\n",
    "h_n := 4 \\left( \\frac{5}{6} \\right)^{n+1}, \\qquad w_n := \\frac{2}{h_n \\cdot 3^{n+1}}.\n",
    "$$\n",
    "\n",
    "To give some intuition as to what this looks like, we provide a function below:"
   ]
  },
  {
   "cell_type": "code",
   "execution_count": null,
   "id": "6e067fe9-99c1-45f7-a79c-3f6a192fb780",
   "metadata": {},
   "outputs": [],
   "source": [
    "import numpy as np\n",
    "\n",
    "def spike(x, n, k):\n",
    "    \"\"\"\n",
    "    Vectorized version of the spike function Spike_{k,n}(x) for NumPy arrays.\n",
    "    \n",
    "    Parameters:\n",
    "        x : np.ndarray\n",
    "            Input values in [0, 1]\n",
    "        n : int\n",
    "            Scale level (must be >= 1)\n",
    "        k : int\n",
    "            Index in {0, ..., 2^n - 1}\n",
    "            \n",
    "    Returns:\n",
    "        np.ndarray : Values of the spike function at x\n",
    "    \"\"\"\n",
    "    x = np.asarray(x)\n",
    "    \n",
    "    # Convert k to binary vector r = [r1, ..., rn]\n",
    "    r = [(k >> (n - j - 1)) & 1 for j in range(n)]\n",
    "    \n",
    "    # Compute a_{n,k}\n",
    "    a_nk = sum(r_j * (3/5) * (2/5)**j for j, r_j in enumerate(r))\n",
    "    \n",
    "    # Compute b_{n,k}\n",
    "    b_nk = a_nk + (2/5)**n\n",
    "    \n",
    "    # Compute height and width\n",
    "    h_n = 4 * (5/6)**(n + 1)\n",
    "    w_n = 2 / (h_n * 3**(n + 1))\n",
    "    \n",
    "    # Midpoint and boundaries\n",
    "    mid = 0.5 * (a_nk + b_nk)\n",
    "    left = mid - 0.5 * w_n\n",
    "    right = mid + 0.5 * w_n\n",
    "\n",
    "    # Initialize result\n",
    "    y = np.zeros_like(x)\n",
    "\n",
    "    # Linear rising edge\n",
    "    mask_rise = (x > left) & (x <= mid)\n",
    "    y[mask_rise] = 2 * h_n / w_n * (x[mask_rise] - left)\n",
    "\n",
    "    # Linear falling edge\n",
    "    mask_fall = (x > mid) & (x < right)\n",
    "    y[mask_fall] = h_n - 2 * h_n / w_n * (x[mask_fall] - mid)\n",
    "\n",
    "    # Peak (only applies if a value matches mid exactly, which is rare)\n",
    "    y[np.isclose(x, mid)] = h_n\n",
    "\n",
    "    return y"
   ]
  },
  {
   "cell_type": "markdown",
   "id": "1340441a-504c-460c-9041-f0b4c9c302ce",
   "metadata": {},
   "source": [
    "And an example plot:"
   ]
  },
  {
   "cell_type": "code",
   "execution_count": null,
   "id": "7d2f91e5-36fd-466d-b4d2-e5fc59dd6413",
   "metadata": {},
   "outputs": [],
   "source": [
    "import matplotlib.pyplot as plt\n",
    "\n",
    "n = 0\n",
    "k = 0\n",
    "x_vals = np.linspace(0, 1, 1000)\n",
    "y_vals = spike(x_vals, n, k)\n",
    "\n",
    "plt.plot(x_vals, y_vals)\n",
    "plt.title(f\"Spike function for n={n}, k={k}\")\n",
    "plt.xlabel(\"x\")\n",
    "plt.ylabel(f\"Spike_{{{k},{n}}}(x)\")\n",
    "plt.grid(True)\n",
    "plt.show()"
   ]
  },
  {
   "cell_type": "markdown",
   "id": "8804a9fb-3b74-4f8a-b9e7-091505ac3c08",
   "metadata": {},
   "source": [
    "The 'spike' function creates a triangular signal, with carefully chosen width and position, which encloses an area of exactly $(\\frac{2}{3})^{n+1}$."
   ]
  },
  {
   "cell_type": "markdown",
   "id": "751a941d-c307-497a-9c66-5bfb78a9b709",
   "metadata": {},
   "source": [
    "The width and position of the spikes have been carefully chosen so that we may define a function $h$ as follows:\n",
    "\n",
    "\\begin{equation}\\nonumber \n",
    "    h(x)= \\sum_{n=0}^{\\infty}\\sum_{i=0}^{2^n-1} \\text{Spike}_{k,n}(x).\n",
    "\\end{equation}"
   ]
  },
  {
   "cell_type": "code",
   "execution_count": null,
   "id": "36bf7c07-de56-4625-8fd5-0f06b69cd953",
   "metadata": {},
   "outputs": [],
   "source": [
    "def compute_h(x, N_max=5):\n",
    "    \"\"\"\n",
    "    Compute an approximation of h(x) = sum_{n=0}^{∞} sum_{k=0}^{2^n - 1} Spike_{k,n}(x)\n",
    "    using a finite sum up to N_max.\n",
    "    \n",
    "    Parameters:\n",
    "        x : np.ndarray\n",
    "            Array of input values in [0,1].\n",
    "        N_max : int\n",
    "            Maximum value of n to include in the approximation (n=0 to N_max).\n",
    "    \n",
    "    Returns:\n",
    "        np.ndarray : Approximated h(x) values.\n",
    "    \"\"\"\n",
    "    x = np.asarray(x)\n",
    "    h_vals = np.zeros_like(x)\n",
    "\n",
    "    for n in range(N_max + 1):\n",
    "        for k in range(2**n):\n",
    "            h_vals += spike(x, n, k)\n",
    "    \n",
    "    return h_vals"
   ]
  },
  {
   "cell_type": "code",
   "execution_count": null,
   "id": "6f23a051-7250-4072-bbed-0ecc5ef8f08f",
   "metadata": {},
   "outputs": [],
   "source": [
    "x_vals = np.linspace(0, 1, 1000)\n",
    "h_vals = compute_h(x_vals, N_max=6)\n",
    "\n",
    "plt.plot(x_vals, h_vals)\n",
    "plt.title(\"Approximation of h(x) with N_max=6\")\n",
    "plt.xlabel(\"x\")\n",
    "plt.ylabel(\"h(x)\")\n",
    "plt.grid(True)\n",
    "plt.show()"
   ]
  },
  {
   "cell_type": "markdown",
   "id": "cc12b784-b4cf-4fe7-910e-ef66284c32c1",
   "metadata": {},
   "source": [
    "The function $h$ is a fractal function consisting of infinitely many non-overlapping spikes. Due to the choices of $h_n$, $w_n$, $a_{n,k}$, and $b_{n,k}$ used in the construction, the spikes become shorter and narrower as $n$ increases. As a result, it is straightforward to verify that $h$ is continuous.\n",
    "\n",
    "The construction begins with a single spike of area $\\frac{2}{3}$, followed by 2 spikes of area $\\left(\\frac{2}{3}\\right)^2$, then 4 spikes of area $\\left(\\frac{2}{3}\\right)^3$, and so on. A simple calculation shows that the total area under the graph of $h$ over $[0,1]$ is exactly 1.\n",
    "\n",
    "This reasoning can be extended further. As every $c \\in C$ can be expressed as a base 3 expansion using only $0$s and $2$s, or equivalently as a linear combination of powers of $\\frac{2}{3}$, it easily follows that, for all $c\\in C$, there exists an $x \\in [0,1]$ such that the cumulative area under $h$ from $0$ to $x$ is exactly $c$. This defines a bijection between $C$ and the set of zeros of $h$, where $h(x) = 0$ if and only if the cumulative area up to $x$ equals $c$.\n"
   ]
  },
  {
   "cell_type": "markdown",
   "id": "af0c31fe-6acc-42ce-b960-304a1223fc3b",
   "metadata": {},
   "source": [
    "Noting this this, we now define $\\tilde{H}:[0,1]\\rightarrow [0,1]$ as follows:\n",
    "\n",
    "\\begin{equation}\\nonumber\n",
    "    \\tilde{H}(x):=\\int_{t=0}^x h(t)dt.\n",
    "\\end{equation}\n"
   ]
  },
  {
   "cell_type": "code",
   "execution_count": null,
   "id": "9cbaa9e7-5bfe-495f-920b-2843aa712349",
   "metadata": {},
   "outputs": [],
   "source": [
    "def compute_H_tilde(x_vals, normalise=True):\n",
    "    \n",
    "    # Separate into negative and non-negative parts\n",
    "    x_neg = x_vals[x_vals < 0]\n",
    "    x_pos = x_vals[x_vals >= 0]\n",
    "\n",
    "    # Prepare result array\n",
    "    H_tilde_vals = np.empty_like(x_vals, dtype=float)\n",
    "\n",
    "    # Compute H for negative values\n",
    "    if len(x_neg) > 0:\n",
    "\n",
    "        # Flip sign and reverse order\n",
    "        x_neg_flipped = -x_neg[::-1]  \n",
    "\n",
    "        # Compute integral for negative\n",
    "        H_tilde_neg = compute_integral(x_neg_flipped, compute_h, normalise=normalise)\n",
    "        \n",
    "        # Reverse to match original x_neg order\n",
    "        H_tilde_neg = H_tilde_neg[::-1]  \n",
    "\n",
    "        # Insert back into array\n",
    "        H_tilde_vals[:len(H_tilde_neg)] = H_tilde_neg\n",
    "\n",
    "    # Compute H for positive values\n",
    "    if len(x_pos) > 0:\n",
    "        \n",
    "        # Compute integral for positive\n",
    "        H_tilde_pos = compute_integral(x_pos, compute_h, normalise=normalise)\n",
    "\n",
    "        # Insert back into array\n",
    "        H_tilde_vals[-len(H_tilde_pos):] = H_tilde_pos\n",
    "\n",
    "    # Return results\n",
    "    return H_tilde_vals"
   ]
  },
  {
   "cell_type": "code",
   "execution_count": null,
   "id": "7f026911-b050-480a-85e0-99c85b1de3cc",
   "metadata": {},
   "outputs": [],
   "source": [
    "x_vals = np.linspace(0, 1, 1000)\n",
    "H_tilde_vals = compute_H_tilde(x_vals)\n",
    "\n",
    "plt.plot(x_vals, H_tilde_vals)\n",
    "plt.title(r\"Approximation of $\\tilde{H}$(x)\")\n",
    "plt.xlabel(\"x\")\n",
    "plt.ylabel(r\"$\\tilde{H}(x)$\")\n",
    "plt.grid(True)\n",
    "plt.show()"
   ]
  },
  {
   "cell_type": "markdown",
   "id": "b6f1a331-55af-4cba-baed-04a8f6535c45",
   "metadata": {},
   "source": [
    "#### Symmetrization"
   ]
  },
  {
   "cell_type": "markdown",
   "id": "5adca683-cce6-4397-a9d9-13d8bd5a2315",
   "metadata": {},
   "source": [
    "We then extend this definition to $[-1,1]$ by taking $\\tilde{H}(x):=\\tilde{H}(-x)$ for $x<0$. Note that, as $\\tilde{H}'(0)=h(0)=0$, $\\tilde{H}$ is continuously differentiable across the whole of $[-1,1]$."
   ]
  },
  {
   "cell_type": "code",
   "execution_count": null,
   "id": "d60c3788-5777-4490-af69-45825cd06d46",
   "metadata": {},
   "outputs": [],
   "source": [
    "x_vals = np.linspace(-1, 1, 1000)\n",
    "H_tilde_vals = compute_H_tilde(x_vals)\n",
    "\n",
    "plt.plot(x_vals, H_tilde_vals)\n",
    "plt.title(r\"Approximation of $\\tilde{H}$(x)\")\n",
    "plt.xlabel(\"x\")\n",
    "plt.ylabel(r\"$\\tilde{H}(x)$\")\n",
    "plt.grid(True)\n",
    "plt.show()"
   ]
  },
  {
   "cell_type": "markdown",
   "id": "d535a8a8-2a89-4e48-abf2-ca4b080c89cd",
   "metadata": {},
   "source": [
    "By construction, $\\tilde{H}$ has critical points at every level $c\\in C$. \n"
   ]
  },
  {
   "cell_type": "markdown",
   "id": "3852703a-bd80-445a-816c-f8b0b59a0319",
   "metadata": {},
   "source": [
    "#### Product Extension"
   ]
  },
  {
   "cell_type": "markdown",
   "id": "c6fe3442-bd0b-4c92-8ab8-8d6705a0a39d",
   "metadata": {},
   "source": [
    "Next, we define a two-dimensional function $H^\\ast:[-1,1]^2\\rightarrow [-1,1]$ by $H^\\ast(x,y):=\\frac{1}{2}(\\tilde{H}(x)+\\tilde{H}(y))$."
   ]
  },
  {
   "cell_type": "code",
   "execution_count": null,
   "id": "21ff2b1d-233c-48ab-bfe2-4badfb3a31f6",
   "metadata": {},
   "outputs": [],
   "source": [
    "# Function to compute H\n",
    "def compute_H_star(x_vals,y_vals=None,normalise=True):\n",
    "\n",
    "    # Assume we are using the same axes for x and y if not given different\n",
    "    if y_vals is None:\n",
    "        y_vals = x_vals\n",
    "        \n",
    "    # Compute Hx and Hy\n",
    "    Hx = compute_H_tilde(x_vals,normalise)      # shape (Nx,)\n",
    "    Hy = compute_H_tilde(y_vals,normalise)      # shape (Ny,)\n",
    "\n",
    "    # Use broadcasting to compute the outer sum\n",
    "    H_star_vals = (Hx[:, np.newaxis] + Hy[np.newaxis, :]) / 2\n",
    "\n",
    "    return(H_star_vals)\n",
    "\n",
    "# Compute H_star_vals\n",
    "H_star_vals = compute_H_star(x_vals)"
   ]
  },
  {
   "cell_type": "code",
   "execution_count": null,
   "id": "02e241b7-2aed-448c-8b80-9e9ab08d0770",
   "metadata": {
    "scrolled": true
   },
   "outputs": [],
   "source": [
    "# Plot surface\n",
    "plot_surface_3d(H_star_vals, x_vals, downsample=2, title=\"3D Surface With Critical Values [0,1]\", z_title = \"H*(x, y) = H\\u0303(x) + H\\u0303(y)\")"
   ]
  },
  {
   "cell_type": "markdown",
   "id": "e7a6edc8-3b46-4257-94d1-e6b284ffe0ab",
   "metadata": {},
   "source": [
    "Through exploiting a well known function of the Cantor set; $C+C=[0,2]$, it can be seen that $H$ has a critical value at every level $z\\in[0,1]$."
   ]
  },
  {
   "cell_type": "markdown",
   "id": "e790cb60-6e01-42b6-beac-8b3c65c28915",
   "metadata": {},
   "source": [
    "#### Global Extension"
   ]
  },
  {
   "cell_type": "markdown",
   "id": "774e27b5-8371-4039-8bb0-eaac9f4b701f",
   "metadata": {},
   "source": [
    "Next, we extend $H^\\ast$ to the entirety of $\\mathbb{R}^2$. This is achieved using the $C^1$ transition function $s(x)$ defined by:\n",
    "\n",
    "$$\n",
    "s(x):=\\begin{cases}\n",
    "0 & x \\leq 0, \\\\\n",
    "\\frac{x^2}{x^2+(1-x)^2} & 0 \\leq x \\leq 1, \\\\\n",
    "1 & 1 \\leq x. \\\\\n",
    "\\end{cases}\n",
    "$$\n",
    "\n",
    "We begin by extending $\\tilde{H}$ to $\\mathbb{R}$ by letting $\\tilde{H}(x)=1$ for $x \\not\\in[-1,1]^2$. Next, we extend the definition of $H^\\ast$ as follows:\n",
    "\n",
    "$$H^\\ast(x,y):=s\\bigg(d\\big((x,y),[-1,1]^2\\big)\\bigg)+\\bigg(1-s\\bigg(d\\big((x,y),[-1,1]^2\\big)\\bigg)\\bigg)\\left(\\frac{1}{2}(\\tilde{H}(x)+\\tilde{H}(y))\\right),$$\n",
    "\n",
    "where $d(p,A):=\\inf_{a\\in A}|p-a|$ represents the Euclidean distance from the point $p$ to the set $A$. \n",
    "\n",
    "The above notation is dense, but much easier to understand when visualised. When $d((x,y),[-1,1]^2)\\geq 1$, we see that $H^\\ast(x,y)=1$, and when $(x,y)\\in [-1,1]^2$ we have that $d((x,y),[-1,1]^2)=0$ and thus $H^\\ast(x,y)=\\frac{1}{2}(\\tilde{H}(x)+\\tilde{H}(y))$, as before. In the intermediate region, the function smoothly transitions from $\\frac{1}{2}(\\tilde{H}(x)+\\tilde{H}(y))$ to $1$."
   ]
  },
  {
   "cell_type": "code",
   "execution_count": null,
   "id": "0a46fb72-1e1b-4162-b751-a01551c20f0a",
   "metadata": {},
   "outputs": [],
   "source": [
    "def extend_F(F_vals, c_vals, x_grid, y_grid, epsilon=1.0):\n",
    "    \"\"\"\n",
    "    Constructs new_vals with correct epsilon-thickening logic:\n",
    "      - new_vals = F_vals inside [-1, 1]^2\n",
    "      - new_vals = T in thickened shell (distance <= epsilon, not box)\n",
    "      - new_vals = k_vals outside the thickened region\n",
    "\n",
    "    Parameters:\n",
    "    - F_vals: np.ndarray, values of H(x, y)\n",
    "    - c_vals: np.ndarray, values of k(x, y)\n",
    "    - x_grid, y_grid: coordinate grids matching H_vals shape\n",
    "    - epsilon: thickness parameter for blending\n",
    "\n",
    "    Returns:\n",
    "    - new_vals: np.ndarray, constructed values\n",
    "    \"\"\"\n",
    "\n",
    "    # Due to transposed ordering induced by meshgrid, we need to transpose\n",
    "    x_grid = x_grid.T\n",
    "    y_grid = y_grid.T\n",
    "    new_vals = np.zeros_like(F_vals)\n",
    "\n",
    "    # Step 1: Compute distance from each point to [-1,1]^2 box\n",
    "    dx = np.maximum(np.abs(x_grid) - 1, 0)\n",
    "    dy = np.maximum(np.abs(y_grid) - 1, 0)\n",
    "    dist = np.sqrt(dx**2 + dy**2)\n",
    "\n",
    "    # Step 2: Define regions\n",
    "    in_core = (np.abs(x_grid) <= 1) & (np.abs(y_grid) <= 1)\n",
    "    in_thickened = (dist <= epsilon) & (~in_core)\n",
    "    outside = dist > epsilon\n",
    "\n",
    "    # Step 3: Compute blending weights in shell region\n",
    "    d = dist\n",
    "    denom = d**2 + (1 - d)**2\n",
    "    denom[denom == 0] = 1  # Avoid division by zero\n",
    "    w = d**2 / denom\n",
    "\n",
    "    # Step 4: Assign values\n",
    "    new_vals[in_core] = F_vals[in_core]\n",
    "    new_vals[in_thickened] = w[in_thickened] * c_vals[in_thickened] + (1 - w[in_thickened]) * F_vals[in_thickened]\n",
    "    new_vals[outside] = c_vals[outside]\n",
    "\n",
    "    return new_vals"
   ]
  },
  {
   "cell_type": "code",
   "execution_count": null,
   "id": "d11ac37d-49ff-4284-9520-00e9a554e382",
   "metadata": {
    "scrolled": true
   },
   "outputs": [],
   "source": [
    "# Global H star\n",
    "# def compute_H_star_global(x_vals,y_vals):\n",
    "    \n",
    "#     # Compute H_star_vals\n",
    "#     H_star_vals = compute_H_star(x_vals,y_vals)\n",
    "    \n",
    "#     # Constant values\n",
    "#     c_vals = np.ones(H_star_vals.shape)\n",
    "    \n",
    "#     # Generate 2D grids from x_vals\n",
    "#     X, Y = np.meshgrid(x_vals, y_vals, indexing='xy')\n",
    "\n",
    "#     # Extend H*\n",
    "#     H_star_vals = extend_F(H_star_vals, c_vals, X, Y, epsilon=1.0)\n",
    "    \n",
    "#     # Return result\n",
    "#     return(H_star_vals)\n",
    "\n",
    "# x values\n",
    "x_vals = np.linspace(-6,6,1000)\n",
    "y_vals = np.linspace(-6,6,1000)\n",
    "\n",
    "# Extend H star\n",
    "H_star_vals = compute_H_star_global(x_vals,y_vals)\n",
    "\n",
    "# Plot result\n",
    "plot_surface_3d(H_star_vals, x_vals, downsample=2, title=\"3D Surface With Critical Values [0,1]\", z_title=\"H*(x, y) = H\\u0303(x) + H\\u0303(y)\")"
   ]
  },
  {
   "cell_type": "markdown",
   "id": "7494edf3-96d6-464f-beb1-12396dcb934f",
   "metadata": {},
   "source": [
    "#### Mapping to Spherical"
   ]
  },
  {
   "cell_type": "markdown",
   "id": "8609fe29-47a2-453e-8ac9-884ed830e630",
   "metadata": {},
   "source": [
    "We next define $H$ in spherical coordinates $(\\theta,\\psi)$ by\n",
    "$$\n",
    "H(\\theta,\\psi) := H^*\\left(\\frac{\\pi}{2k}(\\theta + k),\\, \\frac{\\pi}{k}(\\psi + k)\\right)\n",
    "$$\n",
    "for some suitably large integer $k$. Geometrically, this corresponds to embedding a small patch of the plane, containing the critical structure of $H^*$, onto the surface of a sphere of radius 1. Intuitively, one can think of this as removing a small 'panel' from the sphere and replacing it with a rescaled and smoothly curved version of $H^*$ that conforms to the spherical geometry. \n",
    "\n",
    "The below plot illustrates the surface $r=H(\\theta,\\psi)$, which by construction is tangent to every sphere with radius in $[0,1]$. MARKER add back in 2d spherical\n"
   ]
  },
  {
   "cell_type": "code",
   "execution_count": null,
   "id": "1f80476c-81db-4126-819b-fa917059d1d6",
   "metadata": {
    "scrolled": true
   },
   "outputs": [],
   "source": [
    "# Compute theta and psi\n",
    "theta_vals = np.linspace(0,1,len(x_vals))*np.pi#(x_vals/2 + 1) * (np.pi/4)     # [π/4, 3π/4]\n",
    "psi_vals = np.linspace(0,2,len(x_vals))*np.pi           # [π/2, 3π/2]\n",
    "\n",
    "# Construct grid of (theta,psi) values\n",
    "Theta, Psi = np.meshgrid(theta_vals, psi_vals, indexing='ij')  # shape (N, N)\n",
    "\n",
    "# Compute R values on this grid\n",
    "R = H_star_vals \n",
    "\n",
    "# Construct coordinates for visualisation\n",
    "X = R * np.sin(Theta) * np.cos(Psi)\n",
    "Y = R * np.sin(Theta) * np.sin(Psi)\n",
    "Z = R * np.cos(Theta)\n",
    "\n",
    "# Plot surface, sphere added to demonstrate tangency\n",
    "plot_surface_3d(Z, X, Y, downsample=2,sphere_radius=None)"
   ]
  },
  {
   "cell_type": "code",
   "execution_count": null,
   "id": "1eb498a2-0236-4158-a44d-34ac5522ec91",
   "metadata": {},
   "outputs": [],
   "source": []
  },
  {
   "cell_type": "code",
   "execution_count": null,
   "id": "c78e9abc-be34-4bd0-a621-3a1ff1f90a4d",
   "metadata": {},
   "outputs": [],
   "source": []
  },
  {
   "cell_type": "code",
   "execution_count": null,
   "id": "0813f314-8be9-435c-9ca2-383c2a8e5b51",
   "metadata": {},
   "outputs": [],
   "source": []
  },
  {
   "cell_type": "code",
   "execution_count": null,
   "id": "d2e5b26d-2972-4daa-b26e-1359e6802b47",
   "metadata": {},
   "outputs": [],
   "source": []
  },
  {
   "cell_type": "code",
   "execution_count": null,
   "id": "c534c2f6-8b77-4c5a-8e46-2dd9169184c8",
   "metadata": {},
   "outputs": [],
   "source": []
  },
  {
   "cell_type": "code",
   "execution_count": null,
   "id": "fb8226ad-b617-4c7b-a8c9-a70e6be8c3f3",
   "metadata": {},
   "outputs": [],
   "source": []
  },
  {
   "cell_type": "code",
   "execution_count": null,
   "id": "1d744289-12df-42df-a5ba-3fb856f62c43",
   "metadata": {},
   "outputs": [],
   "source": []
  },
  {
   "cell_type": "code",
   "execution_count": null,
   "id": "afe59dcb-198f-4c52-8fbb-e38bcbaa6c42",
   "metadata": {},
   "outputs": [],
   "source": []
  },
  {
   "cell_type": "code",
   "execution_count": null,
   "id": "db2c68bc-681d-47a3-bc84-0ac11096855b",
   "metadata": {},
   "outputs": [],
   "source": []
  },
  {
   "cell_type": "markdown",
   "id": "35d22970-b79c-4073-b288-8263a5d348d0",
   "metadata": {},
   "source": [
    "### Step 2: Constructing $f$\n",
    "\n",
    "We now construct a function $f : [0,\\infty) \\times [0,\\pi] \\times [0,2\\pi) \\rightarrow \\mathbb{R}$ whose zero level set corresponds to the surface defined by $H$, that is,\n",
    "$$\n",
    "f^{-1}(0) = \\{ (r, \\theta, \\psi) \\mid r = H(\\theta, \\psi) \\},\n",
    "$$\n",
    "such that $f$ has vanishing gradient at the origin, and non-vanishing gradient in a neighborhood around the origin, excluding the origin itself.\n",
    "\n"
   ]
  },
  {
   "cell_type": "markdown",
   "id": "f2f0a521-9d8e-40b8-963b-2c3ee50577aa",
   "metadata": {},
   "source": [
    "To do so, we first define $S:\\mathbb{R}\\rightarrow [0,1]$ as $S(x):=s(|x|)$."
   ]
  },
  {
   "cell_type": "code",
   "execution_count": null,
   "id": "eaf1eb19-9302-4ff4-b3db-35d28e440672",
   "metadata": {},
   "outputs": [],
   "source": [
    "def compute_S(x_values):\n",
    "    x_abs = np.abs(x_values)\n",
    "    S_values = np.zeros_like(x_abs)\n",
    "\n",
    "    # Case 1: x_abs == 0\n",
    "    S_values[x_abs == 0] = 0\n",
    "\n",
    "    # CaseC 2: 0 < x_abs < 1\n",
    "    mask_middle = (x_abs > 0) & (x_abs < 1)\n",
    "    x_mid = x_abs[mask_middle]\n",
    "    S_values[mask_middle] = x_mid**2 / (x_mid**2 + (1 - x_mid)**2)\n",
    "\n",
    "    # Case 3: x_abs >= 1\n",
    "    S_values[x_abs >= 1] = 1\n",
    "\n",
    "    return S_values\n"
   ]
  },
  {
   "cell_type": "code",
   "execution_count": null,
   "id": "c0865634-35c4-482d-ab17-3a9223910e81",
   "metadata": {},
   "outputs": [],
   "source": [
    "# Generate x values\n",
    "x_values = np.linspace(-2, 2, 1000)\n",
    "S_values = compute_S(x_values)\n",
    "\n",
    "# Plotting\n",
    "plt.plot(x_values, S_values, label='$S(x)$')\n",
    "plt.title('Plot of $S(x) = s(|x|)$')\n",
    "plt.xlabel('$x$')\n",
    "plt.ylabel('$S(x)$')\n",
    "plt.grid(True)\n",
    "plt.legend()\n",
    "plt.show()"
   ]
  },
  {
   "cell_type": "markdown",
   "id": "7aa1968f-24df-40f7-b476-885e61c5e215",
   "metadata": {},
   "source": [
    "Next, we define $f^\\ast:\\mathbb{R}^2 \\times \\mathbb{R}_{\\geq 0} \\rightarrow \\mathbb{R}$ in cartesian coordinates as:\n",
    "\n",
    "$$f^\\ast(x,y,z):=-(S(x)+S(y))(z-H^\\ast(x,y))z^2-\\mathbb{1}[z> H^\\ast(x,y)](z-H^\\ast(x,y))^2,$$\n",
    "\n",
    "where $\\mathbb{1}[A]$ is the indicator function which evaluates to $1$ if the $A$ is true and $0$ otherwise."
   ]
  },
  {
   "cell_type": "code",
   "execution_count": null,
   "id": "1e4146c9-10fd-4767-bf30-746e6d6f30cd",
   "metadata": {},
   "outputs": [],
   "source": [
    "def compute_f_star(x_values, y_values, z_values):\n",
    "    # Ensure numpy arrays (float64 by default)\n",
    "    x_values = np.asarray(x_values)\n",
    "    y_values = np.asarray(y_values)\n",
    "    z_values = np.asarray(z_values)\n",
    "\n",
    "    # Compute S(x) and S(y), shape for broadcasting\n",
    "    Sx = compute_S((x_values+1)%2 -1)[:, np.newaxis, np.newaxis]     # (Nx, 1, 1)\n",
    "    Sy = compute_S((y_values+1)%2 -1)[np.newaxis, :, np.newaxis]     # (1, Ny, 1)\n",
    "    S_sum = Sx + Sy                                          # (Nx, Ny, 1)\n",
    "    del Sx, Sy                                               # Free memory\n",
    "\n",
    "    # Compute H*(x, y), shape for broadcasting with Z\n",
    "    H_star = compute_H_star_global(x_values, y_values)       # (Nx, Ny)\n",
    "    H_star = H_star[:, :, np.newaxis]                        # (Nx, Ny, 1)\n",
    "\n",
    "    # Prepare Z broadcast (1, 1, Nz)\n",
    "    Z = z_values[np.newaxis, np.newaxis, :]                  # (1, 1, Nz)\n",
    "\n",
    "    # Compute Z - H*\n",
    "    z_minus_H = Z - H_star                                   # (Nx, Ny, Nz)\n",
    "\n",
    "    # Compute Z^2\n",
    "    Z2 = Z * Z                                               # (1, 1, Nz)\n",
    "\n",
    "    # Compute first term: S_sum * (Z - H*) * Z^2\n",
    "    term1 = S_sum * z_minus_H\n",
    "    del S_sum                                                # Free memory\n",
    "    term1 *= Z2                                              # In-place multiplication\n",
    "\n",
    "    # Compute second term: (Z - H*)^2 and mask it in-place\n",
    "    z_minus_H_sq = z_minus_H * z_minus_H/4                   # (Nx, Ny, Nz)\n",
    "    z_minus_H_sq[Z <= H_star] = 0                            # In-place masking\n",
    "\n",
    "    # Final result\n",
    "    f_star = -20*term1 - z_minus_H_sq\n",
    "    del term1, z_minus_H_sq                                  # Cleanup\n",
    "\n",
    "    return f_star                                            # Shape: (Nx, Ny, Nz)\n"
   ]
  },
  {
   "cell_type": "markdown",
   "id": "33ec4675-bbc8-4dec-8e1a-673090bd0da4",
   "metadata": {},
   "source": [
    "The below creates several 3D plots of different slices of $f$."
   ]
  },
  {
   "cell_type": "code",
   "execution_count": null,
   "id": "8bd86551-b501-4acf-8833-181b9ecb6cc9",
   "metadata": {},
   "outputs": [],
   "source": [
    "def plot_slice_of_f_star(\n",
    "    axis='z',\n",
    "    slice_value=0.0,\n",
    "    x_range=np.linspace(-4, 4, 500),\n",
    "    y_range=np.linspace(-4, 4, 500),\n",
    "    z_range=np.linspace(0, 1.5, 500)\n",
    "):\n",
    "    assert axis in {'x', 'y', 'z'}, \"axis must be 'x', 'y', or 'z'\"\n",
    "\n",
    "    if axis == 'z':\n",
    "        f_vals = compute_f_star(x_range, y_range, np.array([slice_value]))\n",
    "        f_slice = f_vals[:, :, 0]\n",
    "        X, Y = np.meshgrid(x_range, y_range, indexing='ij')\n",
    "        xlabel, ylabel = 'x', 'y'\n",
    "\n",
    "    elif axis == 'y':\n",
    "        f_vals = compute_f_star(x_range, np.array([slice_value]), z_range)\n",
    "        f_slice = f_vals[:, 0, :]\n",
    "        X, Y = np.meshgrid(x_range, z_range, indexing='ij')\n",
    "        xlabel, ylabel = 'x', 'z'\n",
    "\n",
    "    elif axis == 'x':\n",
    "        f_vals = compute_f_star(np.array([slice_value]), y_range, z_range)\n",
    "        f_slice = f_vals[0, :, :]\n",
    "        X, Y = np.meshgrid(y_range, z_range, indexing='ij')\n",
    "        xlabel, ylabel = 'y', 'z'\n",
    "    \n",
    "    # Ensure all arrays are float64 and same shape\n",
    "    X = X.astype(float)\n",
    "    Y = Y.astype(float)\n",
    "    Z = f_slice.astype(float)\n",
    "\n",
    "    if not (X.shape == Y.shape == Z.shape):\n",
    "        raise ValueError(f\"Shape mismatch: X{X.shape}, Y{Y.shape}, Z{Z.shape}\")\n",
    "\n",
    "    # Replace any NaNs or infs just in case\n",
    "    Z = np.nan_to_num(Z, nan=0.0, posinf=0.0, neginf=0.0)\n",
    "\n",
    "    # Plot\n",
    "    fig = go.Figure(data=[\n",
    "        go.Surface(z=Z, x=X, y=Y, colorscale='Viridis')\n",
    "    ])\n",
    "\n",
    "    fig.update_layout(\n",
    "        title=f\"Slice of f*(x, y, z) at {axis} = {slice_value}\",\n",
    "        scene=dict(\n",
    "            xaxis_title=xlabel,\n",
    "            yaxis_title=ylabel,\n",
    "            zaxis_title='f*',\n",
    "        ),\n",
    "        autosize=True,\n",
    "        margin=dict(l=0, r=0, b=0, t=40)\n",
    "    )\n",
    "\n",
    "    \n",
    "    fig.add_trace(go.Surface(\n",
    "    x=X, y=Y, z=Z,\n",
    "    colorscale='Viridis',\n",
    "    showscale=True,\n",
    "    contours=dict(\n",
    "        z=dict(show=True, start=0, end=0.01, size=1e-1, color='red', width=6)\n",
    "    ),\n",
    "    opacity=0.95\n",
    "    ))\n",
    "    \n",
    "    fig.show()\n"
   ]
  },
  {
   "cell_type": "code",
   "execution_count": null,
   "id": "b7ce6383-ef0e-484d-bb6e-630fcd9f2608",
   "metadata": {
    "scrolled": true
   },
   "outputs": [],
   "source": [
    "plot_slice_of_f_star(axis='y', slice_value=0.0)"
   ]
  },
  {
   "cell_type": "code",
   "execution_count": null,
   "id": "dcf30bb7-c1d0-4f8f-80f8-f2c68a812aa6",
   "metadata": {
    "scrolled": true
   },
   "outputs": [],
   "source": [
    "plot_slice_of_f_star(axis='y', slice_value=0.5)"
   ]
  },
  {
   "cell_type": "code",
   "execution_count": null,
   "id": "a2c851e6-f52b-4e92-ab38-a43a58766b26",
   "metadata": {},
   "outputs": [],
   "source": [
    "plot_slice_of_f_star(axis='y', slice_value=-0.5)"
   ]
  },
  {
   "cell_type": "code",
   "execution_count": null,
   "id": "553d93ff-687a-4a9e-8da8-d0bb6ee44a01",
   "metadata": {
    "scrolled": true
   },
   "outputs": [],
   "source": [
    "plot_slice_of_f_star(axis='z', slice_value=0.6)"
   ]
  },
  {
   "cell_type": "markdown",
   "id": "759d928d-5ad3-4a4e-8ff4-0ecb7720a25b",
   "metadata": {},
   "source": []
  },
  {
   "cell_type": "code",
   "execution_count": null,
   "id": "4de54704-f230-4611-aa60-92c91388d938",
   "metadata": {},
   "outputs": [],
   "source": []
  },
  {
   "cell_type": "code",
   "execution_count": null,
   "id": "9ae96b6a-272e-404e-a9fb-1c8b97d51b7b",
   "metadata": {},
   "outputs": [],
   "source": []
  },
  {
   "cell_type": "code",
   "execution_count": null,
   "id": "4a487e43-0fff-4a7d-a2b2-d5cb9749db51",
   "metadata": {},
   "outputs": [],
   "source": []
  },
  {
   "cell_type": "code",
   "execution_count": null,
   "id": "d6b4f6a8-4111-4eb9-a3e2-4e161330f3ea",
   "metadata": {},
   "outputs": [],
   "source": []
  },
  {
   "cell_type": "code",
   "execution_count": null,
   "id": "621dcc18-d397-4614-a90c-b8cc71e42a4a",
   "metadata": {},
   "outputs": [],
   "source": []
  },
  {
   "cell_type": "code",
   "execution_count": null,
   "id": "97882996-ad30-4f13-a202-862090945961",
   "metadata": {},
   "outputs": [],
   "source": []
  },
  {
   "cell_type": "code",
   "execution_count": null,
   "id": "e4bf3eac-b921-4519-bd1b-17e4693c9035",
   "metadata": {},
   "outputs": [],
   "source": []
  },
  {
   "cell_type": "code",
   "execution_count": null,
   "id": "99f4518b-81a5-46f6-bdb2-1bcf4eef1963",
   "metadata": {},
   "outputs": [],
   "source": []
  },
  {
   "cell_type": "code",
   "execution_count": null,
   "id": "69590703-5c79-41ce-be26-c52ae6aa0746",
   "metadata": {},
   "outputs": [],
   "source": []
  },
  {
   "cell_type": "code",
   "execution_count": null,
   "id": "ef1eb803-169a-4370-8273-e434c79efa22",
   "metadata": {},
   "outputs": [],
   "source": []
  },
  {
   "cell_type": "code",
   "execution_count": null,
   "id": "d8118a6b-4336-4147-83d0-134d8c4533f9",
   "metadata": {},
   "outputs": [],
   "source": []
  },
  {
   "cell_type": "code",
   "execution_count": null,
   "id": "322ea7d4-fedd-4c29-aff8-0b2369bbb30b",
   "metadata": {},
   "outputs": [],
   "source": []
  },
  {
   "cell_type": "markdown",
   "id": "887149ff-deb7-4da8-a285-0ff931504f53",
   "metadata": {},
   "source": [
    "Note that as $f^\\ast$ is a composition of $C^1$ functions, it is $C^1$. We shall now show the following properties of $f^\\ast$.\n",
    "\n",
    " 1. The preimage under $f^\\ast$ of $0$ is\n",
    "    $$(f^\\ast)^{-1}(0)=\\{(x,y,z):z=H^\\ast(x,y)\\}\\cup \\{(x,y,z):z=0\\}.$$\n",
    " 2. For all $x,y\\in\\mathbb{R}$, the gradient of $f^\\ast$ at $(x,y,0)$ is\n",
    "    $$\\nabla f^\\ast(x,y,0)=0.$$\n",
    " 3. For all $x,y\\in\\mathbb{R}$ and $z\\in(0,\\frac{2}{3})$, the gradient of $f^\\ast$ at $(x,y,z)$ is nonzero."
   ]
  },
  {
   "cell_type": "markdown",
   "id": "a0a1df65-b32d-4297-abea-2d903e2e6447",
   "metadata": {},
   "source": [
    "**Proof of Property 1:** For the first property consider"
   ]
  },
  {
   "cell_type": "markdown",
   "id": "ab7a303c-db5f-4bdd-bdf6-d02717347143",
   "metadata": {},
   "source": [
    "**Proof of Property 2:**"
   ]
  },
  {
   "cell_type": "markdown",
   "id": "761778b4-5cf5-47da-9b05-44c1ec94800a",
   "metadata": {},
   "source": [
    "**Proof of Property 3:** Assume $x,y\\in \\mathbb{R}_{\\geq 0}$ and $z\\in (0,1)$. Differentiating $f^\\ast$ with respect to $z$ yeilds:\n",
    "\n",
    "$$\\frac{\\partial f^\\ast}{\\partial z}(x,y,z)=-(S(x)+S(y))(3z-2H^\\ast(x,y))z-\\mathbb{1}[z> H^\\ast(x,y)]2(z-H^\\ast(x,y))$$\n",
    "\n",
    "Suppose first that $z > H^\\ast(x,y)$. Then we have that $3z-2H^\\ast(x,y)\\geq H^\\ast(x,y) \\geq 0$ and $2(z-H^\\ast(x,y))>0$. As $S(x)+S(y)\\geq 0$ by construction, it follows that the above partial derivative is the sum of a non-positive term and a strictly negative term. It follows that it is strictly negative, and thus non-zero.\n",
    "\n",
    "Now, suppose that $z \\leq H^\\ast(x,y)$. Then the above is equal to zero if and only if one of the following conditions hold:\n",
    " - $S(x)+S(y)=0$\n",
    " - $3z-2H^\\ast(x,y)=0$\n",
    " - $z=0$\n",
    "\n",
    "In the first case, note that $S(x) = 0$ if and only if $x=0$ and is positive otherwise. Thus, we necessarily have that $x=y=0$. However, this implies $H^\\ast(x,y)=0<z$, which contradicts the assumption that $z \\leq H^\\ast(x,y)$. Therefore, the first case cannot happen. Similarly, the third case is ruled out by the fact that $z\\in (0,1)$. Thus, we need only consider the second.\n",
    "\n",
    "Now, consider the partial derivative with respect to $x$.\n",
    "\n",
    "$$\\frac{\\partial f^\\ast}{\\partial x}(x,y,z)=-S'(x)(z-H^\\ast(x,y))z^2+\\frac{1}{2}(S(x)+S(y))\\tilde{H}'(x)z^2+\\mathbb{1}[z>H^\\ast(x,y)]H^\\ast(x,y)\\tilde{H}(x)$$\n",
    "\n",
    "Evaluating this at $z=\\frac{2}{3}H^\\ast(x,y)$ gives the following:\n",
    "\n",
    "$$\\frac{\\partial f^\\ast}{\\partial x}\\bigg(x,y,\\frac{2}{3}H^\\ast(x,y)\\bigg)=\\frac{4}{27}S'(x)H^\\ast(x,y)^3+\\frac{4}{18}(S(x)+S(y))\\tilde{H}'(x)H^\\ast(x,y)^2$$\n",
    "\n",
    "$$=\\frac{4}{9}H^\\ast(x,y)^2\\bigg(\\frac{1}{3}S'(x)H^\\ast(x,y)+\\frac{1}{2}(S(x)+S(y))\\tilde{H}'(x)\\bigg).$$\n",
    "\n",
    "Note that, by assuming $z>0$, so $H^\\ast(x,y)>0$. Suppose $x\\in(0,1)$. Then $S'(x)>0$, $S(x)+S(y)>0$ and $\\tilde{H}'(x)>0$. Thus, we have that the above is positive. By identical reasoning, we have that if $y \\in (0,1)$ then:\n",
    "$$\\frac{\\partial f^\\ast}{\\partial y}\\bigg(x,y,\\frac{2}{3}H^\\ast(x,y)\\bigg)>0.$$\n",
    "\n",
    "Combining the above we see that the only way for the partial derivatives with respect to $x,y$ and $z$ to be simultaneously zero is if:\n",
    "\n",
    "$$x>1, y> 1, z=\\frac{2}{3}H^\\ast(x,y).$$\n",
    "\n",
    "(Note that the case $x=y=0$ is ruled out as this would imply $z=\\frac{2}{3}H^\\ast(x,y)=0$, which would contradict the assumption that $z>0$.) The above conditions, when taken together imply that $z\\geq \\frac{2}{3}$. Finally, we note that we can extend this argument to $x,y\\in \\mathbb{R}$ by noting that $f^\\ast$ is even in $x$ and $y$. It now follows that $\\nabla f^\\ast(x,y,z) \\neq 0$ for $z\\in(0,\\frac{2}{3})$."
   ]
  },
  {
   "cell_type": "code",
   "execution_count": null,
   "id": "1264e6ed-5376-49fa-bf19-0b19064dd996",
   "metadata": {},
   "outputs": [],
   "source": [
    "# Coordinates in spherical space\n",
    "theta_vals = np.linspace(0,np.pi)\n",
    "psi_vals = np.linspace(0,2*np.pi)\n",
    "R_vals = np.linspace(0,1.5,100)\n",
    "\n",
    "# Convert appropriately\n",
    "theta_vals_converted = k*2*theta_vals/np.pi\n",
    "psi_vals_converted = k*psi_vals/np.pi\n",
    "R_vals_converted = np.array(R_vals)\n",
    "\n",
    "# Compute f_vals\n",
    "f_vals = compute_f_star(theta_vals_converted, psi_vals_converted, R_vals_converted)"
   ]
  },
  {
   "cell_type": "code",
   "execution_count": null,
   "id": "94a3bc09-0e0e-4310-ace4-5eb1b8097b98",
   "metadata": {},
   "outputs": [],
   "source": []
  },
  {
   "cell_type": "code",
   "execution_count": null,
   "id": "261f6696-a9bb-4342-89b1-053ec202e84d",
   "metadata": {},
   "outputs": [],
   "source": []
  }
 ],
 "metadata": {
  "kernelspec": {
   "display_name": "Python 3 (ipykernel)",
   "language": "python",
   "name": "python3"
  },
  "language_info": {
   "codemirror_mode": {
    "name": "ipython",
    "version": 3
   },
   "file_extension": ".py",
   "mimetype": "text/x-python",
   "name": "python",
   "nbconvert_exporter": "python",
   "pygments_lexer": "ipython3",
   "version": "3.12.7"
  }
 },
 "nbformat": 4,
 "nbformat_minor": 5
}
