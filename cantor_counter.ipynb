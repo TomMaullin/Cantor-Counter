{
 "cells": [
  {
   "cell_type": "markdown",
   "id": "cf23a91b-bdf4-47eb-bba0-7e362da5523a",
   "metadata": {},
   "source": [
    "# The Cantor-Thirds Counterexample"
   ]
  },
  {
   "cell_type": "markdown",
   "id": "e80fc71f-ee3e-4c36-8ab2-762306981d5b",
   "metadata": {},
   "source": [
    " > **Warning:** The following code creates several three dimensional interactive plots. To ensure the notebook remains responsive, it is highly recommended that each plot is cleared before the next block is executed."
   ]
  },
  {
   "cell_type": "markdown",
   "id": "eb403b6b-a536-4c4d-bcfe-409a97e3693a",
   "metadata": {},
   "source": [
    "### Installations"
   ]
  },
  {
   "cell_type": "markdown",
   "id": "d9efbbe0-2d4b-4306-a7bf-4c1a745a7404",
   "metadata": {},
   "source": [
    "The below will install the necessary packages to run the notebook."
   ]
  },
  {
   "cell_type": "code",
   "execution_count": null,
   "id": "b8157217-c5f6-475d-a22b-be68c8610a3b",
   "metadata": {},
   "outputs": [],
   "source": [
    "!pip install numpy\n",
    "!pip install matplotlib\n",
    "!pip install kaleido\n",
    "!pip install plotly\n",
    "!pip install scipy"
   ]
  },
  {
   "cell_type": "markdown",
   "id": "0968afff-e3fc-4a11-ae8e-04ddf1358df6",
   "metadata": {},
   "source": [
    "The following block imports the relevant modules."
   ]
  },
  {
   "cell_type": "code",
   "execution_count": null,
   "id": "54e4e2e0-7dce-4bc5-bf93-c06351b0057d",
   "metadata": {},
   "outputs": [],
   "source": [
    "import numpy as np\n",
    "import matplotlib.pyplot as plt\n",
    "import plotly.graph_objects as go\n",
    "from scipy.integrate import cumulative_trapezoid\n",
    "import os\n",
    "os.environ[\"KMP_DUPLICATE_LIB_OK\"] = \"TRUE\""
   ]
  },
  {
   "cell_type": "markdown",
   "id": "a28d8d81-ffad-464e-b8f5-52fc85e10702",
   "metadata": {},
   "source": [
    "The below helper functions will be useful later."
   ]
  },
  {
   "cell_type": "code",
   "execution_count": null,
   "id": "e54d3c50-3d64-4e61-9666-0add9a25dc43",
   "metadata": {},
   "outputs": [],
   "source": [
    "from src.integral import compute_integral\n",
    "from src.plot import plot_surface_3d, plot_slice_of_f_star, plot_z_slice_of_f\n",
    "from src.H_construct import spike, compute_h, compute_H_tilde, compute_H_star, compute_H_star_global\n",
    "from src.T_construct import compute_T_tilde, compute_T_star\n",
    "from src.f_construct import compute_f_star\n",
    "from src.extend import extend_F\n",
    "from src.coord_transform import spherical_to_cartesian"
   ]
  },
  {
   "cell_type": "markdown",
   "id": "7f052315-a06d-45e2-9b03-ff0a9b17d1a9",
   "metadata": {},
   "source": [
    "### Introduction"
   ]
  },
  {
   "cell_type": "markdown",
   "id": "f7ad3835-fb2a-4be8-9939-57a14792af69",
   "metadata": {},
   "source": [
    "In this notebook, we shall construct a continuously differentiable function $f:\\mathbb{R}^3\\rightarrow \\mathbb{R}$ with a single isolated critical point at the origin, such that for every $\\epsilon > 0$, the level set $f^{-1}(0)$ intersects the boundary of the $\\epsilon$-ball, $\\partial B_\\epsilon$, tangentially. The existence of such a function motivates the inclusion of Lemma 3 in the main text, which rules such functions from consideration in the proof of Theorem 3."
   ]
  },
  {
   "cell_type": "markdown",
   "id": "63cb5b34-b297-42fb-a1e8-92801453ea0a",
   "metadata": {},
   "source": [
    "To achieve this goal, we construct the function in two steps, with intermediate and final expressions given in spherical coordinates $(r, \\theta, \\psi)$, where $r \\in [0,\\infty)$, $\\theta \\in [0,\\pi]$, and $\\psi \\in [0,2\\pi)$:\n",
    "\n",
    "- **Step 1:** Define a $C^1$ function $H : [0,\\pi] \\times [0, 2\\pi) \\rightarrow [0,\\infty)$ such that the surface given by $r = H(\\theta, \\psi)$ is tangent to every ball of radius less than or equal to 1.\n",
    "\n",
    "- **Step 2:** Construct a $C^1$ function $f : [0,\\infty) \\times [0,\\pi] \\times [0,2\\pi) \\rightarrow \\mathbb{R}$ with zero level set given by\n",
    "  \n",
    "  $$f^{-1}(0) = \\{ (r, \\theta, \\psi) \\mid r = H(\\theta, \\psi) \\},$$\n",
    "  zero gradient at the origin, and non-vanishing gradient everywhere else within a neighbourhood of the origin.\n",
    "\n",
    "We treat $[0,\\infty) \\times [0,\\pi] \\times [0,2\\pi)$ as spherical coordinates on $\\mathbb{R}^3$, with the usual identification of $\\psi = 0$ and $\\psi = 2\\pi$, and the azimuthal degeneracy at the poles $\\theta = 0$ and $\\theta = \\pi$. \n"
   ]
  },
  {
   "cell_type": "markdown",
   "id": "ebd92fe9-dea8-41d0-ba20-9871967abbab",
   "metadata": {},
   "source": [
    "### Step 1: Constructing $H$"
   ]
  },
  {
   "cell_type": "markdown",
   "id": "611b357c-9657-4c18-94de-5e0c86cea498",
   "metadata": {},
   "source": [
    "To construct $H$, we shall first define an auxiliary function $H^\\ast : \\mathbb{R}^2 \\to \\mathbb{R}$, which we will later map onto the sphere. $H^\\ast$ is constructed so that for every $z \\in [0,1]$, there exists a point $(x, y) \\in [0,1]^2$ with $H^\\ast(x, y) = z$ and $\\nabla H^\\ast(x, y) = 0$. This construction follows the approach of [Grinberg (2018)](https://www.tandfonline.com/doi/abs/10.1080/00029890.1985.11971725), but we provide explicit equations throughout.\n",
    "\n",
    "\n",
    "To be specific, we construct $H$ in several steps:\n",
    "\n",
    "1. **One-Dimensional slice:** We begin by defining a function $\\tilde{H} : [0,1] \\to [0,1]$ that has a critical point at every level $c \\in C$, where $C$ denotes the middle-thirds Cantor set.\n",
    "\n",
    "2. **Symmetrization:** We extend this function to $[-1,1]$ by requiring it to be even.\n",
    "\n",
    "3. **Product Function:** We next define $H^\\ast:[-1,1]^2\\rightarrow [0,1]$ as follows:\n",
    "   $$\n",
    "   H^\\ast(x, y) = \\frac{1}{2}(\\tilde{H}(x) + \\tilde{H}(y)).\n",
    "   $$\n",
    "   The graph of this function is a two-dimensional surface with a critical point at every level $z\\in[0,1]$.\n",
    "\n",
    "5. **Global Extension:** Extending the definition of $H^\\ast$ on $[-1,1]^2$ from above, we now define $H^\\ast(x, y) = 1$ for all $(x, y) \\in \\mathbb{R}^2 \\setminus [-2,2]^2$, and use a $C^1$ transition function to smoothly interpolate over the rectangular region $[-2,2]^2 \\setminus [-1,1]^2$, resulting in a globally $C^1$ function.\n",
    "\n",
    "6. **Mapping to Spherical:** We next define $H$ in terms of spherical coordinates $(\\theta,\\psi)$ as $H(\\theta,\\psi):=H^\\ast(\\frac{\\pi}{2k}(\\theta+k),\\frac{\\pi}{k}(\\psi+k))$ for some suitably large $k$."
   ]
  },
  {
   "cell_type": "markdown",
   "id": "f6ff5cac-f0cd-4e8a-9ae2-a0bf316a5990",
   "metadata": {},
   "source": [
    "#### One-Dimensional Slice"
   ]
  },
  {
   "cell_type": "markdown",
   "id": "54506163-a9bf-485b-9709-ad25bef9b106",
   "metadata": {},
   "source": [
    "To construct the 1 dimensional function with critical points at every level $c \\in C$, we shall use a fractal construction for the derivative of $\\tilde{H}$ which involves carefully placing and summing spikes of precomputed areas.\n",
    "\n",
    "This spike construction shall then allow us to define a function whose integral has critical values at all levels in the Cantor set — a key fact which we shall later exploit to ensure that the level set of $f$ tangentially touches all small spheres around the origin."
   ]
  },
  {
   "cell_type": "markdown",
   "id": "dfe5f1f6-e92f-48c6-a23b-eb7852e46ed3",
   "metadata": {},
   "source": [
    "We start by letting $n\\in\\mathbb{N}_{>0}$ and $k \\in \\{0, 1, \\dots, 2^n - 1\\}$, and write the binary expansion of $k$ as:\n",
    "\n",
    "\\begin{equation}\\nonumber\n",
    "k = \\sum_{j=1}^n r_j \\cdot 2^{n-j}, \\quad \\text{where } r_j \\in \\{0,1\\}.\n",
    "\\end{equation}\n",
    "We then define:\n",
    "\\begin{equation}\\nonumber\n",
    "a_{n,k} := \\sum_{j=1}^n r_j \\cdot \\frac{3}{5} \\cdot \\left( \\frac{2}{5} \\right)^{j-1},\\quad\\text{and}\\quad b_{n,k} := a_{n,k} + \\left( \\frac{2}{5} \\right)^n.\n",
    "\\end{equation}"
   ]
  },
  {
   "cell_type": "markdown",
   "id": "1a33ae75-8894-410d-92d6-f252cb94cd23",
   "metadata": {},
   "source": [
    "\n",
    "Next, we define the following 'spike' function for $x \\in [0,1]$, $n \\in \\mathbb{N}_{>0}$, and $k \\in \\{0, \\dots, 2^{n-1} - 1\\}$:\n",
    "\n",
    "$$\n",
    "\\text{Spike}_{k,n}(x) = \n",
    "\\begin{cases}\n",
    "    0 & \\text{if } x \\leq \\frac{1}{2}(a_{n,k} + b_{n,k} - w_n), \\\\\n",
    "    2\\frac{h_n}{w_n} \\left(x - \\frac{1}{2}(a_{n,k} + b_{n,k} - w_n) \\right) & \\text{if } \\frac{1}{2}(a_{n,k} + b_{n,k} - w_n) \\leq x \\leq \\frac{1}{2}(a_{n,k} + b_{n,k}), \\\\\n",
    "    h_n - 2\\frac{h_n}{w_n} \\left(x - \\frac{1}{2}(a_{n,k} + b_{n,k}) \\right) & \\text{if } \\frac{1}{2}(a_{n,k} + b_{n,k}) \\leq x \\leq \\frac{1}{2}(a_{n,k} + b_{n,k} + w_n), \\\\\n",
    "    0 & \\text{if } x \\geq \\frac{1}{2}(a_{n,k} + b_{n,k} + w_n).\n",
    "\\end{cases}\n",
    "$$\n",
    "\n",
    "where the height and width are given by:\n",
    "\n",
    "$$\n",
    "h_n := 4 \\left( \\frac{5}{6} \\right)^{n+1}, \\qquad w_n := \\frac{2}{h_n \\cdot 3^{n+1}}.\n",
    "$$\n",
    "\n",
    "To give some intuition as to what this looks like, we provide the below example plot:"
   ]
  },
  {
   "cell_type": "code",
   "execution_count": null,
   "id": "7d2f91e5-36fd-466d-b4d2-e5fc59dd6413",
   "metadata": {},
   "outputs": [],
   "source": [
    "# Set spike parameters\n",
    "n = 0\n",
    "k = 0\n",
    "\n",
    "# Generate x-values for plotting\n",
    "x_vals = np.linspace(0, 1, 1000)\n",
    "\n",
    "# Evaluate the spike function\n",
    "y_vals = spike(x_vals, n, k)\n",
    "\n",
    "# Plot the spike function\n",
    "plt.plot(x_vals, y_vals)\n",
    "plt.title(f\"Spike function for n = {n}, k = {k}\")\n",
    "plt.xlabel(\"x\")\n",
    "plt.ylabel(f\"Spike_{{{k},{n}}}(x)\")\n",
    "plt.grid(True)\n",
    "plt.show()"
   ]
  },
  {
   "cell_type": "markdown",
   "id": "8804a9fb-3b74-4f8a-b9e7-091505ac3c08",
   "metadata": {},
   "source": [
    "The 'spike' function creates a triangular signal, with carefully chosen width and height, which encloses an area of exactly $(\\frac{2}{3})^{n+1}$."
   ]
  },
  {
   "cell_type": "markdown",
   "id": "751a941d-c307-497a-9c66-5bfb78a9b709",
   "metadata": {},
   "source": [
    "The position of the spikes have been specified to ensure that all spikes have disjoint support. Noting this, we define a function $h$ as follows:\n",
    "\n",
    "\\begin{equation}\\nonumber \n",
    "    h(x)= \\sum_{n=0}^{\\infty}\\sum_{i=0}^{2^n-1} \\text{Spike}_{k,n}(x).\n",
    "\\end{equation}"
   ]
  },
  {
   "cell_type": "code",
   "execution_count": null,
   "id": "6f23a051-7250-4072-bbed-0ecc5ef8f08f",
   "metadata": {},
   "outputs": [],
   "source": [
    "# Generate x-values for plotting\n",
    "x_vals = np.linspace(0, 1, 1000)\n",
    "\n",
    "# Compute approximation of h(x) using spikes up to level N_max = 6\n",
    "h_vals = compute_h(x_vals, N_max=6)\n",
    "\n",
    "# Plot the function h(x)\n",
    "plt.plot(x_vals, h_vals)\n",
    "plt.title(\"Approximation of h(x) with N_max = 6\")\n",
    "plt.xlabel(\"x\")\n",
    "plt.ylabel(\"h(x)\")\n",
    "plt.grid(True)\n",
    "plt.show()"
   ]
  },
  {
   "cell_type": "markdown",
   "id": "cc12b784-b4cf-4fe7-910e-ef66284c32c1",
   "metadata": {},
   "source": [
    "The function $h$ is a fractal consisting of infinitely many non-overlapping spikes. Due to the choices of $h_n$, $w_n$, $a_{n,k}$, and $b_{n,k}$ used in the construction, the spikes become shorter and narrower as $n$ increases. It is a straightforward exercise to verify that $h$ is continuous.\n",
    "\n",
    "The construction begins with a single spike of area $\\frac{2}{3}$, followed by 2 spikes of area $\\left(\\frac{2}{3}\\right)^2$, then 4 spikes of area $\\left(\\frac{2}{3}\\right)^3$, and so on. Noting this, a simple calculation shows that the total area under the graph of $h$ over $[0,1]$ is exactly $1$.\n",
    "\n",
    "Furthermore, as every $c \\in C$ can be expressed as a base 3 expansion using only $0$s and $2$s, or equivalently as a linear combination of powers of $\\frac{2}{3}$, it can be shown that, for all $c\\in C$, there exists an $x \\in [0,1]$ such that the cumulative area under $h$ from $0$ to $x$ is exactly $c$. This defines a bijection between $C$ and the set of zeros of $h$, where $h(x) = 0$ if and only if the cumulative area up to $x$ equals $c$.\n"
   ]
  },
  {
   "cell_type": "markdown",
   "id": "af0c31fe-6acc-42ce-b960-304a1223fc3b",
   "metadata": {},
   "source": [
    "Noting this, we now define $\\tilde{H}:[0,1]\\rightarrow [0,1]$ as follows:\n",
    "\n",
    "\\begin{equation}\\nonumber\n",
    "    \\tilde{H}(x):=\\int_{t=0}^x h(t)dt.\n",
    "\\end{equation}\n"
   ]
  },
  {
   "cell_type": "code",
   "execution_count": null,
   "id": "7f026911-b050-480a-85e0-99c85b1de3cc",
   "metadata": {},
   "outputs": [],
   "source": [
    "# Generate x-values for plotting\n",
    "x_vals = np.linspace(0, 1, 1000)\n",
    "\n",
    "# Compute the integral of h(x) to obtain \\tilde{H}(x)\n",
    "H_tilde_vals = compute_H_tilde(x_vals)\n",
    "\n",
    "# Plot the function \\tilde{H}(x)\n",
    "plt.plot(x_vals, H_tilde_vals)\n",
    "plt.title(r\"Approximation of $\\tilde{H}(x)$\")\n",
    "plt.xlabel(\"x\")\n",
    "plt.ylabel(r\"$\\tilde{H}(x)$\")\n",
    "plt.grid(True)\n",
    "plt.show()"
   ]
  },
  {
   "cell_type": "markdown",
   "id": "b6f1a331-55af-4cba-baed-04a8f6535c45",
   "metadata": {},
   "source": [
    "#### Symmetrization"
   ]
  },
  {
   "cell_type": "markdown",
   "id": "5adca683-cce6-4397-a9d9-13d8bd5a2315",
   "metadata": {},
   "source": [
    "We now extend the definition of $\\tilde{H}$ to $[-1,1]$ by taking $\\tilde{H}(x):=\\tilde{H}(-x)$ for $x<0$. Note that, as $\\tilde{H}'(0)=h(0)=0$, $\\tilde{H}$ is continuously differentiable on $[-1,1]$."
   ]
  },
  {
   "cell_type": "code",
   "execution_count": null,
   "id": "d60c3788-5777-4490-af69-45825cd06d46",
   "metadata": {},
   "outputs": [],
   "source": [
    "# Generate x-values over the symmetric domain [-1, 1]\n",
    "x_vals = np.linspace(-1, 1, 1000)\n",
    "\n",
    "# Compute the symmetrized \\tilde{H}(x)\n",
    "H_tilde_vals = compute_H_tilde(x_vals)\n",
    "\n",
    "# Plot the function \\tilde{H}(x)\n",
    "plt.plot(x_vals, H_tilde_vals)\n",
    "plt.title(r\"Symmetric Extension of $\\tilde{H}(x)$\")\n",
    "plt.xlabel(\"x\")\n",
    "plt.ylabel(r\"$\\tilde{H}(x)$\")\n",
    "plt.grid(True)\n",
    "plt.show()"
   ]
  },
  {
   "cell_type": "markdown",
   "id": "d535a8a8-2a89-4e48-abf2-ca4b080c89cd",
   "metadata": {},
   "source": [
    "By construction, $\\tilde{H}$ has critical points at every level of the Cantor set. \n"
   ]
  },
  {
   "cell_type": "markdown",
   "id": "3852703a-bd80-445a-816c-f8b0b59a0319",
   "metadata": {},
   "source": [
    "#### Product Function"
   ]
  },
  {
   "cell_type": "markdown",
   "id": "c6fe3442-bd0b-4c92-8ab8-8d6705a0a39d",
   "metadata": {},
   "source": [
    "Next, we define a two-dimensional function $H^\\ast:[-1,1]^2\\rightarrow [-1,1]$ by $H^\\ast(x,y):=\\frac{1}{2}(\\tilde{H}(x)+\\tilde{H}(y))$."
   ]
  },
  {
   "cell_type": "code",
   "execution_count": null,
   "id": "02e241b7-2aed-448c-8b80-9e9ab08d0770",
   "metadata": {},
   "outputs": [],
   "source": [
    "# Compute values of H*(x, y) over the grid defined by x_vals\n",
    "H_star_vals = compute_H_star(x_vals)\n",
    "\n",
    "# Plot the 3D surface of H*(x, y)\n",
    "plot_surface_3d(\n",
    "    H_star_vals,\n",
    "    x_vals,\n",
    "    downsample=2,\n",
    "    title=\"3D Surface with Critical Values in [0, 1]\",\n",
    "    z_title=\"H*(x, y) = (H̃(x) + H̃(y))/2\"\n",
    ")"
   ]
  },
  {
   "cell_type": "markdown",
   "id": "e7a6edc8-3b46-4257-94d1-e6b284ffe0ab",
   "metadata": {},
   "source": [
    "By exploiting a well known function of the Cantor set; $C+C=[0,2]$, it can be seen that $H$ has a critical value at every level $z\\in[0,1]$."
   ]
  },
  {
   "cell_type": "markdown",
   "id": "e790cb60-6e01-42b6-beac-8b3c65c28915",
   "metadata": {},
   "source": [
    "#### Global Extension"
   ]
  },
  {
   "cell_type": "markdown",
   "id": "774e27b5-8371-4039-8bb0-eaac9f4b701f",
   "metadata": {},
   "source": [
    "Next, we extend $H^\\ast$ to the entirety of $\\mathbb{R}^2$. This is achieved using the $C^1$ transition function $T(x)$ defined by:\n",
    "\n",
    "$$\n",
    "T(x):=\\begin{cases}\n",
    "0 & x \\leq 0, \\\\\n",
    "\\frac{x^2}{x^2+(1-x)^2} & 0 \\leq x \\leq 1, \\\\\n",
    "1 & 1 \\leq x. \\\\\n",
    "\\end{cases}\n",
    "$$\n",
    "\n",
    "We begin by extending $\\tilde{H}$ to $\\mathbb{R}$ by letting $\\tilde{H}(x)=1$ for $x \\not\\in[-1,1]^2$. Next, we extend the definition of $H^\\ast$ as follows:\n",
    "\n",
    "$$H^\\ast(x,y):=T\\bigg(d\\big((x,y),[-1,1]^2\\big)\\bigg)+\\frac{1}{2}\\bigg(1-T\\bigg(d\\big((x,y),[-1,1]^2\\big)\\bigg)\\bigg)(\\tilde{H}(x)+\\tilde{H}(y)),$$\n",
    "\n",
    "where $d(p,A):=\\inf_{a\\in A}|p-a|$ represents the Euclidean distance from the point $p$ to the set $A$. \n",
    "\n",
    "The above notation is dense, but much easier to understand when visualised. When $d((x,y),[-1,1]^2)\\geq 1$, we see that $H^\\ast(x,y)=1$, and when $(x,y)\\in [-1,1]^2$ we have that $d((x,y),[-1,1]^2)=0$ and thus $H^\\ast(x,y)=\\frac{1}{2}(\\tilde{H}(x)+\\tilde{H}(y))$, as before. In the intermediate region, the function smoothly transitions from $\\frac{1}{2}(\\tilde{H}(x)+\\tilde{H}(y))$ to $1$."
   ]
  },
  {
   "cell_type": "code",
   "execution_count": null,
   "id": "2913421d-4439-4835-b289-ca32ff2e00f5",
   "metadata": {
    "scrolled": true
   },
   "outputs": [],
   "source": [
    "# Define x and y values for the extended domain\n",
    "x_vals = np.linspace(-6, 6, 1000)\n",
    "y_vals = np.linspace(-6, 6, 1000)\n",
    "\n",
    "# Compute the globally extended H*(x, y)\n",
    "H_star_vals = compute_H_star_global(x_vals, y_vals)\n",
    "\n",
    "# Plot the extended 3D surface of H*(x, y)\n",
    "plot_surface_3d(\n",
    "    H_star_vals,\n",
    "    x_vals,\n",
    "    downsample=2,\n",
    "    title=\"3D Surface with Critical Values in [0, 1]\",\n",
    "    z_title=\"H*(x, y) = (H̃(x) + H̃(y)) / 2\"\n",
    ")"
   ]
  },
  {
   "cell_type": "markdown",
   "id": "7494edf3-96d6-464f-beb1-12396dcb934f",
   "metadata": {},
   "source": [
    "#### Mapping to Spherical"
   ]
  },
  {
   "cell_type": "markdown",
   "id": "8609fe29-47a2-453e-8ac9-884ed830e630",
   "metadata": {},
   "source": [
    "We next define $H$ in spherical coordinates $(\\theta,\\psi)$ by\n",
    "$$\n",
    "H(\\theta,\\psi) := H^*\\left(\\frac{\\pi}{2k}(\\theta + k),\\, \\frac{\\pi}{k}(\\psi + k)\\right)\n",
    "$$\n",
    "for some suitably large integer $k$. Geometrically, this corresponds to embedding a plane containing the critical structure of $H^*$, onto the surface of a sphere of radius 1. If $k$ is large, intuitively, one can think of this as removing a small 'panel' from the sphere and replacing it with a rescaled and curved version of $H^*$ that conforms to the spherical geometry. In the following plots we take a small value of $k$, $k=4$, which means the 'panel' is large enough to cover approximately half of the sphere.\n",
    "\n",
    "Before providing a 3D illustration, it is worth viewing the 2D analogue of the transformation, which is shown below.\n"
   ]
  },
  {
   "cell_type": "code",
   "execution_count": null,
   "id": "e3520c4b-527a-40f8-ab39-f22dc8b7ceb3",
   "metadata": {},
   "outputs": [],
   "source": [
    "# Generate x-values for plotting\n",
    "x_vals = np.linspace(-1, 1, 1000)\n",
    "\n",
    "# Compute h(x) for Cartesian plot\n",
    "h_vals = compute_H_tilde(x_vals)\n",
    "\n",
    "# Convert x-values to theta for polar plot\n",
    "theta_vals = (x_vals / 2 + 1) * np.pi\n",
    "\n",
    "# Compute r-values for polar plot using the same function\n",
    "r_vals = compute_H_tilde(x_vals)\n",
    "\n",
    "# Set up the figure with two subplots\n",
    "fig = plt.figure(figsize=(12, 5))\n",
    "\n",
    "# Cartesian subplot\n",
    "ax1 = fig.add_subplot(1, 2, 1)\n",
    "ax1.plot(x_vals, h_vals)\n",
    "ax1.set_title(\"Cartesian: y = H̃(x)\")\n",
    "ax1.set_xlabel(\"x\")\n",
    "ax1.set_ylabel(\"H̃(x)\")\n",
    "ax1.grid(True)\n",
    "\n",
    "# Polar subplot\n",
    "ax2 = fig.add_subplot(1, 2, 2, projection='polar')\n",
    "ax2.plot(theta_vals, r_vals)\n",
    "ax2.set_title(\"Polar: r = H̃(θ)\")\n",
    "\n",
    "# Adjust layout\n",
    "plt.tight_layout()\n",
    "plt.show()"
   ]
  },
  {
   "cell_type": "markdown",
   "id": "df9c0ba2-7e12-4162-8996-5cf635ea4f3c",
   "metadata": {},
   "source": [
    "In the above, we have treated the function $\\tilde{H}:[-1,1]\\rightarrow [0,1]$ as a function of polar coordinates rather than Cartesian coordinates. In doing so, we transform a function graph which is tangent to every plane of the form $y=c, c \\in C$ to a function graph which is tangent to *every ball* of radius $c$ for $c\\in C$.\n",
    "\n",
    "The same trick is employed in three dimensions using $H^\\ast$ to create the below plot. This plot illustrates the surface $r=H(\\theta,\\psi)$, which by construction is tangent to every sphere with radius in $[0,1]$."
   ]
  },
  {
   "cell_type": "code",
   "execution_count": null,
   "id": "1f80476c-81db-4126-819b-fa917059d1d6",
   "metadata": {},
   "outputs": [],
   "source": [
    "# Resolution for the grid\n",
    "res = 1000\n",
    "\n",
    "# Angular coordinates in spherical coordinates\n",
    "# The small offset (0.2) avoids gaps from floating-point rounding\n",
    "theta_vals = np.linspace(0, np.pi + 0.2, res)\n",
    "psi_vals = np.linspace(0, 2 * np.pi + 0.2, res)\n",
    "\n",
    "# Scaling factor for coordinate transformation\n",
    "k = 4\n",
    "\n",
    "# Convert spherical angles to x, y for computing H^*\n",
    "x_vals = k * (2 * theta_vals / np.pi - 1)\n",
    "y_vals = k * (psi_vals / np.pi - 1)\n",
    "\n",
    "# Compute radial values using extended H^* on the transformed domain\n",
    "R = compute_H_star_global(x_vals, y_vals)\n",
    "\n",
    "# Create a meshgrid of spherical coordinates (theta, psi)\n",
    "Theta, Psi = np.meshgrid(theta_vals, psi_vals, indexing='ij')\n",
    "\n",
    "# Convert spherical coordinates to Cartesian for visualization\n",
    "X = R * np.sin(Theta) * np.cos(Psi)\n",
    "Y = R * np.sin(Theta) * np.sin(Psi)\n",
    "Z = R * np.cos(Theta)\n",
    "\n",
    "# Plot the surface in 3D\n",
    "plot_surface_3d(\n",
    "    Z, X, Y,\n",
    "    downsample=2\n",
    ")"
   ]
  },
  {
   "cell_type": "markdown",
   "id": "3beb7e3e-695f-4822-92d2-1279faba6333",
   "metadata": {},
   "source": [
    "Our goal is now to construct a function which has only a single isolated critical point at the origin and possesses the above spherical surface as its level set."
   ]
  },
  {
   "cell_type": "markdown",
   "id": "35d22970-b79c-4073-b288-8263a5d348d0",
   "metadata": {},
   "source": [
    "### Step 2: Constructing $f$\n",
    "\n",
    "We now construct a function $f : [0,\\infty) \\times [0,\\pi] \\times [0,2\\pi) \\rightarrow \\mathbb{R}$ whose zero level set corresponds to the surface defined by $H$, that is,\n",
    "$$\n",
    "f^{-1}(0) = \\{ (r, \\theta, \\psi) \\mid r = H(\\theta, \\psi) \\},\n",
    "$$\n",
    "such that $f$ has vanishing gradient at the origin, and non-vanishing gradient in a neighborhood around the origin, excluding the origin itself.\n",
    "\n"
   ]
  },
  {
   "cell_type": "markdown",
   "id": "f2f0a521-9d8e-40b8-963b-2c3ee50577aa",
   "metadata": {},
   "source": [
    "To do so, we first define another function $T^*:\\mathbb{R}^2\\rightarrow [0,1]$. We construct $T^*$ in a similar fashion to $H^*$ using the previously defined $T:\\mathbb{R}\\rightarrow [0,1]$. First, we define $\\tilde{T}:\\mathbb{R}\\rightarrow [0,1]$ as the even function $\\tilde{T}(x):=T(|x|)$."
   ]
  },
  {
   "cell_type": "code",
   "execution_count": null,
   "id": "c0865634-35c4-482d-ab17-3a9223910e81",
   "metadata": {},
   "outputs": [],
   "source": [
    "# Generate x-values for plotting\n",
    "x_values = np.linspace(-2, 2, 1000)\n",
    "\n",
    "# Compute the even extension of T(x)\n",
    "T_values = compute_T_tilde(x_values)\n",
    "\n",
    "# Plot the function \\tilde{T}(x)\n",
    "plt.plot(x_values, T_values, label=r\"$\\tilde{T}(x)$\")\n",
    "plt.title(r\"Plot of $\\tilde{T}(x) = T(|x|)$\")\n",
    "plt.xlabel(r\"$x$\")\n",
    "plt.ylabel(r\"$\\tilde{T}(x)$\")\n",
    "plt.grid(True)\n",
    "plt.legend()\n",
    "plt.show()"
   ]
  },
  {
   "cell_type": "markdown",
   "id": "43b40248-2fa8-446a-b363-caf161a9a330",
   "metadata": {},
   "source": [
    "Next, we define $T^*:\\mathbb{R}\\rightarrow [0,1]$ to be equal to $\\frac{1}{2}(\\tilde{T}(x)+\\tilde{T}(y))$ on $[-1,1]^2$, $1$ on $\\mathbb{R}^2\\setminus [-2,2]^2$. We define $T^*$ on $[-2,2]^2\\setminus[-1,1]^2$ using the same $C^1$ extension procedure as used in the construction of $H^*$. The below properties are immediate consequences of the definition.\n",
    "\n",
    " - If $(x,y)\\neq (0,0)$, then $T^*(x,y)>0$.\n",
    " - For $x\\in(0,1)$, we have\n",
    "   $$\\frac{\\partial T^*}{\\partial x}(x,y)=\\frac{1}{2}\\tilde{T}'(x) >0,$$\n",
    "   with the analogous statement holding for $y\\in(0,1)$."
   ]
  },
  {
   "cell_type": "code",
   "execution_count": null,
   "id": "e3935b18-aacc-4ae0-91f6-d96ad08ea5a3",
   "metadata": {
    "scrolled": true
   },
   "outputs": [],
   "source": [
    "# Generate x and y values over the square domain\n",
    "x_vals = np.linspace(-1, 1, 400)\n",
    "y_vals = np.linspace(-1, 1, 400)\n",
    "\n",
    "# Compute the 2D extension T*(x, y) and transpose for plotting\n",
    "T_vals = compute_T_star(x_vals, y_vals).T\n",
    "\n",
    "# Plot the 3D surface of T*(x, y)\n",
    "plot_surface_3d(\n",
    "    T_vals,\n",
    "    x_vals,\n",
    "    y_vals,\n",
    "    downsample=1,\n",
    "    title=\"3D Surface of T*(x, y)\",\n",
    "    z_title=\"T*(x, y) = T̃(x) + T̃(y)\"\n",
    ")"
   ]
  },
  {
   "cell_type": "markdown",
   "id": "7aa1968f-24df-40f7-b476-885e61c5e215",
   "metadata": {},
   "source": [
    "Next, we define $f^\\ast:\\mathbb{R}^2 \\times \\mathbb{R}_{\\geq 0} \\rightarrow \\mathbb{R}$ in cartesian coordinates as:\n",
    "\n",
    "$$f^\\ast(x,y,z):=-T^\\ast(x,y)(z-H^\\ast(x,y))z^2-\\mathbb{1}[z> H^\\ast(x,y)](z-H^\\ast(x,y))^2,$$\n",
    "\n",
    "where $\\mathbb{1}[A]$ is the indicator function which evaluates to $1$ if the $A$ is true and $0$ otherwise."
   ]
  },
  {
   "cell_type": "markdown",
   "id": "33ec4675-bbc8-4dec-8e1a-673090bd0da4",
   "metadata": {},
   "source": [
    "The above is difficult to visualise. To aid understanding the below function creates 3D plots of different slices of $f^\\ast$. For instance, to view the slice $x=c$ you can use the inputs `axis='x'` and `slice_value=c`."
   ]
  },
  {
   "cell_type": "code",
   "execution_count": null,
   "id": "b7ce6383-ef0e-484d-bb6e-630fcd9f2608",
   "metadata": {
    "scrolled": true
   },
   "outputs": [],
   "source": [
    "# Plot a slice of f* at y = 0.2\n",
    "plot_slice_of_f_star(axis='y', slice_value=0.2)"
   ]
  },
  {
   "cell_type": "markdown",
   "id": "887149ff-deb7-4da8-a285-0ff931504f53",
   "metadata": {},
   "source": [
    "Note that as $f^\\ast$ is a composition of $C^1$ functions, it is $C^1$. We now verify three key properties of $f^\\ast$, which ensure the zero level set behaves as required and that the gradient vanishes only at the origin.\n",
    "\n",
    " 1. The preimage under $f^\\ast$ of $0$ is\n",
    "    $$(f^\\ast)^{-1}(0)=\\{(x,y,z):z=H^\\ast(x,y)\\}\\cup \\{(x,y,z):z=0\\}.$$\n",
    " 2. For all $x,y\\in\\mathbb{R}$, the gradient of $f^\\ast$ at $(x,y,0)$ is\n",
    "    $$\\nabla f^\\ast(x,y,0)=0.$$\n",
    " 3. For all $x,y\\in\\mathbb{R}$ and $z\\in(0,\\frac{1}{3})$, the gradient of $f^\\ast$ at $(x,y,z)$ is nonzero.\n",
    "\n",
    "These properties shall also be crucial in the following sections, where we shall consider the function $f^\\ast$ applied to spherical coordinates."
   ]
  },
  {
   "cell_type": "markdown",
   "id": "a0a1df65-b32d-4297-abea-2d903e2e6447",
   "metadata": {},
   "source": [
    "##### Proof of Property 1\n",
    "\n",
    "Consider $(x,y,z)\\in\\mathbb{R}^2 \\times \\mathbb{R}_{\\geq 0}$ and suppose first that $z>H^\\ast(x,y)$. Then we have that:\n",
    "$$f^\\ast(x,y,z)=-T^\\ast(x,y)(z-H^\\ast(x,y))z^2 - (z-H^\\ast(x,y))^2.$$\n",
    "However, by assumption the second term is strictly negative and the first term is non-positive (allowing for the possibility $T^\\ast(x,y)=0$). It follows that the above is strictly negative and, thus, nonzero.\n",
    "\n",
    "Next, suppose that $z \\leq H^\\ast(x,y)$. Then we have\n",
    "$$f^\\ast(x,y,z)=-T^\\ast(x,y)(z-H^\\ast(x,y))z^2,$$\n",
    "which equals zero if and only if either $T^\\ast(x,y)=0$, $z=H^\\ast(x,y)$, or $z=0$. However, unpacking the definitions we see that\n",
    "$$T^\\ast(x,y)=0 \\quad \\implies\\quad (x,y)=(0,0) \\quad\\implies H^\\ast(x,y) = 0 \\quad \\implies \\quad 0\\leq z \\leq H^\\ast(x,y)=0 \\quad \\implies \\quad z=0.$$\n",
    "Thus $f^\\ast(x,y,z)=0$ if and only if either $z=H^\\ast(x,y)$ or $z=0$, as desired."
   ]
  },
  {
   "cell_type": "markdown",
   "id": "ab7a303c-db5f-4bdd-bdf6-d02717347143",
   "metadata": {},
   "source": [
    "##### Proof of Property 2\n",
    "\n",
    "Assume $x,y\\in \\mathbb{R}_{\\geq 0}$ and $z\\in (0,1)$. Differentiating $f^\\ast$ with respect to $z$ yields:\n",
    "\n",
    "$$\\frac{\\partial f^\\ast}{\\partial z}(x,y,z)=-T^\\ast(x,y)(3z-2H^\\ast(x,y))z-\\mathbb{1}[z> H^\\ast(x,y)]2(z-H^\\ast(x,y))$$\n",
    "\n",
    "Plugging in $z=0$ and noting that $H^\\ast(x,y)\\geq 0$ by definition, we see that the above equals zero. Now, consider the partial derivative with respect to $x$.\n",
    "\n",
    "$$\\frac{\\partial f^\\ast}{\\partial x}(x,y,z)=-\\frac{\\partial T^\\ast}{\\partial x}(x,y)(z-H^\\ast(x,y))z^2+T^\\ast(x,y)\\frac{\\partial H^\\ast}{\\partial x}(x,y)z^2+\\mathbb{1}[z>H^\\ast(x,y)]H^\\ast(x,y)\\frac{\\partial H^\\ast}{\\partial x}(x,y)$$\n",
    "\n",
    "Again substituting $z=0$ yields the partial derivative is zero. A similar derivation holds for the partial derivative with respect to $y$."
   ]
  },
  {
   "cell_type": "markdown",
   "id": "761778b4-5cf5-47da-9b05-44c1ec94800a",
   "metadata": {},
   "source": [
    "##### Proof of Property 3 \n",
    "\n",
    "Assume $x,y\\in \\mathbb{R}_{\\geq 0}$ and $z\\in (0,1)$, and consider the partial derivative of $f^\\ast$ with respect to $x$ given in the proof of Property 2.\n",
    "\n",
    "Suppose it were the case that $z > H^\\ast(x,y)$. Then we have that $3z-2H^\\ast(x,y)\\geq H^\\ast(x,y) \\geq 0$ and $2(z-H^\\ast(x,y))>0$. As $T^\\ast(x,y)\\geq 0$ by construction, it follows that the above partial derivative is the sum of a non-positive term and a strictly negative term. It follows that it is strictly negative, and thus nonzero.\n",
    "\n",
    "Now, suppose that $z \\leq H^\\ast(x,y)$. Then the above is equal to zero if and only if one of the following conditions hold:\n",
    " - $T^\\ast(x,y)=0$\n",
    " - $3z-2H^\\ast(x,y)=0$\n",
    " - $z=0$\n",
    "\n",
    "In the first case, note that $T^\\ast(x,y) = 0$ if and only if $x=y=0$. However, this implies $H^\\ast(x,y)=0<z$, which contradicts the assumption that $z \\leq H^\\ast(x,y)$. Therefore, the first case cannot happen. Similarly, the third case is ruled out by the fact that $z\\in (0,1)$. Thus, we need only consider the second.\n",
    "\n",
    "Next, consider the partial derivative with respect to $x$. Evaluating this at $z=\\frac{2}{3}H^\\ast(x,y)$ gives the following:\n",
    "\n",
    "$$\\frac{\\partial f^\\ast}{\\partial x}\\bigg(x,y,\\frac{2}{3}H^\\ast(x,y)\\bigg)=\\frac{4}{27}\\frac{\\partial T^\\ast}{\\partial x}(x,y)H^\\ast(x,y)^3+\\frac{4}{9}(T^\\ast(x,y))\\frac{\\partial H^\\ast}{\\partial x}(x,y)H^\\ast(x,y)^2$$\n",
    "\n",
    "\\begin{equation}\\nonumber\n",
    "=\\frac{4}{9}H^\\ast(x,y)^2\\bigg(\\frac{1}{3}\\frac{\\partial T^\\ast}{\\partial x}(x,y)H^\\ast(x,y)+T^\\ast(x,y)\\frac{\\partial H^\\ast}{\\partial x}(x,y)\\bigg).\n",
    "\\end{equation}\n",
    "\n",
    "By assumption we have $z>0$, and thus $H^\\ast(x,y)=\\frac{3}{2}z>0$. Suppose $(x,y)\\in (0,1)\\times [0,1)$. Then \n",
    "\n",
    "\\begin{equation}\n",
    "\\frac{\\partial T^\\ast}{\\partial x}(x,y)=\\tilde{S}'(x)>0, \\quad T^\\ast(x,y)=\\frac{1}{2}(\\tilde{S}(x)+\\tilde{S}(y))>0\\quad\\text{ and }\\quad\\frac{\\partial H^\\ast}{\\partial x}(x,y)=\\tilde{H}'(x)\\geq 0.\n",
    "\\end{equation}\n",
    "Thus, we have that the partial derivative with respect to $x$ is positive. By identical reasoning, we have that if $(x,y)\\in [0,1)\\times (0,1)$ then:\n",
    "$$\\frac{\\partial f^\\ast}{\\partial y}\\bigg(x,y,\\frac{2}{3}H^\\ast(x,y)\\bigg)>0.$$\n",
    "\n",
    "Combining the above we see that the only way for the partial derivatives with respect to $x,y$ and $z$ to be simultaneously zero is if:\n",
    "\n",
    "$$(x>1 \\quad\\text{or}\\quad y> 1)\\quad \\text{and}\\quad z=\\frac{2}{3}H^\\ast(x,y).$$\n",
    "\n",
    "(Note that the case $x=y=0$ is ruled out as this would imply $z=\\frac{2}{3}H^\\ast(x,y)=0$, which would contradict the assumption that $z>0$.) The above conditions, when taken together imply that $z\\geq \\frac{1}{3}$. Finally, we note that we can extend this argument to $x,y\\in \\mathbb{R}$ by noting that $f^\\ast$ is even in $x$ and $y$. It now follows that $\\nabla f^\\ast(x,y,z) \\neq 0$ for $z\\in(0,\\frac{1}{3})$."
   ]
  },
  {
   "cell_type": "markdown",
   "id": "71568699-3a4d-4598-bbd3-0b4d9cb7bd79",
   "metadata": {},
   "source": [
    "We are now in a position to define $f:[0,\\infty) \\times [0,\\pi] \\times [0,2\\pi)\\rightarrow \\mathbb{R}$ in terms of spherical coordinates as:\n",
    "\n",
    "$$\n",
    "f(r,\\theta,\\psi) := f^*\\left(\\frac{\\pi}{2k}(\\theta + k),\\, \\frac{\\pi}{k}(\\psi + k), 3r\\right)\n",
    "$$\n",
    "\n",
    "We note that, by construction, $f(0,\\theta,\\psi)=0$ for all $\\theta$ and $\\psi$. Further, for $(r,\\theta,\\psi)\\not\\in [0,\\infty) \\times[\\frac{\\pi}{4},\\frac{3\\pi}{4}]\\times [\\frac{\\pi}{2},\\frac{3\\pi}{2}]$ we have\n",
    "\n",
    "$$f(r,\\theta,\\psi)=-9(3r-1)r^2 -\\mathbb{1}[3r> 1](3r-1)^2.$$\n",
    "\n",
    "From this, it is easily follows that $f$ is a well defined function in terms of spherical coordinates. Further, by considering properties 2 and 3 of $f^\\ast$, we see that $f$ is $C^1$ and has a single critical point at the origin. Finally, noting property 1, we see that $f^{-1}(0)$ is the desired level set."
   ]
  },
  {
   "cell_type": "markdown",
   "id": "736f66cf-5cf2-4b78-be9e-df22f996d733",
   "metadata": {},
   "source": [
    "The below code plots slices of $f$ along the (Cartesian) $z$-axis."
   ]
  },
  {
   "cell_type": "code",
   "execution_count": null,
   "id": "8db03a27-bc2b-4f0b-80e1-afcca1de1ef8",
   "metadata": {},
   "outputs": [],
   "source": [
    "# Define the z-slice to visualize\n",
    "z_slice = 0\n",
    "\n",
    "# Set resolution (higher value = finer detail, but slower rendering)\n",
    "res = 300\n",
    "\n",
    "# Plot a 2D slice of f at the specified z-value\n",
    "plot_z_slice_of_f(z_slice, res)"
   ]
  },
  {
   "cell_type": "markdown",
   "id": "e135172d-cf79-438d-9a41-bd80765ce805",
   "metadata": {},
   "source": [
    "This concludes the construction."
   ]
  }
 ],
 "metadata": {
  "kernelspec": {
   "display_name": "Python 3 (ipykernel)",
   "language": "python",
   "name": "python3"
  },
  "language_info": {
   "codemirror_mode": {
    "name": "ipython",
    "version": 3
   },
   "file_extension": ".py",
   "mimetype": "text/x-python",
   "name": "python",
   "nbconvert_exporter": "python",
   "pygments_lexer": "ipython3",
   "version": "3.12.7"
  }
 },
 "nbformat": 4,
 "nbformat_minor": 5
}
